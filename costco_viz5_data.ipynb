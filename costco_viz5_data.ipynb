{
 "cells": [
  {
   "cell_type": "code",
   "execution_count": 1,
   "id": "3d7292d6-ea5e-4a16-9d4c-b0fbf41b8def",
   "metadata": {},
   "outputs": [],
   "source": [
    "import pandas as pd\n",
    "import re\n",
    "\n",
    "df = pd.read_csv(\"cleaned_costco_data.csv\")"
   ]
  },
  {
   "cell_type": "code",
   "execution_count": 2,
   "id": "adb9f07b-ca5f-42ba-8064-59a0073d257b",
   "metadata": {},
   "outputs": [],
   "source": [
    "keywords = [\"organic\", \"gluten free\", \"gluten-free\", \"GF\", \"vegan\", \"non-GMO\", \"non GMO\", \"kosher\", \"no added preservatives\",  \"no preservatives\", \"fat free\", \"fat-free\", \"low-fat\", \"low fat\", \"less fat\", \"reduced fat\", \"unsweetened\", \"no sugar added\", \"zero sugar\", \"sugar-free\", \"sugar free\"]"
   ]
  },
  {
   "cell_type": "code",
   "execution_count": 3,
   "id": "2a018b4d-5a13-410e-a440-3bb1131efe58",
   "metadata": {},
   "outputs": [],
   "source": [
    "def count_keywords(text1, text2, keywords):\n",
    "    combined_text = f\"{text1} {text2}\".lower() if pd.notnull(text1) and pd.notnull(text2) else str(text1).lower() if pd.notnull(text1) else str(text2).lower()\n",
    "    return {kw: int(bool(re.search(rf\"\\b{kw}\\b\", combined_text))) for kw in keywords}\n",
    "\n",
    "keyword_counts = df.apply(lambda row: count_keywords(row[\"Product Description\"], row[\"Feature\"], keywords), axis=1)\n",
    "keyword_df = pd.DataFrame(keyword_counts.tolist())\n",
    "\n",
    "df = pd.concat([df, keyword_df], axis=1)"
   ]
  },
  {
   "cell_type": "code",
   "execution_count": 4,
   "id": "aebd4645-8cc0-4dc1-b112-b8080ef8ebf7",
   "metadata": {},
   "outputs": [],
   "source": [
    "price_bins = [0, 15, 30, 50, 100, 200, float('inf')]\n",
    "price_labels = [\"<$15\", \"$15-30\", \"$30-50\", \"$50-100\", \"$100-200\", \">$200\"]\n",
    "\n",
    "df[\"price_category\"] = pd.cut(df[\"Price\"], bins=price_bins, labels=price_labels, right=False)"
   ]
  },
  {
   "cell_type": "code",
   "execution_count": 5,
   "id": "73ddbfb6-d3ba-4b21-9fd5-df4b9e60ba6b",
   "metadata": {},
   "outputs": [],
   "source": [
    "keyword_groups = {\n",
    "    \"organic\": [\"organic\"],\n",
    "    \"gluten-free\": [\"gluten free\", \"gluten-free\", \"GF\"],\n",
    "    \"vegan\": [\"vegan\"],\n",
    "    \"kosher\": [\"kosher\"],\n",
    "    \"non-GMO\": [\"non-GMO\", \"non GMO\"],\n",
    "    \"no-preservatives\": [\"no added preservatives\", \"no preservatives\"],\n",
    "    \"low-fat\": [\"low-fat\", \"low fat\", \"reduced fat\", \"less fat\", \"fat free\", \"fat-free\"],\n",
    "    \"sugar-free\": [\"unsweetened\", \"no sugar added\", \"zero sugar\", \"sugar-free\", \"sugar free\"]\n",
    "}"
   ]
  },
  {
   "cell_type": "code",
   "execution_count": 6,
   "id": "9af6403a-2856-4df8-aab8-beb8822a7f77",
   "metadata": {},
   "outputs": [
    {
     "name": "stdout",
     "output_type": "stream",
     "text": [
      "  price_category  organic  gluten-free  vegan  kosher  non-GMO  \\\n",
      "0           <$15       63           93     21     187        0   \n",
      "1         $15-30       44           91     15     150        0   \n",
      "2         $30-50       47           61     15      76        0   \n",
      "3        $50-100       11           26     11      31        0   \n",
      "4       $100-200        3           12      1       5        0   \n",
      "5          >$200        0            5      1       5        0   \n",
      "\n",
      "   no-preservatives  low-fat  sugar-free  \n",
      "0                16       15          32  \n",
      "1                 9       23          23  \n",
      "2                20        3          14  \n",
      "3                16        0           2  \n",
      "4                 9        1           0  \n",
      "5                 2        0           0  \n"
     ]
    },
    {
     "name": "stderr",
     "output_type": "stream",
     "text": [
      "/var/folders/yl/bv64gk011rsbwmhj2blmwppw0000gn/T/ipykernel_56350/2174072265.py:8: FutureWarning: The default of observed=False is deprecated and will be changed to True in a future version of pandas. Pass observed=False to retain current behavior or observed=True to adopt the future default and silence this warning.\n",
      "  keyword_summary = df_combined.groupby(\"price_category\").sum().reset_index()\n"
     ]
    }
   ],
   "source": [
    "combined_keyword_counts = pd.DataFrame()\n",
    "\n",
    "for new_col, old_cols in keyword_groups.items():\n",
    "    combined_keyword_counts[new_col] = df[old_cols].sum(axis=1)\n",
    "\n",
    "df_combined = pd.concat([df[[\"price_category\"]], combined_keyword_counts], axis=1)\n",
    "\n",
    "keyword_summary = df_combined.groupby(\"price_category\").sum().reset_index()\n",
    "\n",
    "print(keyword_summary)"
   ]
  },
  {
   "cell_type": "code",
   "execution_count": 7,
   "id": "f7550ffe-8e6d-4336-a7d7-bd18bcf8cb27",
   "metadata": {},
   "outputs": [],
   "source": [
    "df_combined.to_csv(\"updated_keywords_price_data.csv\", index=False)"
   ]
  }
 ],
 "metadata": {
  "kernelspec": {
   "display_name": "Python 3 (ipykernel)",
   "language": "python",
   "name": "python3"
  },
  "language_info": {
   "codemirror_mode": {
    "name": "ipython",
    "version": 3
   },
   "file_extension": ".py",
   "mimetype": "text/x-python",
   "name": "python",
   "nbconvert_exporter": "python",
   "pygments_lexer": "ipython3",
   "version": "3.10.13"
  }
 },
 "nbformat": 4,
 "nbformat_minor": 5
}
