{
 "cells": [
  {
   "cell_type": "code",
   "execution_count": 72,
   "id": "3d7292d6-ea5e-4a16-9d4c-b0fbf41b8def",
   "metadata": {},
   "outputs": [],
   "source": [
    "import pandas as pd\n",
    "import re\n",
    "\n",
    "df = pd.read_csv(\"cleaned_costco_data.csv\")"
   ]
  },
  {
   "cell_type": "code",
   "execution_count": 73,
   "id": "adb9f07b-ca5f-42ba-8064-59a0073d257b",
   "metadata": {},
   "outputs": [],
   "source": [
    "keywords = [\"organic\", \"gluten free\", \"gluten-free\", \"GF\", \"vegan\", \"non-GMO\", \"non GMO\", \"kosher\", \"no added preservatives\",  \"no preservatives\", \"fat free\", \"fat-free\", \"low-fat\", \"low fat\", \"less fat\", \"reduced fat\", \"unsweetened\", \"no sugar added\", \"zero sugar\", \"sugar-free\", \"sugar free\"]"
   ]
  },
  {
   "cell_type": "code",
   "execution_count": 74,
   "id": "2a018b4d-5a13-410e-a440-3bb1131efe58",
   "metadata": {},
   "outputs": [],
   "source": [
    "def count_keywords(text1, text2, keywords):\n",
    "    combined_text = f\"{text1} {text2}\".lower() if pd.notnull(text1) and pd.notnull(text2) else str(text1).lower() if pd.notnull(text1) else str(text2).lower()\n",
    "    return {kw: int(bool(re.search(rf\"\\b{kw}\\b\", combined_text))) for kw in keywords}\n",
    "\n",
    "# Apply function to create keyword presence columns\n",
    "keyword_counts = df.apply(lambda row: count_keywords(row[\"Product Description\"], row[\"Feature\"], keywords), axis=1)\n",
    "\n",
    "# Convert dictionary into a DataFrame\n",
    "keyword_df = pd.DataFrame(keyword_counts.tolist())\n",
    "\n",
    "# Merge with original data\n",
    "df = pd.concat([df, keyword_df], axis=1)"
   ]
  },
  {
   "cell_type": "code",
   "execution_count": 75,
   "id": "aebd4645-8cc0-4dc1-b112-b8080ef8ebf7",
   "metadata": {},
   "outputs": [],
   "source": [
    "# Define price thresholds using tertiles (33rd and 66th percentiles)\n",
    "low_threshold = df[\"Price\"].quantile(0.33)\n",
    "high_threshold = df[\"Price\"].quantile(0.66)\n",
    "\n",
    "# Create a new column classifying products into three price categories\n",
    "def classify_price(price):\n",
    "    if price < low_threshold:\n",
    "        return \"Low-priced\"\n",
    "    elif price < high_threshold:\n",
    "        return \"Mid-priced\"\n",
    "    else:\n",
    "        return \"High-priced\"\n",
    "\n",
    "df[\"price_category\"] = df[\"Price\"].apply(classify_price)"
   ]
  },
  {
   "cell_type": "code",
   "execution_count": 76,
   "id": "73ddbfb6-d3ba-4b21-9fd5-df4b9e60ba6b",
   "metadata": {},
   "outputs": [],
   "source": [
    "keyword_groups = {\n",
    "    \"organic\": [\"organic\"],\n",
    "    \"gluten-free\": [\"gluten free\", \"gluten-free\", \"GF\"],\n",
    "    \"vegan\": [\"vegan\"],\n",
    "    \"kosher\": [\"kosher\"],\n",
    "    \"non-GMO\": [\"non-GMO\", \"non GMO\"],\n",
    "    \"no-preservatives\": [\"no added preservatives\", \"no preservatives\"],\n",
    "    \"low-fat\": [\"low-fat\", \"low fat\", \"reduced fat\", \"less fat\", \"fat free\", \"fat-free\"],\n",
    "    \"sugar-free\": [\"unsweetened\", \"no sugar added\", \"zero sugar\", \"sugar-free\", \"sugar free\"]\n",
    "}"
   ]
  },
  {
   "cell_type": "code",
   "execution_count": 77,
   "id": "9af6403a-2856-4df8-aab8-beb8822a7f77",
   "metadata": {},
   "outputs": [
    {
     "name": "stdout",
     "output_type": "stream",
     "text": [
      "  price_category  organic  gluten-free  vegan  kosher  non-GMO  \\\n",
      "0    High-priced       35           74     19      65        0   \n",
      "1     Low-priced       68          108     23     223        0   \n",
      "2     Mid-priced       65          106     22     166        0   \n",
      "\n",
      "   no-preservatives  low-fat  sugar-free  \n",
      "0                35        1           7  \n",
      "1                19       25          35  \n",
      "2                18       16          29  \n"
     ]
    }
   ],
   "source": [
    "combined_keyword_counts = pd.DataFrame()\n",
    "\n",
    "for new_col, old_cols in keyword_groups.items():\n",
    "    combined_keyword_counts[new_col] = df[old_cols].sum(axis=1)\n",
    "\n",
    "df_combined = pd.concat([df[[\"price_category\"]], combined_keyword_counts], axis=1)\n",
    "\n",
    "keyword_summary = df_combined.groupby(\"price_category\").sum().reset_index()\n",
    "\n",
    "print(keyword_summary)"
   ]
  },
  {
   "cell_type": "code",
   "execution_count": 78,
   "id": "f7550ffe-8e6d-4336-a7d7-bd18bcf8cb27",
   "metadata": {},
   "outputs": [],
   "source": [
    "df_combined.to_csv(\"updated_keywords_price_data.csv\", index=False)"
   ]
  }
 ],
 "metadata": {
  "kernelspec": {
   "display_name": "Python 3 (ipykernel)",
   "language": "python",
   "name": "python3"
  },
  "language_info": {
   "codemirror_mode": {
    "name": "ipython",
    "version": 3
   },
   "file_extension": ".py",
   "mimetype": "text/x-python",
   "name": "python",
   "nbconvert_exporter": "python",
   "pygments_lexer": "ipython3",
   "version": "3.10.13"
  }
 },
 "nbformat": 4,
 "nbformat_minor": 5
}
