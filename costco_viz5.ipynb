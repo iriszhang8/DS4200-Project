{
 "cells": [
  {
   "cell_type": "code",
   "execution_count": 46,
   "id": "bfa1e76e-7663-4ff9-a302-0debb4f0bf31",
   "metadata": {},
   "outputs": [],
   "source": [
    "import pandas as pd\n",
    "import numpy as np\n",
    "import plotly.express as px"
   ]
  },
  {
   "cell_type": "code",
   "execution_count": 47,
   "id": "f725f65e-be45-44bc-82a8-8733dfaadbf4",
   "metadata": {},
   "outputs": [],
   "source": [
    "df = pd.read_csv(\"cleaned_grocery_data_with_reviews.csv\")\n",
    "df.columns = df.columns.str.strip().str.lower().str.title()\n",
    "\n",
    "#discount status label\n",
    "df[\"Discount Status\"] = df[\"Discount\"].map({1: \"Discounted\", 0: \"Full Price\"})\n",
    "df = df[\n",
    "    (df[\"Rating\"].between(0, 5)) &\n",
    "    (df[\"Price\"] <= 1000)\n",
    "].copy()"
   ]
  },
  {
   "cell_type": "code",
   "execution_count": 48,
   "id": "86bc84bb-b843-4c89-bfba-2d01478fa278",
   "metadata": {},
   "outputs": [
    {
     "data": {
      "application/vnd.plotly.v1+json": {
       "config": {
        "plotlyServerURL": "https://plot.ly"
       },
       "data": [
        {
         "customdata": [
          [
           "David’s Cookies Mile High Peanut Butter Cake, 6.8 lbs (14 Servings)"
          ],
          [
           "The Cake Bake Shop 8\" Round Carrot Cake (16-22 Servings)"
          ],
          [
           "St Michel Madeleine, Classic French Sponge Cake 100 - count"
          ],
          [
           "David's Cookies Butter Pecan Meltaways 32 oz, 2-pack"
          ],
          [
           "David’s Cookies Premier Chocolate Cake, 7.2 lbs (Serves 14)"
          ],
          [
           "David's Cookies Mango & Strawberry Cheesecake 2-count (28 Slices Total)"
          ],
          [
           "La Grande Galette French Butter Cookies, 1.3 lb, 6-pack"
          ],
          [
           "David's Cookies No Sugar Added Cheesecake & Marble Truffle Cake, 2-pack (28 Slices Total)"
          ],
          [
           "David's Cookies Brownie and Cookie Combo Pack"
          ],
          [
           "The Cake Bake Shop 8\" Round Chocolate Cake (16-22 Servings)"
          ],
          [
           "David's Cookies 10\" Rainbow Cake  (12 Servings)"
          ],
          [
           "The Cake Bake Shop 2 Tier Special Occasion Cake (16-22 Servings)"
          ],
          [
           "David's Cookies 90-piece Gourmet Chocolate Chunk Frozen Cookie Dough"
          ],
          [
           "David's Cookies Chocolate Fudge Birthday Cake, 3.75 lbs.  Includes Party Pack (16 Servings)"
          ],
          [
           "Ferrara’s Bakery New York Cheesecake 2-pack"
          ],
          [
           "David’s Cookies Variety Cheesecakes, 2-pack (28 Slices Total)"
          ],
          [
           "Mary Macleod's Gluten Free Shortbread Cookies Mixed Assortment 8-Pack "
          ],
          [
           "The Cake Bake Shop 8\" Round Pixie Fetti Cake (16-22 Servings)"
          ],
          [
           "Ferrara’s Bakery 8 in. Tiramisu Cake, 2-pack"
          ],
          [
           "Classic Cake Limoncello Quarter Sheet Cake (14 Pre-Cut Total Slices, 4 Oz. Per Slice, 3.5 Lbs Total Box)"
          ],
          [
           "deMilan Panettone Classico Tin Cake 2.2 lb Tin"
          ],
          [
           "David’s Cookies Decadent Triple Chocolate made with mini Hershey’s Kisses and Reese’s Peanut Butter Cup Cookies Tin – 2 Count"
          ],
          [
           "Ferrara's Bakery 4 lbs. Italian Cookie Pack"
          ],
          [
           "Ferrara's Bakery 48 Mini Cannoli's (24 Plain Filled and 24 Hand Dipped Belgian Chocolate) - 1.5\" to 2\" In Length"
          ],
          [
           "Ferrara's Bakery 24 Large Cannoli's (12 Plain Filled and 12 Hand Dipped Belgian Chocolate)"
          ],
          [
           "Mary Macleod’s Shortbread, Variety Tin, 3-pack, 24 cookies per tin"
          ],
          [
           "Ferrara's Bakery Rainbow Cookies 1.5 lb"
          ],
          [
           "Ferrara's Bakery 2 lb Italian Cookie Tray and Struffoli"
          ],
          [
           "Tootie Pie 11\" Heavenly Chocolate Pie, 2- pack "
          ],
          [
           "Olipop 12 oz Prebiotics Soda Variety Pack, 24 Count"
          ],
          [
           "Joyburst Energy Variety, 12 fl oz, 18-count"
          ],
          [
           "Starbucks Classic Hot Cocoa Mix 30 oz, 2-pack"
          ],
          [
           "VitaCup Green Tea Instant Packets with Matcha, Enhance Energy & Detox, 2-pack (48-count total)"
          ],
          [
           "Sencha Naturals Everyday Matcha Green Tea Powder, 3-pack"
          ],
          [
           "Vonbee Honey Citron & Ginger Tea 4.4 lb 2-pack"
          ],
          [
           "100% Spring Water, 2.5 Gallon, 2-count, 48 Case Pallet"
          ],
          [
           "Pressed Cold-Pressed Juice & Shot Bundle -18 Bottles, 9 Juices & 9 Shots"
          ],
          [
           "Pressed 3-Day Cleanse Bundle (18 Juices & 6 Shots)"
          ],
          [
           "Pressed 5-day Cleanse Bundle - 40 bottles, 30 Juices, and 10 Shots"
          ],
          [
           "Pulp and Press 5-Day Organic Cold Pressed Juice Cleanse"
          ],
          [
           "Pulp & Press Organic Cold-Pressed Juice Variety Pack, 18-pack"
          ],
          [
           "Tiesta Tea Loose Leaf Tea Variety 3-Pack (16 oz each)"
          ],
          [
           "Pressed Cold-Pressed Greens, Roots & Citrus Bundle  (12 oz) 15-count"
          ],
          [
           "Joyburst Hydration Drink, Variety Pack, 12 fl oz, 24-count "
          ],
          [
           "Pressed 3-day Beginner Cleanse Bundle  - 24 bottles, 18 Juice and  6 Shots"
          ],
          [
           "Ready Sports Drink Light, Mango Lemonade, 16.9 fl oz, 12-count"
          ],
          [
           "Cherry Bay Orchards Tart Cherry Concentrate 32 fl. oz., 2-pack"
          ],
          [
           "Pressed 36-count (2 oz) Wellness Shots "
          ],
          [
           "Joyburst Energy Drink, Frose Rose, 12 fl oz, 12-count"
          ],
          [
           "NuTrail Keto Nut Granola Honey Nut 2-pack (22 oz. each)"
          ],
          [
           "Utah Truffles Dark Chocolate Truffles With Sea Salt 16 oz, 2-pack"
          ],
          [
           "Utah Truffle Milk Chocolate Mint Truffles 16 oz, 2-pack"
          ],
          [
           "Bouchard Belgian Napolitains Premium Dark Chocolate 32 oz,  2-pack"
          ],
          [
           "Ghirardelli Chocolate Squares Premium Chocolate Assortment, 23.8 oz"
          ],
          [
           "Godiva Masterpieces Assortment of Legendary Milk Chocolate 14.9 oz 4-Pack"
          ],
          [
           "Kiss My Keto Gummy Candy Fish Friends, 6-count, 2-pack"
          ],
          [
           "Chocolate Moonshine Co. Belgian Artisan Black Cherry Bourbon Bark, 20 oz."
          ],
          [
           "Kiss My Keto Gummies Tropical Rings, 6-count, 2-pack"
          ],
          [
           "Godiva Assorted Chocolate Gold Collection Gift Box 36-pieces"
          ],
          [
           "Sanders Dark Chocolate Sea Salt Caramels 36 oz., 2-pack"
          ],
          [
           "Sanders Milk Chocolate Sea Salt Caramels 36 oz., 2-pack"
          ],
          [
           "Truffettes de France Cocoa Truffles 16 oz, 4-pack"
          ],
          [
           "A'cappella Caramel Ensemble, 3.25 oz, 8-count"
          ],
          [
           "Mrs. Calls Kettle Cooked Sea Salt Soft Caramels 25 oz, 2-pack"
          ],
          [
           "Chocolate Moonshine Fudge, 6 count Variety Party Pack, 3 lbs Total"
          ],
          [
           "Popcornopolis Pumpkin Spice Cone, 4.5 oz, 12 pack"
          ],
          [
           "A'cappella Knotty Grahams Ensemble, 4.5 oz, 8-count"
          ],
          [
           "A'cappella Bark Ensemble, 3.4 oz, 8-count"
          ],
          [
           "Nellie’s Laundry Starter Pack"
          ],
          [
           "Nellie’s Baby Laundry Soda, 500 Loads"
          ],
          [
           "Nellie's Laundry Nuggets, 350 Loads"
          ],
          [
           "Nellie's Laundry Soda, 800 Loads"
          ],
          [
           "ECOS HE Laundry Detergent Sheets, Free & Clear, 100 Loads, 100 Sheets, 2-count"
          ],
          [
           "ECOS HE Liquid Laundry Detergent, Magnolia & Lily, 210 Loads, 210 fl oz, 2-count"
          ],
          [
           "Boulder Clean Laundry Detergent Sheets, Free & Clear, 160 Loads, 80 Sheets"
          ],
          [
           "ECOS HE Liquid Laundry Detergent, Free & Clear, 210 Loads, 210 fl oz, 2-count"
          ],
          [
           "MyEcoWorld 13-gallon Compostable Food Waste Bag, 72-count"
          ],
          [
           "MyEcoWorld 3-gallon Compostable Food Waste Bag, 150-count"
          ],
          [
           "The Unscented Company HE Liquid Laundry Detergent Bottle & Refill Box, 478 Loads, 403.82 fl oz"
          ],
          [
           "Nellie's Dish Butter Bundle"
          ],
          [
           "Clorox Clean-Up All Purpose Cleaner with Bleach, Original, 32 oz & 180 oz Refill"
          ],
          [
           "Boulder Clean Liquid Laundry Detergent, Citrus Breeze, 200 loads, 200 fl oz"
          ],
          [
           "The Unscented Company Liquid Dish Soap Refill Box, 337.92 fl oz"
          ],
          [
           "The Unscented Company Laundry Tabs, 300 Loads"
          ],
          [
           "Nellie's Wow Mop Starter Kit"
          ],
          [
           "The Unscented Company Liquid Dish Soap Bottle & Refill Box, 363.22 fl oz"
          ],
          [
           "Nellie's Dishwasher Nuggets, 150-count"
          ],
          [
           "Boulder Clean Disinfectant Cleaner, Fresh Lemon, 128 fl oz"
          ],
          [
           "Bona Hardwood Floor Cleaner, Original, 32 fl oz & 128 fl oz Ready-To-Use Refill"
          ],
          [
           "Febreze Air Refresher, Variety Pack, 8.8 oz, 4-count"
          ],
          [
           "Twist & Shout Spin Mop & Bucket System with 1 Refill"
          ],
          [
           "Puracy Surface Cleaner, 25 fl oz, 3-count"
          ],
          [
           "Lysol Disinfectant Spray, Crisp Linen, 19 oz, 3-count"
          ],
          [
           "Dr. Jacobs Naturals Pure Castile Soap, Variety Pack, 32 oz, 3-count"
          ],
          [
           "Poo-Pourri Toilet Spray, Variety Pack, 3.4 fl oz, 3-count"
          ],
          [
           "Dr. Jacobs Naturals Pure Castile Soap, Variety Pack, 32 oz, 3-count"
          ],
          [
           "Nellie’s Bulk Oxygen Brightener, 8.75 lbs"
          ],
          [
           "Nellie's Floor Care, 25 fl oz, 3-count"
          ],
          [
           "Nellie's Lamby Dryerballs, 4-count, 2-pack"
          ],
          [
           "Clorox ToiletWand Disposable Toilet Cleaning System with 36 Refills"
          ],
          [
           "The Unscented Company Dryer Balls, 6-count"
          ],
          [
           "The Unscented Company Dishwasher Tabs, 500-count"
          ],
          [
           "The Unscented Company Dishwasher Tabs, 30-count, 4-pack"
          ],
          [
           "Kirkland Signature Organic Ethiopia Whole Bean Coffee, 2 lbs"
          ],
          [
           "Kirkland Signature Organic Colombian Decaf Whole Bean Coffee, 2 lbs"
          ],
          [
           "Kirkland Signature Organic Sumatra Whole Bean Coffee, 2 lbs, 2-pack"
          ],
          [
           "Kirkland Signature Rwandan Coffee 3 lb, 2-pack"
          ],
          [
           "Kirkland Signature Sumatran Whole Bean Coffee 3 lb, 2-pack"
          ],
          [
           "Kirkland Signature Costa Rica Coffee 3 lb, 2-pack"
          ],
          [
           "Kirkland Signature USDA Organic Whole Bean Blend 2 lb, 2-pack"
          ],
          [
           "Mayorga Buenos Días, USDA Organic, Light Roast, Whole Bean Coffee, 2lb, 2-pack"
          ],
          [
           "Ruta Maya Organic Jiguaní Whole Bean Coffee 5 lb"
          ],
          [
           "Jose’s Vanilla Nut Whole Bean Coffee 3 lb, 2-pack"
          ],
          [
           "Cometeer Dark Roast Coffee, 56 Frozen Capsules"
          ],
          [
           "Ruta Maya Organic Medium Roast Whole Bean Coffee 5 lb"
          ],
          [
           "San Francisco Bay Organic Rainforest Blend Whole Bean Coffee 3 lbs, 2-pack"
          ],
          [
           "Jose’s 100% Organic Mayan Whole Bean Coffee 2.5 lb, 2-pack"
          ],
          [
           "Copper Moon Costa Rica Blend, Medium Roast Whole Bean Coffee, 2 lb Bags, 2-Pack"
          ],
          [
           "Mayorga Café Cubano Roast, USDA Organic, Dark Roast, Whole Bean Coffee, 2lb, 2-pack"
          ],
          [
           "Mayorga Decaf Café Cubano Roast, USDA Organic, Dark Roast, Whole Bean Coffee, 2lb, 2-pack"
          ],
          [
           "San Francisco Bay Coffee Light Roast Cold Brew Coarse Ground Coffee, 28 oz, 2-pack"
          ],
          [
           "Parisi Artisan Coffee Bolivian Organic Blend Whole Bean 2 lb, 2-pack"
          ],
          [
           "VitaCup Slim Instant Coffee Packets, Boost Diet & Metabolism, 30-count"
          ],
          [
           "Caffe Vita Coffee Caffe Del Sol Blend Whole Bean, Medium Roast, 2 lb. bags, 2-pack"
          ],
          [
           "San Francisco Bay Decaf French Roast Whole Bean Coffee 2 lb, 2-pack"
          ],
          [
           "Caffe Vita Coffee Theo Blend Whole Bean, Medium-Dark Roast, 2 lb. bags, 2-pack "
          ],
          [
           "Caffe Vita Caffe Luna French Roast Whole Bean, Dark Roast, 2 lb. bags, 2-pack"
          ],
          [
           "Ruta Maya Decaffeinated Coffee 2.2 lb, 2-pack"
          ],
          [
           "San Francisco Bay Coffee Organic Rainforest Blend Ground 28oz, 2-pack"
          ],
          [
           "Mayorga Organics Mayan Blend, USDA Organic, Medium Roast, Whole Bean Coffee, 2lb, 2-pack"
          ],
          [
           "VitaCup Shroom Fuel Mushroom Based Coffee Alternative Packets, 2-pack, Total 48 Counts"
          ],
          [
           "Mayorga Organic Winter Blend, USDA Organic, Dark Roast, Whole Bean Coffee, 2lb, 2-pack"
          ],
          [
           "Ruta Maya Organic Dark Roast Coffee, 5 lbs"
          ],
          [
           "Mother Earth Organic Medium Roast Coffee 2 lb, 2-pack"
          ],
          [
           "Jose's Hazelnut Cream Medium Roast Whole Bean 2 lbs, 2-Pack"
          ],
          [
           "Kirkland Signature Guatemalan Coffee 3 lb, 2-pack"
          ],
          [
           "Tsar Nicoulai Classic White Sturgeon Caviar 2 oz Gift Set"
          ],
          [
           "Giordano's Chicago Frozen 10\" Deep Dish Stuffed Pizza, 3-pack"
          ],
          [
           "D'Artagnan 13-piece Gourmet Roasting Ham & Luxury Charcuterie Gift Box, 12.5 lbs"
          ],
          [
           "Covap Jamon Iberico Bellota Ham Leg with Stand and Knife, 15.4 lbs. "
          ],
          [
           "Plaza Golden Osetra Caviar Kilo Pack, 35.2 oz"
          ],
          [
           "Plaza Osetra Farmed Bulgarian Sturgeon Caviar, 2 oz Gift Set"
          ],
          [
           "D'Artagnan 18-month Aged Boneless Spanish Serrano Ham, 9.5 lbs"
          ],
          [
           "Tsar Nicoulai Baerii Caviar 2 oz, 3-pack"
          ],
          [
           "Pacific Plaza Golden Osetra Caviar 2 oz, 2-pack"
          ],
          [
           "Tsar Nicoulai Caviar Tasting Flight Gift Set "
          ],
          [
           "Tsar Nicoulai Estate Classic White Sturgeon Caviar 2 oz, 3-pack"
          ],
          [
           "Plaza Golden Osetra 2 oz Caviar Gift Set"
          ],
          [
           "Plaza Golden Osetra Caviar, 8.8 oz"
          ],
          [
           "Plaza Osetra Kilo Caviar Pack"
          ],
          [
           "Plaza Osetra Farmed Bulgarian Sturgeon Caviar, 8.8 oz "
          ],
          [
           "Fratelli Beretta Snack Pack, 2.5 oz, 10-pack"
          ],
          [
           "Fratelli Beretta Prosciutto di Parma Boneless, DOP, minimum 14.7 lbs"
          ],
          [
           "50-stem White Roses"
          ],
          [
           "100-stem Baby's Breath"
          ],
          [
           "Birthday Full of Happiness Floral Arrangement"
          ],
          [
           "50-stem Red Roses"
          ],
          [
           "Truly Sweet Floral Arrangement"
          ],
          [
           "50-stem Light Pink Roses"
          ],
          [
           "Inspire Floral Arrangement"
          ],
          [
           "Tranquility Vase Arrangement "
          ],
          [
           "Love You More Floral Arrangement"
          ],
          [
           "Passion Vase Arrangement"
          ],
          [
           "24-stem Hydrangeas"
          ],
          [
           "Mountain Bouquet Event Collection, 10-count"
          ],
          [
           "Timeless Romance Floral Arrangement"
          ],
          [
           "50-stem Red & White Roses"
          ],
          [
           "Bountiful Garden Bouquet"
          ],
          [
           "115-stem Floral Variety Combination"
          ],
          [
           "Day Dream Vase Arrangement "
          ],
          [
           "Mini Floral Centerpieces, 9-count"
          ],
          [
           "6' Wedding Runner, 4-pack"
          ],
          [
           "50-stem Lavender Roses"
          ],
          [
           "Sunset Bliss Floral Arrangement"
          ],
          [
           "100-stem Fillers and Greens "
          ],
          [
           "Birthday Celebration Floral Arrangement"
          ],
          [
           "100-stem White and Green Fillers"
          ],
          [
           "50-stem Shades of Pink Quad Roses"
          ],
          [
           "Elegance Floral Arrangement"
          ],
          [
           "100-stem Carnations"
          ],
          [
           "50-stem Yellow Roses"
          ],
          [
           "Mystical Garden Floral Arrangement"
          ],
          [
           "Sunflower Sunshine Floral Arrangement"
          ],
          [
           "50-stem Hot Pink Roses"
          ],
          [
           "100-stem Assorted Green Fillers "
          ],
          [
           "Get Well Wishes Floral Arrangement"
          ],
          [
           "Fleur Floral Arrangement"
          ],
          [
           "Fleur Vibrant Floral Arrangement"
          ],
          [
           "Fresh Wedding Garland"
          ],
          [
           "Island Breeze Bouquet"
          ],
          [
           "80-stem Alstroemeria"
          ],
          [
           "Thinking of You Floral Arrangement"
          ],
          [
           "120-stem Ranunculus "
          ],
          [
           "Rose Petals"
          ],
          [
           "White Garden Floral Arrangement"
          ],
          [
           "40-stem Sunflowers"
          ],
          [
           "40-stem Mini Green Hydrangeas"
          ],
          [
           "60-stem Gerberas"
          ],
          [
           "Tranquil Garden Bouquet"
          ],
          [
           "Bright and Beautiful Birthday Arrangement"
          ],
          [
           "30-stem Calla Lilies and 75-stem Roses"
          ],
          [
           "Wildflower Floral Arrangement"
          ],
          [
           "Soft Grace Wedding Collection"
          ],
          [
           "Wedding Variety Collection"
          ],
          [
           "40-stem Calla Lilies and 20-stem Hydrangea"
          ],
          [
           "Boutonnieres & Wrist Corsages, 16-count"
          ],
          [
           "True Beauty Floral Arrangement"
          ],
          [
           "Orange Sorbet Wedding Package"
          ],
          [
           "Blush Wedding Collection"
          ],
          [
           "Vacaville Fruit Company 56 oz  Dried Fruit & Nut Wooden Gift Tray"
          ],
          [
           "The Fruit Company Classic 5-box Tower"
          ],
          [
           "David's Cookies Brownie and Cookie Combo Pack"
          ],
          [
           "Tsar Nicoulai Classic White Sturgeon Caviar 2 oz Gift Set"
          ],
          [
           "Healthy Snack Box, 65-piece"
          ],
          [
           "Office Favorites Snack Box, 66-piece"
          ],
          [
           "Isabelle Pineapple Cakes 27.1 oz, 3-count"
          ],
          [
           "Movie Marathon Gourmet Popcorn Gift Set "
          ],
          [
           "D'Artagnan 13-piece Gourmet Roasting Ham & Luxury Charcuterie Gift Box, 12.5 lbs"
          ],
          [
           "The Balanced Company, Healthy Snack Box, 50-piece"
          ],
          [
           "Vacaville Dried Mixed Fruit, 34 oz"
          ],
          [
           "Lunar New Year Basket"
          ],
          [
           "Borgo de Medici Luxury Truffle Tray Set"
          ],
          [
           "Mediterranean Handmade Baklava Bundle with Honey 2-pack 1.98 lbs each"
          ],
          [
           "The Fruit Company's Savory Charcuterie Box"
          ],
          [
           "Dorm Room Snack Box, 68-piece"
          ],
          [
           "Tea Forte Lotus Spa Bundle, 25 Tea Packs and One Cup"
          ],
          [
           "The Fruit Company's Columbia River Fruit Basket"
          ],
          [
           "Godiva Valentine’s Day Radiant Red Gift Basket"
          ],
          [
           "Jacques Torres Assorted Chocolate Small Hat Box"
          ],
          [
           "The Fruit Company \"Thank You\" Fruit Basket"
          ],
          [
           "The Fruit Company Vintage Crate with Pears & Apples"
          ],
          [
           "Traditions Tea Teapot Tower Gift Set"
          ],
          [
           "Jacques Torres Assorted Chocolate Large Hat Box"
          ],
          [
           "D'Artagnan Extreme American Wagyu Burger Lovers Bundle 12 Total Packs, 6 Lbs. Total"
          ],
          [
           "Cheryl's Cookies 24-count Assorted Valentine's Day Cookies "
          ],
          [
           "Best of Dewey’s Bakery Gift Box"
          ],
          [
           "Chocolate Covered Company Premium Dried Fruit & Mendiant Gift Tray"
          ],
          [
           "The Fruit Company Royal Comice Pears, 15-count"
          ],
          [
           "Heaton Pecans Roasted Salted Pecans, Chocolate Covered Pecans, Praline Pecan Tin 2.3 lb Total "
          ],
          [
           "eat.art Salt and Spice Set 2-pack"
          ],
          [
           "Godiva Valentine’s Day Gift Tower"
          ],
          [
           "Stonewall Kitchen Ultimate Breakfast Gift Set"
          ],
          [
           "Plaza Osetra Farmed Bulgarian Sturgeon Caviar, 2 oz Gift Set"
          ],
          [
           "Sanders Dark Chocolate Peppermint Sea Salt Caramel 2-pack (36 oz)"
          ],
          [
           "Mrs. Fields Special Occasions Cookie Tin"
          ],
          [
           "Heaton Pecans Roasted & Salted Pecans Tin 2.5 lbs"
          ],
          [
           "TRE Olive Oil Calabrian Gift Box"
          ],
          [
           "Tsar Nicoulai Estate Classic White Sturgeon Caviar 2 oz, 3-pack"
          ],
          [
           "Mrs. Fields Get Well Soon Bear & Cookie Crate"
          ],
          [
           "Stonewall Kitchen New England Morning Batter Bowl Gift Set"
          ],
          [
           "Our Heroes' Care Pack "
          ],
          [
           "Heaton Pecans Large Square Chocolate Covered Pecan Tin 3.75 lbs"
          ],
          [
           "Joe & Seph's Factory Tin Gourmet Popcorn, 2-pack"
          ],
          [
           "Collin Street Bakery’s Medium Sprinkle-Top DeLuxe Fruitcake, 2-pack"
          ],
          [
           "Best of Hawaii Gift Set"
          ],
          [
           "Plaza Osetra Farmed Bulgarian Sturgeon Caviar, 8.8 oz "
          ],
          [
           "Popcornopolis Ultimate Classic Assorted Tall Cones, Variety, 24-count"
          ],
          [
           "Plaza Golden Osetra 2 oz Caviar Gift Set"
          ],
          [
           "The Fruit Company \"Happy Birthday\" Fruit Basket"
          ],
          [
           "TRE Olive Merenda Gift Box"
          ],
          [
           "Austin Cake Ball Catering Assortment 48 Cake Balls"
          ],
          [
           "Tsar Nicoulai Baerii Caviar 2 oz, 3-pack"
          ],
          [
           "Heaton Pecans Praline Pecans Tin 3 lbs. "
          ],
          [
           "The Popcorn Factory 4 Gallon Valentines Day Popcorn Tin"
          ],
          [
           "Plaza Golden Osetra Caviar, 8.8 oz"
          ],
          [
           "Pacific Plaza Golden Osetra Caviar 2 oz, 2-pack"
          ],
          [
           "Damn, Man Executive Deluxe Box Snack Collection"
          ],
          [
           "Valentine’s Day Teddy Bear Tote"
          ],
          [
           "Chocolate Covered Company Valentine's Day Belgian 6 Chocolate Covered Strawberries and 6 Mini Cheesecake Pops"
          ],
          [
           "5 High Sweet Heart Valentine's Day Tower"
          ],
          [
           "Sugarfina Vice Cafe Candy Bento Box 8 Small Cube"
          ],
          [
           "Jacques Torres 14 oz. Assorted Hot Chocolate Tin & Candy Cane Hot Chocolate Tin"
          ],
          [
           "Sugarfina 4 Large Cube Variety Pack"
          ],
          [
           "Mrs. Fields Happy Valentine's Day Cookie Combo Tin"
          ],
          [
           "D’Artagnan Ultimate Steak Lovers Gift Box, 6 Total Packs, 4.25 Lbs. Total"
          ],
          [
           "Plaza Osetra Kilo Caviar Pack"
          ],
          [
           "Plaza Golden Osetra Caviar Kilo Pack, 35.2 oz"
          ],
          [
           "Ferrara's Bakery 2 lb Italian Cookie Tray and Struffoli"
          ],
          [
           "Around the World 15 oz Spicy Nuts, 2-pack Tin, Total 30 oz"
          ],
          [
           "Old Fashioned Whiskey Time & Snacks Gift Set "
          ],
          [
           "Kirkland Signature Mature Formula Chicken, Rice and Egg Dog Food 40 lb."
          ],
          [
           "Kirkland Signature Chicken and Rice Cat Food 25 lbs."
          ],
          [
           "Kirkland Signature Puppy Formula Chicken, Rice and Vegetable Dog Food 20 lb."
          ],
          [
           "Kirkland Signature Small Formula Chicken & Vegetable Dog Food 20 lb."
          ],
          [
           "Kirkland Signature Rwandan Coffee 3 lb, 2-pack"
          ],
          [
           "Kirkland Signature Nature's Domain Puppy Formula Chicken & Pea Dog Food 20 lb."
          ],
          [
           "Kirkland Signature Adult Formula Lamb, Rice and Vegetable Dog Food 40 lb."
          ],
          [
           "Kirkland Signature Adult Formula Chicken, Rice and Vegetable Dog Food, 40 lbs"
          ],
          [
           "Kirkland Signature Sumatran Whole Bean Coffee 3 lb, 2-pack"
          ],
          [
           "Kirkland Signature Nature's Domain Salmon & Sweet Potato Formula Dog Food, 35 lbs"
          ],
          [
           "Kirkland Signature Costa Rica Coffee 3 lb, 2-pack"
          ],
          [
           "Kirkland Signature Healthy Weight Cat Food 20 lbs."
          ],
          [
           "Whole Wheel Parmigiano Reggiano, 72 lbs. "
          ],
          [
           "Kirkland Signature Nitrile Exam Gloves, 400-count"
          ],
          [
           "Kirkland Signature Nature's Domain Beef & Sweet Potato Dog Food 35 lb."
          ],
          [
           "Kirkland Signature Nature's Domain Cat Food 18 lbs."
          ],
          [
           "Kirkland Signature Dental Chews, 72-count"
          ],
          [
           "Kirkland Signature Guatemalan Coffee 3 lb, 2-pack"
          ],
          [
           "Nellie’s Laundry Starter Pack"
          ],
          [
           "Nellie’s Baby Laundry Soda, 500 Loads"
          ],
          [
           "Nellie's Laundry Nuggets, 350 Loads"
          ],
          [
           "Nellie's Laundry Soda, 800 Loads"
          ],
          [
           "ECOS HE Laundry Detergent Sheets, Free & Clear, 100 Loads, 100 Sheets, 2-count"
          ],
          [
           "ECOS HE Liquid Laundry Detergent, Magnolia & Lily, 210 Loads, 210 fl oz, 2-count"
          ],
          [
           "Boulder Clean Laundry Detergent Sheets, Free & Clear, 160 Loads, 80 Sheets"
          ],
          [
           "ECOS HE Liquid Laundry Detergent, Free & Clear, 210 Loads, 210 fl oz, 2-count"
          ],
          [
           "The Unscented Company HE Liquid Laundry Detergent Bottle & Refill Box, 478 Loads, 403.82 fl oz"
          ],
          [
           "Boulder Clean Liquid Laundry Detergent, Citrus Breeze, 200 loads, 200 fl oz"
          ],
          [
           "The Unscented Company Laundry Tabs, 300 Loads"
          ],
          [
           "Nellie’s Bulk Oxygen Brightener, 8.75 lbs"
          ],
          [
           "Nellie's Lamby Dryerballs, 4-count, 2-pack"
          ],
          [
           "The Unscented Company Dryer Balls, 6-count"
          ],
          [
           "Crescent Foods Halal Hand-Cut Beef, Chicken Combo Pack - 14 Total Packs, 13.5 Lbs. Total"
          ],
          [
           "Farmer Focus Organic Boneless/Skinless Chicken Breasts, (20/8 Oz. Per Breast), 20 Total Count, 10 Lbs. Total"
          ],
          [
           "D’Artagnan Green Circle Chicken - Boneless & Skinless Breasts, 12 Total Packs, 11 Lbs. Total"
          ],
          [
           "Northwest Fish 4-6 Whole Dungeness Crab, 10 lbs"
          ],
          [
           "Quality Ethnic Foods Halal Chicken Variety Pack (Drumsticks, Tenders, Boneless Breast), 12 Total Packs, 12 Lbs. Total"
          ],
          [
           "Premium Seafood Variety Pack - 20 Total Packs, Total 12.5 Lbs."
          ],
          [
           "D'Artagnan Heritage Breed (6/3.25 Lbs. Per Whole Chicken), Total 6 Packs, 19.5 Lbs. Total"
          ],
          [
           "Chicago Steak - Steak & Cake - Filet Mignon, Crab Cakes, and Steak Burgers, Total 13 Packs, 6.5 Lbs. Total"
          ],
          [
           "Northwest Fish Colossal Alaskan Wild Dungeness Crab Sections, 10lbs"
          ],
          [
           "Mila Chicken Xiao Long Bao Soup Dumplings - 50 Dumplings Per Bag, 3 Bags Total"
          ],
          [
           "D'Artagnan Extreme American Wagyu Burger Lovers Bundle 12 Total Packs, 6 Lbs. Total"
          ],
          [
           "Texas Tamale Co. Chicken Tamales 6-pack of 12 each, 72-count"
          ],
          [
           "Northwest Fish Wild Alaskan Sockeye Salmon Cheddar Bacon Burger Patties, 24-count, 9 lbs"
          ],
          [
           "Coastal Seafood Frozen Lobster Tails 12 Count (6 - 8  oz.)"
          ],
          [
           "D'Artagnan 13-piece Gourmet Roasting Ham & Luxury Charcuterie Gift Box, 12.5 lbs"
          ],
          [
           "Northwest Fish Alaskan Bairdi Snow Crab Sections, (10-14 / 13 Oz. Per Pack), Total 10 Lbs."
          ],
          [
           "Rastelli Bone-In Premium Pork Rib Steak, (16/8 Oz. Per Steak), 16 Total Count, 8 Lbs. Total "
          ],
          [
           "Mila Pork Xiao Long Bao Soup Dumplings - 50 Dumplings Per Bag, 3 Bags Total"
          ],
          [
           "Rastelli USDA Choice Boneless Black Angus Prime Rib Roast, 1 Total Pack, 7 Lbs. Total"
          ],
          [
           "Silver Fern Farms 100% New Zealand Grass-Fed, Net Carbon Zero Steak Box - 10 Total Packs, 6.25 Lbs. Total"
          ],
          [
           "Authentic Wagyu Surf & Turf Pack, (2/17-20 Oz. Cold Water Lobster Tails with  (2/14 Oz.Per Steak) Japanese A5 Wagyu Ribeye Steaks"
          ],
          [
           "D’Artagnan Gourmet Steak & Burger Grill Pack, 20 Total Packs, 16 Lbs. Total"
          ],
          [
           "Rastelli Market Fresh Jumbo Lump Crab Cakes (20/4 Oz. Per Crab Cake), 20 Total Count, 5 Lbs. Total"
          ],
          [
           "Rastelli Petite Filet Mignon & Jumbo Lump Crab Cake Surf & Turf, 24 Total Packs, 6.75 Total Lbs."
          ],
          [
           "Chicago Steak Premium Angus Beef Surf & Turf, 15 Total Packs, 7 Lbs. Total"
          ],
          [
           "Chicago Steak Premium Angus Beef Burger Flight, Total 29 Packs, 14 Lbs. Total"
          ],
          [
           "Authentic Wagyu Kurobuta Applewood Smoked Thick Cut Bacon, 1 Pack, 3 Lbs. Total"
          ],
          [
           "Northwest Red King Salmon Portions, 12 Total Count, 1 Case Totaling 6 Lbs."
          ],
          [
           "D’Artagnan Antibiotic Free Bone-in Beef Ribeye Roast, 1 Total Pack, 19 Lbs. Total"
          ],
          [
           "Rastelli's Pork Ribeye Steaks - (20/6 Oz Per Portion), 20 Total Packs, 7.5 Lbs. Total"
          ],
          [
           "Chicago Steak USDA Prime Surf & Turf, Total 14 Packs, 7 Lbs. Total"
          ],
          [
           "Northwest Fish Wild Alaskan Sockeye Salmon Fillets, 10 lbs"
          ],
          [
           "Smoked New Zealand King Salmon, 1.1lb fillets, 2-count, 2.2 lbs total"
          ],
          [
           "Crescent Foods Halal Hand Cut Steak Locker, 16 Total Packs, 9 Lbs. Total"
          ],
          [
           "Rastelli VBites Plant-Based Vegan Meat Substitute Mega Burger 6 oz each, 24-pack, 9 lbs"
          ],
          [
           "Chicago Steak Filet Mignon & Scallop Combo, 14 Total Packs, 7 Lbs. Total"
          ],
          [
           " Northwest Fish Wild Alaskan Sockeye Salmon Fillets Total 25 Count, 1 Case Totaling 10 Lbs."
          ],
          [
           "A5 Wagyu Surf & Turf Pack, Cold Water Lobster Tails & Japanese A5 Wagyu Filet Mignon, Total 4 Packs"
          ],
          [
           "Authentic Wagyu Japanese A5 Wagyu Sampler Pack, 3 Total Steaks, 2.1 Lbs. Total"
          ],
          [
           "Japanese A5 Wagyu Ribeye Steaks, (3/16 Oz. Steaks), 3 Total Packs, 3 Lbs. Total"
          ],
          [
           "Chicago Steak Premium Angus Beef Butcher Assortment , 17 Total Packs, 8 Lbs. Total"
          ],
          [
           "Japanese Wagyu Center Cut New York Strip Steaks, A5 Grade, (4/12 Oz. Per Steak), 4 Total Count, 3 Lbs. Total"
          ],
          [
           "Seabear Wild Sockeye & King  Smoked Salmon Fillet Duo, Total 2lbs. (1 lb each)"
          ],
          [
           "Authentic Wagyu Japanese A5 Bacon Wrapped Cubes, (3/16 Cubes Per Tray), Total 3 Packs, 2.7 Lbs. Total"
          ],
          [
           "Rastelli Market Fresh Angus Beef Prime Petite Filet Mignons & Wild Caught Maine Lobster Tails, 8 Total Packs, 3 Lbs. Total"
          ],
          [
           "Trident Seafoods Smoked Sockeye Salmon, 2 Gift Packs"
          ],
          [
           "SeaBear Smoked Salmon Gift Boxes, 6 oz, 6-pack"
          ],
          [
           "Mila Variety Pack - Xiao Long Bao Soup Dumplings - 50 Dumplings Per Bag, 3 Bags Total"
          ],
          [
           "Great Southern Grass Fed Beef, ABF NY Strip CC Steak,(14/12 Oz. Per Steak), 14 Total Packs, 10.5 Lbs. Total"
          ],
          [
           "Pederson Natural Farms No Sugar Italian Ground Sausage 1 lb, 10-pack"
          ],
          [
           "Grizzly Salmon Tartare with Citrus Marinade, (14/4 Oz Packs), 14 Total Packs, Total 3.5 Lbs."
          ],
          [
           "Rastelli’s ABF Burger Variety Pack (Wagyu, Angus, Short-Rib, Dry-Aged), 42 Total Burgers , 15 Lbs. Total"
          ],
          [
           "Rastelli Antibiotic-Free Wagyu Beef Craft Burgers (24/5.5 Oz. Per Burger), 24 Total Count, 8.25 Lbs. Total"
          ],
          [
           "Rastelli USDA Choice Black Angus Beef Cowboy Steaks, (8/18 Oz Per Steak), 8 Total Count, 9 Lbs. Total"
          ],
          [
           "Texas Tamale Co. Pork Tamales 6pk of 12 Each, 72-count"
          ],
          [
           "Sampler: Dry-Cured Acorn-Fed 100% Iberico Pork Ham and Salami and Chorizo, 4.5 oz, 3-pack"
          ],
          [
           "Japanese A5 Wagyu Chuck Eye Steaks, (6/8 Oz. Steaks), 6 Total Packs, 3 Lbs. Total"
          ],
          [
           "Sesame Crusted Ahi Tuna Steaks, 18 Total Packs, 1 Case Totaling 12 Lbs."
          ],
          [
           "Authentic Wagyu Japanese A5 Wagyu Top Sirloin Medallions, (8/8 Oz. Per Steak), 8 Total Packs, 4 Lbs. Total"
          ],
          [
           "Fully Cooked Confit Duck Legs - (8/1 Lbs. Per Pack), 16 Legs, 8 Total Packs, 8 Lbs. Total"
          ],
          [
           "Holy Grail Steak Company - Kobe A5 Grade Japanese Wagyu Strip Steaks 14 Oz, 2-Count, 1.75 Lbs. Total"
          ],
          [
           "All Natural Raw Duck Legs - (8/2 Legs Per Pack, 8.5 Oz Per Leg), 16 Total Legs, 8 Total Packs, 8.5 Lbs. Total"
          ],
          [
           "Aysen Coho Sashimi Quality Salmon Portions, (6 Oz. Portion Per Pack), 26 to 27 Total Packs, 10 Lbs. Total"
          ],
          [
           "Quality Ethnic Foods Half Goat Meat Locker - 10 Total Packs, 15 Lbs. Total"
          ],
          [
           "Japanese Wagyu New York Strip Loin Roast, A5 Grade, 11 lbs"
          ],
          [
           "Japanese Wagyu Boneless Ribeye Roast, A5 Grade, 12 lbs"
          ],
          [
           "Rastelli’s Antibiotic-Free Turkey Craft Burgers (32/5 Oz. Per Burger), 32 Total Packs, 10 Lbs. Total"
          ],
          [
           "Aysen Coho Salmon Filets, (4/2-3 Lbs. Per Filet), 4 Total Packs, 8 Lbs. Total"
          ],
          [
           "Key West Pink 16/20 Gulf Shrimp Headless Shell-On (3/2Lb Per Bag), Total 3 Packs, 6 Lbs. Total"
          ],
          [
           "Authentic Wagyu Japanese A5 Chuck Roll Bulgogi Style Slices, 6 Total Packs, 3 Lbs. Total"
          ],
          [
           "Japanese Wagyu Tenderloin Roast, A5 Grade, 6 lbs"
          ],
          [
           "Northfork Bison Combo Pack - (Ribeye, Striploin, Stew Meat), 6 Total Packs, 4 Lbs. Total"
          ],
          [
           "Japanese Wagyu, Texas Clod Heart Roast A5 Grade, 7 lbs"
          ],
          [
           "Great Southern Grass Fed Beef, All Natural, Antibiotic Free, Top Sirloin Steak (20/8 Oz. Per Steak), 20 Total Packs, 10 Lbs. Total"
          ],
          [
           "Great Southern Grass Fed Beef, All Natural, Antibiotic Free, Ribeye Steaks, (14/12 Oz. Each Steak), 14 Total Packs, 10.5 Lbs. Total"
          ],
          [
           "D'Artagnan American Wagyu Beef Filet Mignon, 8 Total Count, 3 Lbs. Total"
          ],
          [
           "Whole Cooked Cold Water Lobsters, (8-9/1.25 Lbs. Each Lobster), 1 Case Totaling 12 Lbs."
          ],
          [
           "Authentic Wagyu Japanese A5 Peeled Flat Iron, 3.8 lbs"
          ],
          [
           "Texas Tamale Co. Beef Tamales 6pk of 12 Each, 72-count"
          ],
          [
           "Pederson Natural Farms Antibiotic Free Uncured No Sugar Bacon, 10 oz, 16-pack"
          ],
          [
           "Great Southern All Natural, Antibiotic Free, Grass Fed Beef, Filet Mignon Steak  8 oz, 20-pack, 10 lbs"
          ],
          [
           "Northfork Bison Trio of Ground Meats, Total 9 Packs, 9 Lbs. Total"
          ],
          [
           "Coastal Seafood Yellowfin Tuna Cubed Poke, (6/1Lbs. Per Bag), 6 Total Bags, 6 Lbs.Total"
          ],
          [
           "Authentic Wagyu Japanese A5 Marinated Brisket Gyudon, (2/2 Lbs. Per Pack), 2 Total Packs, 4 Lbs. Total"
          ],
          [
           "Northwest Fish Wild Alaskan Cod Loins Total 25 Count, 1 Case Totaling 10 Lbs."
          ],
          [
           "Alaska Black Cod (Sable Fish) - Individual Packed Portions (19-25/6-8 Oz. Per Portion), 1 Case Totaling 10 Lbs."
          ],
          [
           "Swift All Natural Lamb Loin Chops, (4/4 Oz. Chops Per Pack) 10 Total Packs, 10 Lbs. Total"
          ],
          [
           "Coastal Seafood Live Maine Lobsters, (6/1.25 Lbs. Per Lobster) 6 Total Packs, 7.5 Lbs. Total"
          ],
          [
           "Rastelli USDA Choice Black Angus Sirloin Coulotte Steak (20/6 Oz Per Steak), 20 Total Count, 7.5 Lbs. Total"
          ],
          [
           "Tsar Nicoulai Caviar Sturgeon Pate 6 oz, 6-pack"
          ],
          [
           "Crescent Foods Halal Hand-Cut Lamb Locker Pack - 9 Total Packs,  9 Lbs. Total"
          ],
          [
           "Authentic Wagyu Boneless Ribeye Roast A5 Grade, 2 x 3 lbs, 6 lbs Total"
          ],
          [
           "Cristobal Salted Cod Fillets 2 lbs, 3-pack"
          ],
          [
           "Rastelli Grass Fed Frenched Lamb Racks, 24 oz, 6-pack, 9 lbs"
          ],
          [
           "Halal Certified Lamb Box - (2/2 20-22 Oz. Rack of Lambs, 2/2 1.5 Lbs. Lamb Fore Shank, 1/1 3.5 Lbs. Denver Ribs) 5 Total Packs, 9.3 Lbs. Total"
          ],
          [
           "Rastelli USDA Choice Black Angus NY CC Strip Steak (12/10 Oz. Per Steak), 12 Total Count, 7.5 Lbs. Total"
          ],
          [
           "Rastelli Choice Black Angus Tomahawk Steaks, (4/38 Oz. Each Steak), 4 Total Count, 9.5 Lbs. Total"
          ],
          [
           "Quality Ethnic Foods Halal Goat Cubes, (5/2.2 Lbs. Per Bag), Total 5 Packs, Total 11 Lbs."
          ],
          [
           "A5 Wagyu Striploin Shabu Shabu slices, Total 4 Packs, Total 2 Lbs."
          ],
          [
           "All Natural Boneless Duck Breast - (8/7 Oz. Per Duck Breast), 16 Total Breasts, 8 Total Packs, 7Lbs. Total"
          ],
          [
           "Crescent Foods Halal Hand Cut Poultry Locker - 9 Total Packs, 12 Lbs. Total"
          ],
          [
           "Northwest Fish Sablefish Loins, Skin on, 7 oz, 23-count, 10 lbs"
          ],
          [
           "Northwest Fish Halibut Fillets, Skin-On 7-9 oz, 18-count, 10 lbs"
          ],
          [
           "Authentic Wagyu Japanese A5 Wagyu Striploin Roast, 2-count, minimum 6 lbs total"
          ],
          [
           "Northwest Fish U-12 Sea Scallops, 6 lbs"
          ],
          [
           "American Red Snapper - Whole, Head-On, Cleaned, (5-7 Individually Vacuum Packed Portions/ 1.5-2 Lbs Per Fish) - Total 10Lbs."
          ],
          [
           "D'Artagnan American Wagyu Beef Strip Steaks, 5 Total Packs, 3.75 Lbs. Total"
          ],
          [
           "Rastelli USDA Choice Black Angus Filet Mignon (16/5 Oz. Per Filet Mignon), 16 Total count, 5 Lbs. Total"
          ],
          [
           "Quality Halal Cut Beef Oxtail, 5 Total Packs, 11 Lbs. Total"
          ],
          [
           "Northfork Bison Sirloin Steak, (10/8 Oz. Per Steak), 10 Total Count, 5 Lbs. Total"
          ],
          [
           "Quality Ethnic Foods Halal Beef Variety (9/1 Lbs. Per Pack), 9 Total Packs, 9 Lbs. Total"
          ],
          [
           "Whole Head On, Cleaned Branzino Fish (12-18 Oz. Per Fish), Min 7 Count, 10 Lbs. Total"
          ],
          [
           "D’Artagnan Ultimate Steak Lovers Gift Box, 6 Total Packs, 4.25 Lbs. Total"
          ],
          [
           "Portoro Australian Primal Beef Striploin - 1 Total Pack, Min Weight 6 Lbs."
          ],
          [
           "Northfork Bison Medallion (8/5 Oz. Per Medallion), 8 Total Packs, 2.5 Lbs. Total"
          ],
          [
           "Authentic Wagyu Japanese A5 Ground Beef, 4 Total Packs, 4 Lbs.Total"
          ],
          [
           "Portoro Australian Primal Beef Ribeye - 1 Pack Total, Minimum 5.7 Lbs."
          ],
          [
           "Northfork Bison Tenderloin, Total 1 Pack, 2 Lbs. Total"
          ],
          [
           "D'Artagnan Whole ABF Pekin Duck, (1/5.25 Lbs. Average Per Duck), 6 Total Packs, 31.5 Lbs. Total "
          ],
          [
           "El Rey Del Pulpo, Large Cooked Octopus Tentacles, 14 oz, 6-pack, 5.25 lbs"
          ],
          [
           "Mahi Mahi Boneless, (26-27/Skinless 6 Oz. Portions Per Each Pack), 26-27 Total Packs, 1 Case Totaling 10 Lbs."
          ],
          [
           "Tsar Nicoulai Estate Smoked Sturgeon 6 oz, 6-count, 2.25 lbs"
          ],
          [
           "Japanese Wagyu Filet Mignons Steaks, A5 Grade, (8/6 Oz. Per Steak), 8 Total Packs, 3 Lbs. Total"
          ],
          [
           "Ruta Maya Organic Jiguaní Whole Bean Coffee 5 lb"
          ],
          [
           "Ruta Maya Organic Medium Roast Whole Bean Coffee 5 lb"
          ],
          [
           "Jose’s 100% Organic Mayan Whole Bean Coffee 2.5 lb, 2-pack"
          ],
          [
           "Made in Nature Organic Berry Fusion 24 oz, 2-pack"
          ],
          [
           "Made In Nature Organic Calimyrna Figs 40 oz, 3-pack"
          ],
          [
           "Ruta Maya Organic Dark Roast Coffee, 5 lbs"
          ],
          [
           "Mother Earth Organic Medium Roast Coffee 2 lb, 2-pack"
          ],
          [
           "Acetum Organic Apple Cider Vinegar with the Mother, 128 fl. oz."
          ],
          [
           "Namaste USDA Organic Gluten Free Perfect Sweet Brown Rice Flour Blend 48 oz  6-count"
          ],
          [
           "Namaste Gluten Free Perfect Flour Blend, 6-pack"
          ],
          [
           "TRE Olive Oil Calabrian Gift Box"
          ],
          [
           "TRE Olive 2 Liter Extra Virgin Olive Oil"
          ],
          [
           "Napa Valley Naturals USDA Organic Extra Virgin Olive Oil 25.4 oz, 6-count"
          ],
          [
           "Origin 846 Unfiltered Organic Extra Virgin Olive Oil 28.6 oz, 3-pack"
          ],
          [
           "Tre Olive Harvest Variety Gift Box Extra Virgin Olive Oil 3-Pack"
          ],
          [
           "Manuka Health UMF 10+ (MGO 263+) Raw Manuka Honey 17.6 oz"
          ],
          [
           "Terra Delyssa First Cold Press Extra Virgin Olive Oil 3L, Tin, 2-count"
          ],
          [
           "Chosen Foods Avocado Oil Spray, 13.5 oz, 2-count"
          ],
          [
           "Comvita UMF 25+ Special Reserve Manuka Honey 8.8 oz"
          ],
          [
           "eat.art Salt and Spice Set 2-pack"
          ],
          [
           "Comvita Certified UMF 5+  (MGO 83+) Raw Manuka Honey (35.2 oz)"
          ],
          [
           "Namaste Gluten Free Waffle & Pancake Mix 3 lb 2-pack (6 lbs Total)"
          ],
          [
           "Korean Honeyed Black Ginseng 20 Sticks"
          ],
          [
           "Comvita Certified UMF 18+ (MGO 696+) Raw Manuka Honey (8.8 oz)"
          ],
          [
           "Kinders Organic Garlic and  Herb with Sea Salt and Lemon 2-pack"
          ],
          [
           "Jamie's Hive to Table 3.5 lbs. Full Frame Honeycomb "
          ],
          [
           "Omeals Self Heating Emergency/Portable Meals 32 Pack High Protein Assortment (32 Total Servings)"
          ],
          [
           "Golden Nest Premium Bird Nest Soup, Original, 75 ml Bottles, 8-count, 2-pack"
          ],
          [
           "Kirkland Signature Organic Hemp Hearts, 3-pack (6 lbs Total)"
          ],
          [
           "Global Gourmet 12-piece Hot Sauce Collection, 2-pack"
          ],
          [
           "Jamie's Hive To Table 100% Pure Raw 12 oz. Honeycomb, 3-Pack"
          ],
          [
           "Nielsen-Massey Madagascar Bourbon Pure Vanilla Bean Paste, 8 oz. "
          ],
          [
           "Kirkland Signature Ground Turmeric, 12 oz., 2-count"
          ],
          [
           "Kirkland Signature Organic Ground Saigon Cinnamon, 10.7 oz., 2-count"
          ],
          [
           "Trufflin 8.5 oz Truffle Sriracha Hot Sauce, 3-pack"
          ],
          [
           "Fresh Winter White  Truffles 2 oz"
          ],
          [
           "Nielsen-Massey Madagascar Bourbon Pure Vanilla Extract, 8 oz., 2-pack "
          ],
          [
           "Pure Vanilla Extract, 16 fl oz"
          ],
          [
           "DJ&A Shiitake Mushroom Crisps 10.58 oz. bag, 5-pack"
          ],
          [
           "Trufflehunter White Truffle Oil 2-Pack (8.45 oz each)"
          ],
          [
           "Yupik Organic Hulled Hemp Hearts 2.2 lb 3-pack"
          ],
          [
           "Minced Black Truffle and Sliced Black Truffle Twin Pack "
          ],
          [
           "Nielsen Massey Mexican Pure Vanilla Extract, 2-pack (8 oz. each)"
          ],
          [
           "Kinder's Organic Buttery Steakhouse 10.4 oz, 2-pack"
          ],
          [
           "TruffleHunter Selection 5-piece Bundle "
          ],
          [
           "Acetum Organic Apple Cider Vinegar with the Mother, 128 fl. oz."
          ],
          [
           "Kirkland Signature Organic Modena Balsamic Vinegar 2-pack (33.8 oz each)"
          ],
          [
           "La Civetta Italian Extra Virgin Olive Oil 3L, Tins, 2-pack"
          ],
          [
           "The Mazzetti Artistry Edition Balsamic Vinegar of Modena 8.45 fl oz."
          ],
          [
           "Mazzetti L'Originale Chef's Reduction with Balsamic Vinegar of Modena 2-count"
          ],
          [
           "Caboo Bamboo Bath Tissue, 2-Ply, 400 Sheets, 24 Rolls"
          ],
          [
           "Windsoft Bath Tissue, 2-Ply, 284 Sheets, 24 Rolls"
          ],
          [
           "Marcal 100% Recycled Bath Tissue, 2-Ply, 168 Sheets, 96 Rolls"
          ],
          [
           "Caboo Bamboo Paper Towels, 2-Ply, 75 Sheets, 8 Rolls"
          ],
          [
           "Marcal 100% Recycled Paper Towels, 2-Ply, 140 Sheets, 24 Rolls"
          ],
          [
           "Artstyle Paper Plate & Napkin Bundle, Year of the Dragon Lunar New Year, 200-count"
          ],
          [
           "Artstyle Paper Plate & Napkin Bundle, Confetti Celebration, 200-count"
          ],
          [
           "Kleenex Ultra Slim Wallet Facial Tissue, 3-Ply, 10-count, 36-pack"
          ],
          [
           "Eco Raj 9-inch Compostable Bagasse Plate, 500-count"
          ],
          [
           "Eco Raj 6-inch Compostable Bagasse Plate, 1000-count"
          ],
          [
           "Eco Raj 10-inch Compostable Bagasse Plate, 500-count"
          ],
          [
           "Eco Raj 12 oz Compostable Bagasse Bowl, 1000-count"
          ],
          [
           "Crescent Foods Halal Hand-Cut Beef, Chicken Combo Pack - 14 Total Packs, 13.5 Lbs. Total"
          ],
          [
           "Farmer Focus Organic Boneless/Skinless Chicken Breasts, (20/8 Oz. Per Breast), 20 Total Count, 10 Lbs. Total"
          ],
          [
           "D’Artagnan Green Circle Chicken - Boneless & Skinless Breasts, 12 Total Packs, 11 Lbs. Total"
          ],
          [
           "Fully Cooked Confit Duck Legs - (8/1 Lbs. Per Pack), 16 Legs, 8 Total Packs, 8 Lbs. Total"
          ],
          [
           "All Natural Raw Duck Legs - (8/2 Legs Per Pack, 8.5 Oz Per Leg), 16 Total Legs, 8 Total Packs, 8.5 Lbs. Total"
          ],
          [
           "Rastelli’s Antibiotic-Free Turkey Craft Burgers (32/5 Oz. Per Burger), 32 Total Packs, 10 Lbs. Total"
          ],
          [
           "All Natural Boneless Duck Breast - (8/7 Oz. Per Duck Breast), 16 Total Breasts, 8 Total Packs, 7Lbs. Total"
          ],
          [
           "D'Artagnan Whole ABF Pekin Duck, (1/5.25 Lbs. Average Per Duck), 6 Total Packs, 31.5 Lbs. Total "
          ],
          [
           "Northwest Fish 4-6 Whole Dungeness Crab, 10 lbs"
          ],
          [
           "Premium Seafood Variety Pack - 20 Total Packs, Total 12.5 Lbs."
          ],
          [
           "Chicago Steak - Steak & Cake - Filet Mignon, Crab Cakes, and Steak Burgers, Total 13 Packs, 6.5 Lbs. Total"
          ],
          [
           "Northwest Fish Colossal Alaskan Wild Dungeness Crab Sections, 10lbs"
          ],
          [
           "Northwest Fish Wild Alaskan Sockeye Salmon Cheddar Bacon Burger Patties, 24-count, 9 lbs"
          ],
          [
           "Coastal Seafood Frozen Lobster Tails 12 Count (6 - 8  oz.)"
          ],
          [
           "Rastelli Market Fresh Jumbo Lump Crab Cakes (20/4 Oz. Per Crab Cake), 20 Total Count, 5 Lbs. Total"
          ],
          [
           "Rastelli Petite Filet Mignon & Jumbo Lump Crab Cake Surf & Turf, 24 Total Packs, 6.75 Total Lbs."
          ],
          [
           "Chicago Steak Premium Angus Beef Surf & Turf, 15 Total Packs, 7 Lbs. Total"
          ],
          [
           "Northwest Red King Salmon Portions, 12 Total Count, 1 Case Totaling 6 Lbs."
          ],
          [
           "Chicago Steak USDA Prime Surf & Turf, Total 14 Packs, 7 Lbs. Total"
          ],
          [
           "Northwest Fish Wild Alaskan Sockeye Salmon Fillets, 10 lbs"
          ],
          [
           "Smoked New Zealand King Salmon, 1.1lb fillets, 2-count, 2.2 lbs total"
          ],
          [
           "Chicago Steak Filet Mignon & Scallop Combo, 14 Total Packs, 7 Lbs. Total"
          ],
          [
           " Northwest Fish Wild Alaskan Sockeye Salmon Fillets Total 25 Count, 1 Case Totaling 10 Lbs."
          ],
          [
           "A5 Wagyu Surf & Turf Pack, Cold Water Lobster Tails & Japanese A5 Wagyu Filet Mignon, Total 4 Packs"
          ],
          [
           "Seabear Wild Sockeye & King  Smoked Salmon Fillet Duo, Total 2lbs. (1 lb each)"
          ],
          [
           "Rastelli Market Fresh Angus Beef Prime Petite Filet Mignons & Wild Caught Maine Lobster Tails, 8 Total Packs, 3 Lbs. Total"
          ],
          [
           "Trident Seafoods Smoked Sockeye Salmon, 2 Gift Packs"
          ],
          [
           "SeaBear Smoked Salmon Gift Boxes, 6 oz, 6-pack"
          ],
          [
           "Grizzly Salmon Tartare with Citrus Marinade, (14/4 Oz Packs), 14 Total Packs, Total 3.5 Lbs."
          ],
          [
           "Sesame Crusted Ahi Tuna Steaks, 18 Total Packs, 1 Case Totaling 12 Lbs."
          ],
          [
           "Aysen Coho Sashimi Quality Salmon Portions, (6 Oz. Portion Per Pack), 26 to 27 Total Packs, 10 Lbs. Total"
          ],
          [
           "Aysen Coho Salmon Filets, (4/2-3 Lbs. Per Filet), 4 Total Packs, 8 Lbs. Total"
          ],
          [
           "Key West Pink 16/20 Gulf Shrimp Headless Shell-On (3/2Lb Per Bag), Total 3 Packs, 6 Lbs. Total"
          ],
          [
           "Whole Cooked Cold Water Lobsters, (8-9/1.25 Lbs. Each Lobster), 1 Case Totaling 12 Lbs."
          ],
          [
           "Northwest Fish Wild Alaskan Cod Loins Total 25 Count, 1 Case Totaling 10 Lbs."
          ],
          [
           "Alaska Black Cod (Sable Fish) - Individual Packed Portions (19-25/6-8 Oz. Per Portion), 1 Case Totaling 10 Lbs."
          ],
          [
           "Coastal Seafood Live Maine Lobsters, (6/1.25 Lbs. Per Lobster) 6 Total Packs, 7.5 Lbs. Total"
          ],
          [
           "Tsar Nicoulai Caviar Sturgeon Pate 6 oz, 6-pack"
          ],
          [
           "Cristobal Salted Cod Fillets 2 lbs, 3-pack"
          ],
          [
           "Northwest Fish Sablefish Loins, Skin on, 7 oz, 23-count, 10 lbs"
          ],
          [
           "Northwest Fish Halibut Fillets, Skin-On 7-9 oz, 18-count, 10 lbs"
          ],
          [
           "Northwest Fish U-12 Sea Scallops, 6 lbs"
          ],
          [
           "American Red Snapper - Whole, Head-On, Cleaned, (5-7 Individually Vacuum Packed Portions/ 1.5-2 Lbs Per Fish) - Total 10Lbs."
          ],
          [
           "Whole Head On, Cleaned Branzino Fish (12-18 Oz. Per Fish), Min 7 Count, 10 Lbs. Total"
          ],
          [
           "El Rey Del Pulpo, Large Cooked Octopus Tentacles, 14 oz, 6-pack, 5.25 lbs"
          ],
          [
           "Mahi Mahi Boneless, (26-27/Skinless 6 Oz. Portions Per Each Pack), 26-27 Total Packs, 1 Case Totaling 10 Lbs."
          ],
          [
           "Tsar Nicoulai Estate Smoked Sturgeon 6 oz, 6-count, 2.25 lbs"
          ],
          [
           "G2G 3-pack Peanut Butter & Jelly Protein Bars, 24-count"
          ],
          [
           "St Michel Madeleine, Classic French Sponge Cake 100 - count"
          ],
          [
           "No Sugar Keto Bar (12 count) 2-pack Chocolate Peanut Butter"
          ],
          [
           "Ready Protein Bar, Chocolate Peanut Butter and Sea Salt, 24-count, 2 pack"
          ],
          [
           "Shrimp Chips with Garlic and Butter 16 oz 2-pack"
          ],
          [
           "G2G 3-pack Almond Chocolate Chip Protein Bars, 24-count"
          ],
          [
           "Savanna Orchards Honey Roasted Nut & Pistachios 30 oz, 2-pack"
          ],
          [
           "G2G Protein Bar Variety 3-pack (24 Total Bars)"
          ],
          [
           "Movie Marathon Gourmet Popcorn Gift Set "
          ],
          [
           "Sonoma Creamery Pepper Jack Crisps, 10 oz"
          ],
          [
           "Mary Macleod's Gluten Free Shortbread Cookies Mixed Assortment 8-Pack "
          ],
          [
           "The Gluten Free Brothers Variety Bites, 6 count"
          ],
          [
           "No Sugar Keto Bar Chocolate Chip Cookie Dough  (12-count) 2-Pack "
          ],
          [
           "No Sugar Keto Bar Chocolate Mint (12-count) 2-Pack "
          ],
          [
           "No Sugar Shellz Dark Chocolatey Caramel Pecan 25-count, 2-pack"
          ],
          [
           "Made in Nature USDA Organic Dried Mangos 28 oz  3-pack"
          ],
          [
           "Made in Nature Organic Berry Fusion 24 oz, 2-pack"
          ],
          [
           "No Sugar Keto Bar (12-count) 2-pack Cookies & Cream"
          ],
          [
           "Savanna Honey Roasted Mix Nuts, 30 oz, 2-pack"
          ],
          [
           "Popcornopolis Ultimate Classic Assorted Tall Cones, Variety, 24-count"
          ],
          [
           "No Sugar Keto Bar (12-count) 2-pack  Chocolate Fudge Brownie"
          ],
          [
           "Island Princess Macadamia Popcorn Crunch 24 oz 2-pack"
          ],
          [
           "Made in Nature USDA Organic Goji Berries 20 oz 2-pack"
          ],
          [
           "Made In Nature Organic Calimyrna Figs 40 oz, 3-pack"
          ],
          [
           "Made in Nature USDA Organic Dates 40 oz, 2-pack"
          ],
          [
           "Mayorga Organic Chia Seeds, USDA Organic, NON-Gmo verified, 3lb, 2-pack"
          ],
          [
           "Prevail Variety Grass Fed Beef Jerky 10-pack"
          ],
          [
           "Prevail Original Grass Fed Beef Jerky 10-pack"
          ],
          [
           "Cherry Bay Orchards No-Added-Sugar Dried Montmorency Cherries 8 oz Bag 2-pack"
          ],
          [
           "Hoody's Roasted Unsalted Peanuts 20 lbs, 4-pack"
          ],
          [
           "Our Heroes' Care Pack "
          ],
          [
           "Around the World 15 oz Spicy Nuts, 2-pack Tin, Total 30 oz"
          ],
          [
           "Le Chic Patissier, Original Stroopwafels , 2.77 lb, 3-pack"
          ],
          [
           "Genius Gourmet Variety Crispy Protein Treat, 30-count"
          ],
          [
           "Savanna Orchards Country Club Mix 30 oz 2-count"
          ]
         ],
         "hovertemplate": "Discount Status=Full Price<br>Price=%{x}<br>Rating=%{y}<br>Title=%{customdata[0]}<extra></extra>",
         "legendgroup": "Full Price",
         "marker": {
          "color": "red",
          "opacity": 0.4,
          "symbol": "circle"
         },
         "mode": "markers",
         "name": "Full Price",
         "orientation": "v",
         "showlegend": true,
         "type": "scatter",
         "x": [
          56.99,
          159.99,
          44.99,
          39.99,
          59.99,
          59.99,
          74.99,
          59.99,
          29.99,
          159.99,
          62.99,
          299.99,
          54.99,
          54.99,
          89.99,
          59.99,
          49.99,
          159.99,
          99.99,
          89.99,
          24.99,
          39.99,
          72.99,
          119.99,
          109.99,
          99.99,
          34.99,
          59.99,
          89.99,
          54.99,
          32.99,
          34.99,
          39.99,
          49.99,
          34.99,
          549.99,
          69.99,
          99.99,
          139.99,
          159.99,
          99.99,
          69.99,
          74.99,
          54.99,
          99.99,
          24.99,
          39.99,
          89.99,
          24.49,
          36.99,
          29.99,
          29.99,
          49.99,
          18.99,
          54.99,
          32.99,
          44.99,
          32.99,
          46.99,
          34.99,
          34.99,
          34.99,
          42.99,
          34.99,
          39.99,
          54.99,
          42.99,
          42.99,
          54.99,
          89.99,
          84.99,
          89.99,
          38.99,
          38.99,
          29.99,
          38.99,
          36.99,
          29.89,
          54.99,
          39.99,
          22.99,
          24.99,
          41.99,
          74.99,
          199.99,
          49.99,
          59.99,
          23.99,
          29.99,
          18.49,
          47.99,
          24.99,
          22.99,
          34.99,
          26.99,
          34.99,
          43.99,
          33.99,
          39.99,
          21.99,
          34.99,
          89.99,
          29.99,
          19.99,
          18.99,
          42.99,
          37.99,
          44.99,
          37.99,
          29.99,
          39.99,
          47.99,
          44.99,
          99.99,
          44.99,
          56.99,
          44.99,
          34.99,
          39.99,
          39.99,
          39.99,
          36.99,
          29.99,
          59.99,
          34.99,
          59.99,
          59.99,
          44.99,
          39.99,
          39.99,
          39.99,
          39.99,
          44.99,
          39.99,
          39.99,
          42.99,
          119.99,
          89.99,
          199.99,
          649.99,
          1,
          124.99,
          249.99,
          249.99,
          279.99,
          249.99,
          199.99,
          169.99,
          549.99,
          1,
          379.99,
          59.99,
          249.99,
          49.99,
          74.99,
          46.99,
          49.99,
          59.99,
          49.99,
          54.99,
          49.99,
          55.99,
          49.99,
          59.99,
          99.99,
          59.99,
          49.99,
          43.99,
          99.99,
          49.99,
          109.99,
          109.99,
          49.99,
          56.99,
          64.99,
          49.99,
          69.99,
          49.99,
          46.99,
          59.99,
          49.99,
          57.99,
          56.99,
          49.99,
          69.99,
          49.99,
          42.99,
          43.99,
          109.99,
          58.99,
          52.99,
          52.99,
          179.99,
          74.99,
          45.99,
          59.99,
          64.99,
          69.99,
          43.99,
          45.99,
          119.99,
          46.99,
          219.99,
          84.99,
          109.99,
          129.99,
          55.99,
          219.99,
          219.99,
          39.99,
          49.99,
          29.99,
          119.99,
          44.99,
          39.99,
          49.99,
          39.99,
          199.99,
          49.99,
          34.99,
          69.99,
          59.99,
          39.99,
          99.99,
          39.99,
          49.99,
          89.99,
          79.99,
          69.99,
          69.99,
          59.99,
          39.99,
          149.99,
          159.99,
          34.99,
          49.99,
          59.99,
          49.99,
          39.99,
          44.99,
          49.99,
          89.99,
          124.99,
          34.99,
          46.99,
          54.99,
          79.99,
          199.99,
          54.99,
          59.99,
          56.99,
          59.99,
          39.99,
          79.99,
          109.99,
          379.99,
          109.99,
          169.99,
          69.99,
          69.99,
          89.99,
          249.99,
          59.99,
          49.99,
          549.99,
          279.99,
          79.99,
          49.99,
          59.99,
          34.99,
          59.99,
          59.99,
          69.99,
          46.99,
          229.99,
          1,
          1,
          59.99,
          59.99,
          69.99,
          52.99,
          36.99,
          32.99,
          32.99,
          37.99,
          32.99,
          52.99,
          49.99,
          44.99,
          52.99,
          37.99,
          32.99,
          949.99,
          27.99,
          52.99,
          36.99,
          36.99,
          42.99,
          54.99,
          89.99,
          84.99,
          89.99,
          38.99,
          38.99,
          29.99,
          38.99,
          54.99,
          24.99,
          74.99,
          43.99,
          39.99,
          34.99,
          159.99,
          149.99,
          139.99,
          209.99,
          99.99,
          349.99,
          169.99,
          199.99,
          219.99,
          99.99,
          159.99,
          89.99,
          119.99,
          229.99,
          199.99,
          299.99,
          199.99,
          99.99,
          199.99,
          129.99,
          339.99,
          399.99,
          199.99,
          349.99,
          239.99,
          219.99,
          89.99,
          179.99,
          429.99,
          114.99,
          299.99,
          219.99,
          109.99,
          199.99,
          99.99,
          249.99,
          229.99,
          379.99,
          369.99,
          469.99,
          219.99,
          469.99,
          64.99,
          249.99,
          189.99,
          59.99,
          79.99,
          99.99,
          249.99,
          89.99,
          129.99,
          199.99,
          109.99,
          299.99,
          89.99,
          64.99,
          329.99,
          269.99,
          449.99,
          179.99,
          529.99,
          149.99,
          169.99,
          169.99,
          999.99,
          1,
          99.99,
          199.99,
          119.99,
          239.99,
          999.99,
          139.99,
          549.99,
          249.99,
          239.99,
          399.99,
          259.99,
          399.99,
          89.99,
          119.99,
          299.99,
          129.99,
          159.99,
          189.99,
          169.99,
          269.99,
          179.99,
          179.99,
          149.99,
          59.99,
          159.99,
          549.99,
          69.97,
          349.99,
          139.99,
          209.99,
          329.99,
          99.99,
          229.99,
          179.99,
          149.99,
          269.99,
          249.99,
          569.99,
          219.99,
          189.99,
          299.99,
          219.99,
          159.99,
          149.99,
          129.99,
          139.99,
          229.99,
          249.99,
          139.99,
          129.99,
          259.99,
          139.99,
          219.99,
          159.99,
          249.99,
          79.99,
          649.99,
          47.99,
          44.99,
          44.99,
          39.99,
          49.99,
          44.99,
          39.99,
          27.99,
          74.99,
          56.99,
          79.99,
          39.99,
          79.99,
          29.99,
          59.99,
          29.99,
          64.99,
          21.99,
          349.99,
          44.99,
          49.99,
          27.99,
          109.99,
          59.99,
          21.99,
          69.99,
          229.99,
          99.99,
          54.99,
          49.99,
          44.99,
          36.99,
          19.99,
          19.99,
          36.99,
          349.99,
          49.99,
          16.99,
          49.99,
          37.99,
          56.99,
          49.99,
          54.99,
          21.99,
          79.99,
          27.99,
          44.99,
          79.99,
          36.99,
          19.99,
          28.79,
          26.99,
          56.99,
          28.79,
          62.99,
          28.99,
          23.99,
          22.49,
          57.99,
          52.99,
          72.99,
          79.99,
          159.99,
          149.99,
          139.99,
          179.99,
          149.99,
          99.99,
          179.99,
          219.99,
          209.99,
          349.99,
          199.99,
          219.99,
          119.99,
          229.99,
          199.99,
          349.99,
          239.99,
          179.99,
          299.99,
          219.99,
          109.99,
          249.99,
          229.99,
          379.99,
          64.99,
          189.99,
          59.99,
          79.99,
          129.99,
          269.99,
          169.99,
          199.99,
          119.99,
          259.99,
          169.99,
          269.99,
          179.99,
          59.99,
          69.97,
          269.99,
          249.99,
          219.99,
          189.99,
          139.99,
          159.99,
          249.99,
          79.99,
          49.99,
          44.99,
          42.99,
          54.99,
          27.99,
          49.99,
          38.99,
          49.99,
          39.99,
          11.99,
          49.99,
          24.99,
          42.99,
          42.99,
          42.99,
          64.99,
          39.99,
          42.99,
          42.99,
          109.99,
          42.99,
          59.99,
          39.99,
          49.99,
          32.99,
          36.99,
          49.99,
          49.99,
          24.99,
          39.99,
          56.99,
          59.99,
          54.99,
          39.99,
          32.99
         ],
         "xaxis": "x",
         "y": [
          4.3,
          5,
          4.1,
          4.7,
          4.5,
          4.4,
          4.7,
          4.4,
          4.4,
          5,
          4,
          3,
          4.7,
          4.6,
          4.6,
          4.5,
          4.2,
          1.5,
          3.6,
          3,
          4.7,
          4.3,
          4.3,
          2.2,
          4.2,
          4,
          4.5,
          4.2,
          3,
          4.8,
          5,
          4.5,
          4,
          4.8,
          4.7,
          3.6,
          4,
          4.1,
          3.8,
          4.3,
          5,
          4.9,
          4.3,
          4.7,
          4,
          4,
          4.8,
          4.2,
          3.7,
          4.7,
          4.8,
          4.9,
          4.7,
          4.7,
          4.7,
          4,
          2.5,
          3.4,
          4.6,
          4.6,
          4.7,
          4.6,
          3,
          4.7,
          4.2,
          4,
          3.4,
          3.8,
          4.6,
          4.7,
          4.3,
          4.8,
          4.6,
          4.7,
          4.4,
          4.7,
          3.3,
          4.7,
          4.2,
          3.7,
          4.6,
          4.5,
          4.9,
          2.3,
          4.5,
          4.4,
          4.4,
          3.7,
          4.8,
          4.6,
          4.1,
          4.7,
          4.7,
          3.8,
          4.7,
          3.8,
          4.5,
          4.7,
          4.7,
          4.7,
          4.9,
          4.8,
          4.5,
          4.5,
          4.4,
          4,
          4.7,
          4.7,
          4.7,
          4.6,
          4.5,
          4.7,
          4.7,
          4.7,
          4.7,
          4.7,
          4.6,
          3.9,
          4.7,
          4.6,
          4.6,
          4.3,
          4.1,
          4.2,
          4.6,
          4.5,
          4.3,
          4.7,
          4.5,
          4.6,
          3.7,
          4.6,
          4.8,
          4.5,
          4.4,
          4.4,
          4.5,
          4.2,
          4.5,
          4.6,
          5,
          4.5,
          4.5,
          4.4,
          4.4,
          4.2,
          4.5,
          4.5,
          4.7,
          4.6,
          4.6,
          3.9,
          4.5,
          4,
          4.6,
          4.3,
          4.2,
          4.2,
          3.7,
          4.2,
          3.9,
          3.9,
          3.9,
          4.4,
          4.4,
          4.5,
          4.1,
          4.3,
          4.2,
          3.9,
          4.7,
          4.7,
          3.5,
          4.1,
          4.4,
          4.3,
          3.9,
          4.1,
          4.4,
          4.4,
          4,
          4.4,
          4.2,
          4,
          4.1,
          4.3,
          3.9,
          4.2,
          4.8,
          4.5,
          4.2,
          4.3,
          3.8,
          4.6,
          4.2,
          4.7,
          4.4,
          4.5,
          4.2,
          4.4,
          3.7,
          4.3,
          4.5,
          4.7,
          3.7,
          4.3,
          4.2,
          4.6,
          4.4,
          4.7,
          4.5,
          4.4,
          4.5,
          4.5,
          4.4,
          4.7,
          4.1,
          4.5,
          4.1,
          4.7,
          4.5,
          4.4,
          4.2,
          4.6,
          4.6,
          4.8,
          4.5,
          4.3,
          3.7,
          4.4,
          4.5,
          4.5,
          5,
          4.5,
          4.6,
          4.5,
          3.8,
          4.4,
          4.5,
          5,
          4.5,
          4.8,
          4.5,
          4.4,
          4.4,
          4.3,
          4.8,
          4.5,
          4.6,
          4.8,
          4.8,
          4.6,
          4.2,
          4.4,
          4.5,
          4.6,
          4.7,
          4.5,
          4.4,
          5,
          4.4,
          4.4,
          4,
          4.4,
          4.7,
          4.4,
          4.2,
          4.6,
          4.2,
          4.3,
          4.1,
          4,
          4,
          3.9,
          4.4,
          4.6,
          5,
          4.2,
          3.2,
          5,
          4.5,
          4.6,
          4.5,
          4.7,
          4.7,
          4.6,
          4.6,
          4.6,
          4.7,
          4.6,
          4.7,
          4.5,
          4.6,
          4.8,
          4.6,
          4.5,
          4.7,
          4.4,
          4.6,
          4.7,
          4.3,
          4.8,
          4.6,
          4.7,
          4.4,
          4.7,
          4.2,
          4.5,
          2.3,
          4.5,
          4.7,
          4.9,
          4.2,
          4.5,
          4.4,
          4.2,
          4.3,
          4.4,
          3,
          4.5,
          4,
          4,
          4.5,
          3.5,
          3.5,
          4.6,
          4.5,
          4.2,
          4.7,
          4.5,
          4.3,
          4.4,
          1,
          4.3,
          3.9,
          4.2,
          4.6,
          4.7,
          3.1,
          3.4,
          4.6,
          4.4,
          4.5,
          4.5,
          4.1,
          4.5,
          4.2,
          4.6,
          4.4,
          4.4,
          4.2,
          3.4,
          4.5,
          4.4,
          4.4,
          2.6,
          4.2,
          4.5,
          4.4,
          4.5,
          4.6,
          4.2,
          4,
          4.4,
          4.5,
          3.9,
          4,
          5,
          3.8,
          4.6,
          3.7,
          4.5,
          4,
          4.7,
          1,
          3,
          4.6,
          4.6,
          4.4,
          4.4,
          4.5,
          4.1,
          4.5,
          4.7,
          4.4,
          4.2,
          4.4,
          3.9,
          2.8,
          4.2,
          4,
          4.4,
          4.2,
          4.7,
          4,
          4.1,
          4.4,
          4.8,
          4.5,
          2.9,
          4.1,
          4.1,
          4.9,
          4.1,
          4.5,
          4.6,
          4.9,
          4.3,
          4.6,
          4.2,
          4.4,
          4.6,
          4.7,
          4.3,
          4.1,
          4.5,
          4.4,
          4.7,
          3.3,
          4.3,
          3.6,
          4.1,
          4,
          4.3,
          4.4,
          5,
          3.8,
          4,
          3.8,
          4.3,
          4.5,
          4.5,
          4.8,
          4.2,
          4.7,
          4.7,
          4.7,
          4.6,
          4.4,
          4.6,
          4.8,
          4.5,
          4.7,
          4.6,
          4.8,
          4.8,
          4.7,
          4.5,
          4.2,
          4.7,
          4.8,
          4.3,
          4.5,
          4.3,
          5,
          4.7,
          5,
          4.5,
          4.7,
          4.4,
          4.5,
          4.3,
          4.4,
          4.9,
          3.7,
          3.9,
          4.7,
          4.7,
          4.9,
          3.3,
          4.1,
          4.8,
          4.7,
          4.4,
          4.4,
          4.7,
          4.1,
          4.5,
          4.6,
          3.4,
          4.7,
          4.8,
          4.6,
          4.7,
          4.6,
          4.4,
          3.1,
          2.7,
          4.1,
          3.7,
          5,
          4.7,
          4.7,
          4.7,
          3.7,
          3.5,
          5,
          4.2,
          4.5,
          4.4,
          4.5,
          4.7,
          4.4,
          4.6,
          4.5,
          4.2,
          4.4,
          4.5,
          4,
          3.5,
          4.6,
          3.9,
          4.2,
          4.6,
          3.4,
          4.5,
          4.5,
          4.1,
          4.6,
          4.4,
          4.4,
          4.4,
          4.2,
          4.5,
          4.4,
          4,
          4.6,
          1,
          4.4,
          4.5,
          2.8,
          4.4,
          4.8,
          2.9,
          4.1,
          4.5,
          4.3,
          4.1,
          4.4,
          4.7,
          4.3,
          4.5,
          4.8,
          4.2,
          5,
          4.1,
          4.2,
          4.5,
          4.7,
          5,
          4.7,
          4.8,
          4.1,
          4.6,
          4.2,
          4.4,
          3.7,
          3.4,
          4.7,
          4.5,
          4.4,
          4,
          4.6,
          4.7,
          4.3,
          2.8,
          4.6,
          4.6,
          4.5,
          4.7,
          4.2,
          4.5,
          4,
          4.6,
          4.8,
          3.2,
          4.6,
          4.4,
          4.6
         ],
         "yaxis": "y"
        },
        {
         "customdata": [
          [
           "Pulp & Press Organic Cold-Pressed Wellness Shot Pack, 48-pack"
          ],
          [
           "Kirkland Signature Bottled Water 16.9 fl oz, 40-count, 48 Case Pallet"
          ],
          [
           "Pulp and Press 3-Day Organic Cold Pressed Juice Cleanse"
          ],
          [
           "NuTrail Keto Nut Granola Blueberry Cinnamon 2-Pack (22 oz each)"
          ],
          [
           "Nellie’s Laundry Soda, 400 Loads"
          ],
          [
           "Scotch-Brite Lint Roller, 95-count, 5-pack"
          ],
          [
           "San Francisco French Roast Whole Bean Coffee 3 lb, 2-pack"
          ],
          [
           "Tsar Nicoulai Baerii Caviar 2 oz. Gift Set"
          ],
          [
           "Plaza Osetra Farmed Bulgarian Sturgeon Caviar 2 oz, 3-pack"
          ],
          [
           "Tsar Nicoulai Estate White Sturgeon Caviar 4.4 oz"
          ],
          [
           "Plaza Osetra Farmed Bulgarian Sturgeon Caviar 2 oz, 3-pack"
          ],
          [
           "Dewey’s Bakery Celebration Gift Box"
          ],
          [
           "Tsar Nicoulai Estate White Sturgeon Caviar 4.4 oz"
          ],
          [
           "Tsar Nicoulai Baerii Caviar 2 oz. Gift Set"
          ],
          [
           "Kirkland Signature Super B-Complex with Electrolytes, 500 Tablets"
          ],
          [
           "Nellie’s Laundry Soda, 400 Loads"
          ],
          [
           "Scotch-Brite Lint Roller, 95-count, 5-pack"
          ],
          [
           "Ahi Tuna Individual Vacuum Packed Portion (26-27/6 Oz. Per Portion), 26-27 Total Packs, 10 Lbs. Total Case"
          ],
          [
           "Alaska Home Pack Frozen Sea Cucumber - 3 Packs, 7 Lbs. Total"
          ],
          [
           "Northfork Ground Bison - (10/1 Lb. Per Pack), 10 Total Packs, 10 Lbs. Total"
          ],
          [
           "Northfork Elk Burger (30/5.33 Oz Per Burger), 10 Total Packs, 30-Count"
          ],
          [
           "Kansas City Steak Company USDA Choice Combo Pack (4 Strips, 4 Filet Mignon, 4 Ribeyes), 12 Total Packs, 11.5 Lbs. Total"
          ],
          [
           "Northfork Bison Burger (30/5.33 Oz Per Burger), 10 Total Packs, 30-Count"
          ],
          [
           "Manuka Health UMF 20+ (MGO 850+) Raw Manuka Honey 8.8 oz"
          ],
          [
           "Full Thread Greek Saffron 14 Gram Jar"
          ],
          [
           "Ahi Tuna Individual Vacuum Packed Portion (26-27/6 Oz. Per Portion), 26-27 Total Packs, 10 Lbs. Total Case"
          ],
          [
           "Alaska Home Pack Frozen Sea Cucumber - 3 Packs, 7 Lbs. Total"
          ],
          [
           "G2G 3-pack Peanut Butter Chocolate Chip Protein Bars 24-count"
          ],
          [
           "G2G 3-pack Peanut Butter Coconut Chocolate Protein Bars 24-count"
          ]
         ],
         "hovertemplate": "Discount Status=Discounted<br>Price=%{x}<br>Rating=%{y}<br>Title=%{customdata[0]}<extra></extra>",
         "legendgroup": "Discounted",
         "marker": {
          "color": "green",
          "opacity": 0.4,
          "symbol": "circle"
         },
         "mode": "markers",
         "name": "Discounted",
         "orientation": "v",
         "showlegend": true,
         "type": "scatter",
         "x": [
          99.99,
          439.99,
          89.99,
          28.99,
          42.99,
          17.89,
          34.99,
          99.99,
          199.99,
          149.99,
          199.99,
          49.99,
          149.99,
          99.99,
          15.99,
          42.99,
          17.89,
          149.99,
          239.99,
          109.99,
          109.99,
          279.99,
          109.99,
          59.99,
          59.99,
          149.99,
          239.99,
          39.99,
          39.99
         ],
         "xaxis": "x2",
         "y": [
          4.5,
          4.3,
          4.4,
          4.8,
          4.8,
          4.7,
          4.8,
          4.4,
          4.6,
          4.4,
          4.6,
          4.5,
          4.4,
          4.4,
          4.7,
          4.8,
          4.7,
          4.6,
          4,
          4.7,
          4.6,
          4.8,
          4.6,
          4.6,
          4.7,
          4.6,
          4,
          4.7,
          4.8
         ],
         "yaxis": "y2"
        }
       ],
       "layout": {
        "annotations": [
         {
          "font": {},
          "showarrow": false,
          "text": "Discount Status=Full Price",
          "x": 0.2375,
          "xanchor": "center",
          "xref": "paper",
          "y": 1,
          "yanchor": "bottom",
          "yref": "paper"
         },
         {
          "font": {},
          "showarrow": false,
          "text": "Discount Status=Discounted",
          "x": 0.7625,
          "xanchor": "center",
          "xref": "paper",
          "y": 1,
          "yanchor": "bottom",
          "yref": "paper"
         }
        ],
        "autosize": true,
        "legend": {
         "title": {
          "text": "Discount Status"
         },
         "tracegroupgap": 0
        },
        "template": {
         "data": {
          "bar": [
           {
            "error_x": {
             "color": "#2a3f5f"
            },
            "error_y": {
             "color": "#2a3f5f"
            },
            "marker": {
             "line": {
              "color": "white",
              "width": 0.5
             },
             "pattern": {
              "fillmode": "overlay",
              "size": 10,
              "solidity": 0.2
             }
            },
            "type": "bar"
           }
          ],
          "barpolar": [
           {
            "marker": {
             "line": {
              "color": "white",
              "width": 0.5
             },
             "pattern": {
              "fillmode": "overlay",
              "size": 10,
              "solidity": 0.2
             }
            },
            "type": "barpolar"
           }
          ],
          "carpet": [
           {
            "aaxis": {
             "endlinecolor": "#2a3f5f",
             "gridcolor": "#C8D4E3",
             "linecolor": "#C8D4E3",
             "minorgridcolor": "#C8D4E3",
             "startlinecolor": "#2a3f5f"
            },
            "baxis": {
             "endlinecolor": "#2a3f5f",
             "gridcolor": "#C8D4E3",
             "linecolor": "#C8D4E3",
             "minorgridcolor": "#C8D4E3",
             "startlinecolor": "#2a3f5f"
            },
            "type": "carpet"
           }
          ],
          "choropleth": [
           {
            "colorbar": {
             "outlinewidth": 0,
             "ticks": ""
            },
            "type": "choropleth"
           }
          ],
          "contour": [
           {
            "colorbar": {
             "outlinewidth": 0,
             "ticks": ""
            },
            "colorscale": [
             [
              0,
              "#0d0887"
             ],
             [
              0.1111111111111111,
              "#46039f"
             ],
             [
              0.2222222222222222,
              "#7201a8"
             ],
             [
              0.3333333333333333,
              "#9c179e"
             ],
             [
              0.4444444444444444,
              "#bd3786"
             ],
             [
              0.5555555555555556,
              "#d8576b"
             ],
             [
              0.6666666666666666,
              "#ed7953"
             ],
             [
              0.7777777777777778,
              "#fb9f3a"
             ],
             [
              0.8888888888888888,
              "#fdca26"
             ],
             [
              1,
              "#f0f921"
             ]
            ],
            "type": "contour"
           }
          ],
          "contourcarpet": [
           {
            "colorbar": {
             "outlinewidth": 0,
             "ticks": ""
            },
            "type": "contourcarpet"
           }
          ],
          "heatmap": [
           {
            "colorbar": {
             "outlinewidth": 0,
             "ticks": ""
            },
            "colorscale": [
             [
              0,
              "#0d0887"
             ],
             [
              0.1111111111111111,
              "#46039f"
             ],
             [
              0.2222222222222222,
              "#7201a8"
             ],
             [
              0.3333333333333333,
              "#9c179e"
             ],
             [
              0.4444444444444444,
              "#bd3786"
             ],
             [
              0.5555555555555556,
              "#d8576b"
             ],
             [
              0.6666666666666666,
              "#ed7953"
             ],
             [
              0.7777777777777778,
              "#fb9f3a"
             ],
             [
              0.8888888888888888,
              "#fdca26"
             ],
             [
              1,
              "#f0f921"
             ]
            ],
            "type": "heatmap"
           }
          ],
          "heatmapgl": [
           {
            "colorbar": {
             "outlinewidth": 0,
             "ticks": ""
            },
            "colorscale": [
             [
              0,
              "#0d0887"
             ],
             [
              0.1111111111111111,
              "#46039f"
             ],
             [
              0.2222222222222222,
              "#7201a8"
             ],
             [
              0.3333333333333333,
              "#9c179e"
             ],
             [
              0.4444444444444444,
              "#bd3786"
             ],
             [
              0.5555555555555556,
              "#d8576b"
             ],
             [
              0.6666666666666666,
              "#ed7953"
             ],
             [
              0.7777777777777778,
              "#fb9f3a"
             ],
             [
              0.8888888888888888,
              "#fdca26"
             ],
             [
              1,
              "#f0f921"
             ]
            ],
            "type": "heatmapgl"
           }
          ],
          "histogram": [
           {
            "marker": {
             "pattern": {
              "fillmode": "overlay",
              "size": 10,
              "solidity": 0.2
             }
            },
            "type": "histogram"
           }
          ],
          "histogram2d": [
           {
            "colorbar": {
             "outlinewidth": 0,
             "ticks": ""
            },
            "colorscale": [
             [
              0,
              "#0d0887"
             ],
             [
              0.1111111111111111,
              "#46039f"
             ],
             [
              0.2222222222222222,
              "#7201a8"
             ],
             [
              0.3333333333333333,
              "#9c179e"
             ],
             [
              0.4444444444444444,
              "#bd3786"
             ],
             [
              0.5555555555555556,
              "#d8576b"
             ],
             [
              0.6666666666666666,
              "#ed7953"
             ],
             [
              0.7777777777777778,
              "#fb9f3a"
             ],
             [
              0.8888888888888888,
              "#fdca26"
             ],
             [
              1,
              "#f0f921"
             ]
            ],
            "type": "histogram2d"
           }
          ],
          "histogram2dcontour": [
           {
            "colorbar": {
             "outlinewidth": 0,
             "ticks": ""
            },
            "colorscale": [
             [
              0,
              "#0d0887"
             ],
             [
              0.1111111111111111,
              "#46039f"
             ],
             [
              0.2222222222222222,
              "#7201a8"
             ],
             [
              0.3333333333333333,
              "#9c179e"
             ],
             [
              0.4444444444444444,
              "#bd3786"
             ],
             [
              0.5555555555555556,
              "#d8576b"
             ],
             [
              0.6666666666666666,
              "#ed7953"
             ],
             [
              0.7777777777777778,
              "#fb9f3a"
             ],
             [
              0.8888888888888888,
              "#fdca26"
             ],
             [
              1,
              "#f0f921"
             ]
            ],
            "type": "histogram2dcontour"
           }
          ],
          "mesh3d": [
           {
            "colorbar": {
             "outlinewidth": 0,
             "ticks": ""
            },
            "type": "mesh3d"
           }
          ],
          "parcoords": [
           {
            "line": {
             "colorbar": {
              "outlinewidth": 0,
              "ticks": ""
             }
            },
            "type": "parcoords"
           }
          ],
          "pie": [
           {
            "automargin": true,
            "type": "pie"
           }
          ],
          "scatter": [
           {
            "fillpattern": {
             "fillmode": "overlay",
             "size": 10,
             "solidity": 0.2
            },
            "type": "scatter"
           }
          ],
          "scatter3d": [
           {
            "line": {
             "colorbar": {
              "outlinewidth": 0,
              "ticks": ""
             }
            },
            "marker": {
             "colorbar": {
              "outlinewidth": 0,
              "ticks": ""
             }
            },
            "type": "scatter3d"
           }
          ],
          "scattercarpet": [
           {
            "marker": {
             "colorbar": {
              "outlinewidth": 0,
              "ticks": ""
             }
            },
            "type": "scattercarpet"
           }
          ],
          "scattergeo": [
           {
            "marker": {
             "colorbar": {
              "outlinewidth": 0,
              "ticks": ""
             }
            },
            "type": "scattergeo"
           }
          ],
          "scattergl": [
           {
            "marker": {
             "colorbar": {
              "outlinewidth": 0,
              "ticks": ""
             }
            },
            "type": "scattergl"
           }
          ],
          "scattermapbox": [
           {
            "marker": {
             "colorbar": {
              "outlinewidth": 0,
              "ticks": ""
             }
            },
            "type": "scattermapbox"
           }
          ],
          "scatterpolar": [
           {
            "marker": {
             "colorbar": {
              "outlinewidth": 0,
              "ticks": ""
             }
            },
            "type": "scatterpolar"
           }
          ],
          "scatterpolargl": [
           {
            "marker": {
             "colorbar": {
              "outlinewidth": 0,
              "ticks": ""
             }
            },
            "type": "scatterpolargl"
           }
          ],
          "scatterternary": [
           {
            "marker": {
             "colorbar": {
              "outlinewidth": 0,
              "ticks": ""
             }
            },
            "type": "scatterternary"
           }
          ],
          "surface": [
           {
            "colorbar": {
             "outlinewidth": 0,
             "ticks": ""
            },
            "colorscale": [
             [
              0,
              "#0d0887"
             ],
             [
              0.1111111111111111,
              "#46039f"
             ],
             [
              0.2222222222222222,
              "#7201a8"
             ],
             [
              0.3333333333333333,
              "#9c179e"
             ],
             [
              0.4444444444444444,
              "#bd3786"
             ],
             [
              0.5555555555555556,
              "#d8576b"
             ],
             [
              0.6666666666666666,
              "#ed7953"
             ],
             [
              0.7777777777777778,
              "#fb9f3a"
             ],
             [
              0.8888888888888888,
              "#fdca26"
             ],
             [
              1,
              "#f0f921"
             ]
            ],
            "type": "surface"
           }
          ],
          "table": [
           {
            "cells": {
             "fill": {
              "color": "#EBF0F8"
             },
             "line": {
              "color": "white"
             }
            },
            "header": {
             "fill": {
              "color": "#C8D4E3"
             },
             "line": {
              "color": "white"
             }
            },
            "type": "table"
           }
          ]
         },
         "layout": {
          "annotationdefaults": {
           "arrowcolor": "#2a3f5f",
           "arrowhead": 0,
           "arrowwidth": 1
          },
          "autotypenumbers": "strict",
          "coloraxis": {
           "colorbar": {
            "outlinewidth": 0,
            "ticks": ""
           }
          },
          "colorscale": {
           "diverging": [
            [
             0,
             "#8e0152"
            ],
            [
             0.1,
             "#c51b7d"
            ],
            [
             0.2,
             "#de77ae"
            ],
            [
             0.3,
             "#f1b6da"
            ],
            [
             0.4,
             "#fde0ef"
            ],
            [
             0.5,
             "#f7f7f7"
            ],
            [
             0.6,
             "#e6f5d0"
            ],
            [
             0.7,
             "#b8e186"
            ],
            [
             0.8,
             "#7fbc41"
            ],
            [
             0.9,
             "#4d9221"
            ],
            [
             1,
             "#276419"
            ]
           ],
           "sequential": [
            [
             0,
             "#0d0887"
            ],
            [
             0.1111111111111111,
             "#46039f"
            ],
            [
             0.2222222222222222,
             "#7201a8"
            ],
            [
             0.3333333333333333,
             "#9c179e"
            ],
            [
             0.4444444444444444,
             "#bd3786"
            ],
            [
             0.5555555555555556,
             "#d8576b"
            ],
            [
             0.6666666666666666,
             "#ed7953"
            ],
            [
             0.7777777777777778,
             "#fb9f3a"
            ],
            [
             0.8888888888888888,
             "#fdca26"
            ],
            [
             1,
             "#f0f921"
            ]
           ],
           "sequentialminus": [
            [
             0,
             "#0d0887"
            ],
            [
             0.1111111111111111,
             "#46039f"
            ],
            [
             0.2222222222222222,
             "#7201a8"
            ],
            [
             0.3333333333333333,
             "#9c179e"
            ],
            [
             0.4444444444444444,
             "#bd3786"
            ],
            [
             0.5555555555555556,
             "#d8576b"
            ],
            [
             0.6666666666666666,
             "#ed7953"
            ],
            [
             0.7777777777777778,
             "#fb9f3a"
            ],
            [
             0.8888888888888888,
             "#fdca26"
            ],
            [
             1,
             "#f0f921"
            ]
           ]
          },
          "colorway": [
           "#636efa",
           "#EF553B",
           "#00cc96",
           "#ab63fa",
           "#FFA15A",
           "#19d3f3",
           "#FF6692",
           "#B6E880",
           "#FF97FF",
           "#FECB52"
          ],
          "font": {
           "color": "#2a3f5f"
          },
          "geo": {
           "bgcolor": "white",
           "lakecolor": "white",
           "landcolor": "white",
           "showlakes": true,
           "showland": true,
           "subunitcolor": "#C8D4E3"
          },
          "hoverlabel": {
           "align": "left"
          },
          "hovermode": "closest",
          "mapbox": {
           "style": "light"
          },
          "paper_bgcolor": "white",
          "plot_bgcolor": "white",
          "polar": {
           "angularaxis": {
            "gridcolor": "#EBF0F8",
            "linecolor": "#EBF0F8",
            "ticks": ""
           },
           "bgcolor": "white",
           "radialaxis": {
            "gridcolor": "#EBF0F8",
            "linecolor": "#EBF0F8",
            "ticks": ""
           }
          },
          "scene": {
           "xaxis": {
            "backgroundcolor": "white",
            "gridcolor": "#DFE8F3",
            "gridwidth": 2,
            "linecolor": "#EBF0F8",
            "showbackground": true,
            "ticks": "",
            "zerolinecolor": "#EBF0F8"
           },
           "yaxis": {
            "backgroundcolor": "white",
            "gridcolor": "#DFE8F3",
            "gridwidth": 2,
            "linecolor": "#EBF0F8",
            "showbackground": true,
            "ticks": "",
            "zerolinecolor": "#EBF0F8"
           },
           "zaxis": {
            "backgroundcolor": "white",
            "gridcolor": "#DFE8F3",
            "gridwidth": 2,
            "linecolor": "#EBF0F8",
            "showbackground": true,
            "ticks": "",
            "zerolinecolor": "#EBF0F8"
           }
          },
          "shapedefaults": {
           "line": {
            "color": "#2a3f5f"
           }
          },
          "ternary": {
           "aaxis": {
            "gridcolor": "#DFE8F3",
            "linecolor": "#A2B1C6",
            "ticks": ""
           },
           "baxis": {
            "gridcolor": "#DFE8F3",
            "linecolor": "#A2B1C6",
            "ticks": ""
           },
           "bgcolor": "white",
           "caxis": {
            "gridcolor": "#DFE8F3",
            "linecolor": "#A2B1C6",
            "ticks": ""
           }
          },
          "title": {
           "x": 0.05
          },
          "xaxis": {
           "automargin": true,
           "gridcolor": "#EBF0F8",
           "linecolor": "#EBF0F8",
           "ticks": "",
           "title": {
            "standoff": 15
           },
           "zerolinecolor": "#EBF0F8",
           "zerolinewidth": 2
          },
          "yaxis": {
           "automargin": true,
           "gridcolor": "#EBF0F8",
           "linecolor": "#EBF0F8",
           "ticks": "",
           "title": {
            "standoff": 15
           },
           "zerolinecolor": "#EBF0F8",
           "zerolinewidth": 2
          }
         }
        },
        "title": {
         "text": "Price vs. Customer Rating by Discount"
        },
        "xaxis": {
         "anchor": "y",
         "autorange": true,
         "domain": [
          0,
          0.475
         ],
         "matches": "x",
         "range": [
          -67.07180862631388,
          1068.061808626314
         ],
         "title": {
          "text": "Price After Discount in $"
         },
         "type": "linear"
        },
        "xaxis2": {
         "anchor": "y2",
         "autorange": true,
         "domain": [
          0.525,
          1
         ],
         "matches": "x",
         "range": [
          -67.07180862631388,
          1068.061808626314
         ],
         "title": {
          "text": "Price After Discount in $"
         },
         "type": "linear"
        },
        "yaxis": {
         "anchor": "x",
         "autorange": true,
         "domain": [
          0,
          1
         ],
         "range": [
          0.7327935222672065,
          5.267206477732794
         ],
         "title": {
          "text": "Customer Ratings (0–5 Scale)"
         },
         "type": "linear"
        },
        "yaxis2": {
         "anchor": "x2",
         "autorange": true,
         "domain": [
          0,
          1
         ],
         "matches": "y",
         "range": [
          0.7327935222672065,
          5.267206477732794
         ],
         "showticklabels": false,
         "title": {
          "text": ""
         },
         "type": "linear"
        }
       }
      },
      "image/png": "[encoded data removed]",
      "text/html": [
       "<div>                            <div id=\"622e8057-6fc1-4614-b88a-83e00f964815\" class=\"plotly-graph-div\" style=\"height:600px; width:100%;\"></div>            <script type=\"text/javascript\">                require([\"plotly\"], function(Plotly) {                    window.PLOTLYENV=window.PLOTLYENV || {};                                    if (document.getElementById(\"622e8057-6fc1-4614-b88a-83e00f964815\")) {                    Plotly.newPlot(                        \"622e8057-6fc1-4614-b88a-83e00f964815\",                        [{\"customdata\":[[\"David\\u2019s Cookies Mile High Peanut Butter Cake, 6.8 lbs (14 Servings)\"],[\"The Cake Bake Shop 8\\\" Round Carrot Cake (16-22 Servings)\"],[\"St Michel Madeleine, Classic French Sponge Cake 100 - count\"],[\"David's Cookies Butter Pecan Meltaways 32 oz, 2-pack\"],[\"David\\u2019s Cookies Premier Chocolate Cake, 7.2 lbs (Serves 14)\"],[\"David's Cookies Mango & Strawberry Cheesecake 2-count (28 Slices Total)\"],[\"La Grande Galette French Butter Cookies, 1.3 lb, 6-pack\"],[\"David's Cookies No Sugar Added Cheesecake & Marble Truffle Cake, 2-pack (28 Slices Total)\"],[\"David's Cookies Brownie and Cookie Combo Pack\"],[\"The Cake Bake Shop 8\\\" Round Chocolate Cake (16-22 Servings)\"],[\"David's Cookies 10\\\" Rainbow Cake  (12 Servings)\"],[\"The Cake Bake Shop 2 Tier Special Occasion Cake (16-22 Servings)\"],[\"David's Cookies 90-piece Gourmet Chocolate Chunk Frozen Cookie Dough\"],[\"David's Cookies Chocolate Fudge Birthday Cake, 3.75 lbs.  Includes Party Pack (16 Servings)\"],[\"Ferrara\\u2019s Bakery New York Cheesecake 2-pack\"],[\"David\\u2019s Cookies Variety Cheesecakes, 2-pack (28 Slices Total)\"],[\"Mary Macleod's Gluten Free Shortbread Cookies Mixed Assortment 8-Pack \"],[\"The Cake Bake Shop 8\\\" Round Pixie Fetti Cake (16-22 Servings)\"],[\"Ferrara\\u2019s Bakery 8 in. Tiramisu Cake, 2-pack\"],[\"Classic Cake Limoncello Quarter Sheet Cake (14 Pre-Cut Total Slices, 4 Oz. Per Slice, 3.5 Lbs Total Box)\"],[\"deMilan Panettone Classico Tin Cake 2.2 lb Tin\"],[\"David\\u2019s Cookies Decadent Triple Chocolate made with mini Hershey\\u2019s Kisses and Reese\\u2019s Peanut Butter Cup Cookies Tin \\u2013 2 Count\"],[\"Ferrara's Bakery 4 lbs. Italian Cookie Pack\"],[\"Ferrara's Bakery 48 Mini Cannoli's (24 Plain Filled and 24 Hand Dipped Belgian Chocolate) - 1.5\\\" to 2\\\" In Length\"],[\"Ferrara's Bakery 24 Large Cannoli's (12 Plain Filled and 12 Hand Dipped Belgian Chocolate)\"],[\"Mary Macleod\\u2019s Shortbread, Variety Tin, 3-pack, 24 cookies per tin\"],[\"Ferrara's Bakery Rainbow Cookies 1.5 lb\"],[\"Ferrara's Bakery 2 lb Italian Cookie Tray and Struffoli\"],[\"Tootie Pie 11\\\" Heavenly Chocolate Pie, 2- pack \"],[\"Olipop 12 oz Prebiotics Soda Variety Pack, 24 Count\"],[\"Joyburst Energy Variety, 12 fl oz, 18-count\"],[\"Starbucks Classic Hot Cocoa Mix 30 oz, 2-pack\"],[\"VitaCup Green Tea Instant Packets with Matcha, Enhance Energy & Detox, 2-pack (48-count total)\"],[\"Sencha Naturals Everyday Matcha Green Tea Powder, 3-pack\"],[\"Vonbee Honey Citron & Ginger Tea 4.4 lb 2-pack\"],[\"100% Spring Water, 2.5 Gallon, 2-count, 48 Case Pallet\"],[\"Pressed Cold-Pressed Juice & Shot Bundle -18 Bottles, 9 Juices & 9 Shots\"],[\"Pressed 3-Day Cleanse Bundle (18 Juices & 6 Shots)\"],[\"Pressed 5-day Cleanse Bundle - 40 bottles, 30 Juices, and 10 Shots\"],[\"Pulp and Press 5-Day Organic Cold Pressed Juice Cleanse\"],[\"Pulp & Press Organic Cold-Pressed Juice Variety Pack, 18-pack\"],[\"Tiesta Tea Loose Leaf Tea Variety 3-Pack (16 oz each)\"],[\"Pressed Cold-Pressed Greens, Roots & Citrus Bundle  (12 oz) 15-count\"],[\"Joyburst Hydration Drink, Variety Pack, 12 fl oz, 24-count \"],[\"Pressed 3-day Beginner Cleanse Bundle  - 24 bottles, 18 Juice and  6 Shots\"],[\"Ready Sports Drink Light, Mango Lemonade, 16.9 fl oz, 12-count\"],[\"Cherry Bay Orchards Tart Cherry Concentrate 32 fl. oz., 2-pack\"],[\"Pressed 36-count (2 oz) Wellness Shots \"],[\"Joyburst Energy Drink, Frose Rose, 12 fl oz, 12-count\"],[\"NuTrail Keto Nut Granola Honey Nut 2-pack (22 oz. each)\"],[\"Utah Truffles Dark Chocolate Truffles With Sea Salt 16 oz, 2-pack\"],[\"Utah Truffle Milk Chocolate Mint Truffles 16 oz, 2-pack\"],[\"Bouchard Belgian Napolitains Premium Dark Chocolate 32 oz,  2-pack\"],[\"Ghirardelli Chocolate Squares Premium Chocolate Assortment, 23.8 oz\"],[\"Godiva Masterpieces Assortment of Legendary Milk Chocolate 14.9 oz 4-Pack\"],[\"Kiss My Keto Gummy Candy Fish Friends, 6-count, 2-pack\"],[\"Chocolate Moonshine Co. Belgian Artisan Black Cherry Bourbon Bark, 20 oz.\"],[\"Kiss My Keto Gummies Tropical Rings, 6-count, 2-pack\"],[\"Godiva Assorted Chocolate Gold Collection Gift Box 36-pieces\"],[\"Sanders Dark Chocolate Sea Salt Caramels 36 oz., 2-pack\"],[\"Sanders Milk Chocolate Sea Salt Caramels 36 oz., 2-pack\"],[\"Truffettes de France Cocoa Truffles 16 oz, 4-pack\"],[\"A'cappella Caramel Ensemble, 3.25 oz, 8-count\"],[\"Mrs. Calls Kettle Cooked Sea Salt Soft Caramels 25 oz, 2-pack\"],[\"Chocolate Moonshine Fudge, 6 count Variety Party Pack, 3 lbs Total\"],[\"Popcornopolis Pumpkin Spice Cone, 4.5 oz, 12 pack\"],[\"A'cappella Knotty Grahams Ensemble, 4.5 oz, 8-count\"],[\"A'cappella Bark Ensemble, 3.4 oz, 8-count\"],[\"Nellie\\u2019s Laundry Starter Pack\"],[\"Nellie\\u2019s Baby Laundry Soda, 500 Loads\"],[\"Nellie's Laundry Nuggets, 350 Loads\"],[\"Nellie's Laundry Soda, 800 Loads\"],[\"ECOS HE Laundry Detergent Sheets, Free & Clear, 100 Loads, 100 Sheets, 2-count\"],[\"ECOS HE Liquid Laundry Detergent, Magnolia & Lily, 210 Loads, 210 fl oz, 2-count\"],[\"Boulder Clean Laundry Detergent Sheets, Free & Clear, 160 Loads, 80 Sheets\"],[\"ECOS HE Liquid Laundry Detergent, Free & Clear, 210 Loads, 210 fl oz, 2-count\"],[\"MyEcoWorld 13-gallon Compostable Food Waste Bag, 72-count\"],[\"MyEcoWorld 3-gallon Compostable Food Waste Bag, 150-count\"],[\"The Unscented Company HE Liquid Laundry Detergent Bottle & Refill Box, 478 Loads, 403.82 fl oz\"],[\"Nellie's Dish Butter Bundle\"],[\"Clorox Clean-Up All Purpose Cleaner with Bleach, Original, 32 oz & 180 oz Refill\"],[\"Boulder Clean Liquid Laundry Detergent, Citrus Breeze, 200 loads, 200 fl oz\"],[\"The Unscented Company Liquid Dish Soap Refill Box, 337.92 fl oz\"],[\"The Unscented Company Laundry Tabs, 300 Loads\"],[\"Nellie's Wow Mop Starter Kit\"],[\"The Unscented Company Liquid Dish Soap Bottle & Refill Box, 363.22 fl oz\"],[\"Nellie's Dishwasher Nuggets, 150-count\"],[\"Boulder Clean Disinfectant Cleaner, Fresh Lemon, 128 fl oz\"],[\"Bona Hardwood Floor Cleaner, Original, 32 fl oz & 128 fl oz Ready-To-Use Refill\"],[\"Febreze Air Refresher, Variety Pack, 8.8 oz, 4-count\"],[\"Twist & Shout Spin Mop & Bucket System with 1 Refill\"],[\"Puracy Surface Cleaner, 25 fl oz, 3-count\"],[\"Lysol Disinfectant Spray, Crisp Linen, 19 oz, 3-count\"],[\"Dr. Jacobs Naturals Pure Castile Soap, Variety Pack, 32 oz, 3-count\"],[\"Poo-Pourri Toilet Spray, Variety Pack, 3.4 fl oz, 3-count\"],[\"Dr. Jacobs Naturals Pure Castile Soap, Variety Pack, 32 oz, 3-count\"],[\"Nellie\\u2019s Bulk Oxygen Brightener, 8.75 lbs\"],[\"Nellie's Floor Care, 25 fl oz, 3-count\"],[\"Nellie's Lamby Dryerballs, 4-count, 2-pack\"],[\"Clorox ToiletWand Disposable Toilet Cleaning System with 36 Refills\"],[\"The Unscented Company Dryer Balls, 6-count\"],[\"The Unscented Company Dishwasher Tabs, 500-count\"],[\"The Unscented Company Dishwasher Tabs, 30-count, 4-pack\"],[\"Kirkland Signature Organic Ethiopia Whole Bean Coffee, 2 lbs\"],[\"Kirkland Signature Organic Colombian Decaf Whole Bean Coffee, 2 lbs\"],[\"Kirkland Signature Organic Sumatra Whole Bean Coffee, 2 lbs, 2-pack\"],[\"Kirkland Signature Rwandan Coffee 3 lb, 2-pack\"],[\"Kirkland Signature Sumatran Whole Bean Coffee 3 lb, 2-pack\"],[\"Kirkland Signature Costa Rica Coffee 3 lb, 2-pack\"],[\"Kirkland Signature USDA Organic Whole Bean Blend 2 lb, 2-pack\"],[\"Mayorga Buenos D\\u00edas, USDA Organic, Light Roast, Whole Bean Coffee, 2lb, 2-pack\"],[\"Ruta Maya Organic Jiguan\\u00ed Whole Bean Coffee 5 lb\"],[\"Jose\\u2019s Vanilla Nut Whole Bean Coffee 3 lb, 2-pack\"],[\"Cometeer Dark Roast Coffee, 56 Frozen Capsules\"],[\"Ruta Maya Organic Medium Roast Whole Bean Coffee 5 lb\"],[\"San Francisco Bay Organic Rainforest Blend Whole Bean Coffee 3 lbs, 2-pack\"],[\"Jose\\u2019s 100% Organic Mayan Whole Bean Coffee 2.5 lb, 2-pack\"],[\"Copper Moon Costa Rica Blend, Medium Roast Whole Bean Coffee, 2 lb Bags, 2-Pack\"],[\"Mayorga Caf\\u00e9 Cubano Roast, USDA Organic, Dark Roast, Whole Bean Coffee, 2lb, 2-pack\"],[\"Mayorga Decaf Caf\\u00e9 Cubano Roast, USDA Organic, Dark Roast, Whole Bean Coffee, 2lb, 2-pack\"],[\"San Francisco Bay Coffee Light Roast Cold Brew Coarse Ground Coffee, 28 oz, 2-pack\"],[\"Parisi Artisan Coffee Bolivian Organic Blend Whole Bean 2 lb, 2-pack\"],[\"VitaCup Slim Instant Coffee Packets, Boost Diet & Metabolism, 30-count\"],[\"Caffe Vita Coffee Caffe Del Sol Blend Whole Bean, Medium Roast, 2 lb. bags, 2-pack\"],[\"San Francisco Bay Decaf French Roast Whole Bean Coffee 2 lb, 2-pack\"],[\"Caffe Vita Coffee Theo Blend Whole Bean, Medium-Dark Roast, 2 lb. bags, 2-pack \"],[\"Caffe Vita Caffe Luna French Roast Whole Bean, Dark Roast, 2 lb. bags, 2-pack\"],[\"Ruta Maya Decaffeinated Coffee 2.2 lb, 2-pack\"],[\"San Francisco Bay Coffee Organic Rainforest Blend Ground 28oz, 2-pack\"],[\"Mayorga Organics Mayan Blend, USDA Organic, Medium Roast, Whole Bean Coffee, 2lb, 2-pack\"],[\"VitaCup Shroom Fuel Mushroom Based Coffee Alternative Packets, 2-pack, Total 48 Counts\"],[\"Mayorga Organic Winter Blend, USDA Organic, Dark Roast, Whole Bean Coffee, 2lb, 2-pack\"],[\"Ruta Maya Organic Dark Roast Coffee, 5 lbs\"],[\"Mother Earth Organic Medium Roast Coffee 2 lb, 2-pack\"],[\"Jose's Hazelnut Cream Medium Roast Whole Bean 2 lbs, 2-Pack\"],[\"Kirkland Signature Guatemalan Coffee 3 lb, 2-pack\"],[\"Tsar Nicoulai Classic White Sturgeon Caviar 2 oz Gift Set\"],[\"Giordano's Chicago Frozen 10\\\" Deep Dish Stuffed Pizza, 3-pack\"],[\"D'Artagnan 13-piece Gourmet Roasting Ham & Luxury Charcuterie Gift Box, 12.5 lbs\"],[\"Covap\\u00a0Jamon Iberico Bellota Ham Leg with Stand and Knife, 15.4 lbs.\\u00a0\"],[\"Plaza Golden Osetra Caviar Kilo Pack, 35.2 oz\"],[\"Plaza Osetra Farmed Bulgarian Sturgeon Caviar, 2 oz Gift Set\"],[\"D'Artagnan 18-month Aged Boneless Spanish Serrano Ham, 9.5 lbs\"],[\"Tsar Nicoulai Baerii Caviar 2 oz, 3-pack\"],[\"Pacific Plaza Golden Osetra Caviar 2 oz, 2-pack\"],[\"Tsar Nicoulai Caviar Tasting Flight Gift Set \"],[\"Tsar Nicoulai Estate Classic White Sturgeon Caviar 2 oz, 3-pack\"],[\"Plaza Golden Osetra 2 oz Caviar Gift Set\"],[\"Plaza Golden Osetra Caviar, 8.8 oz\"],[\"Plaza Osetra Kilo Caviar Pack\"],[\"Plaza Osetra Farmed Bulgarian Sturgeon Caviar, 8.8 oz \"],[\"Fratelli Beretta Snack Pack, 2.5 oz, 10-pack\"],[\"Fratelli Beretta Prosciutto di Parma Boneless, DOP, minimum 14.7 lbs\"],[\"50-stem White Roses\"],[\"100-stem Baby's Breath\"],[\"Birthday Full of Happiness Floral Arrangement\"],[\"50-stem Red Roses\"],[\"Truly Sweet Floral Arrangement\"],[\"50-stem Light Pink Roses\"],[\"Inspire Floral Arrangement\"],[\"Tranquility Vase Arrangement \"],[\"Love You More Floral Arrangement\"],[\"Passion Vase Arrangement\"],[\"24-stem Hydrangeas\"],[\"Mountain Bouquet Event Collection, 10-count\"],[\"Timeless Romance Floral Arrangement\"],[\"50-stem Red & White Roses\"],[\"Bountiful Garden Bouquet\"],[\"115-stem Floral Variety Combination\"],[\"Day Dream Vase Arrangement \"],[\"Mini Floral Centerpieces, 9-count\"],[\"6' Wedding Runner, 4-pack\"],[\"50-stem Lavender Roses\"],[\"Sunset Bliss Floral Arrangement\"],[\"100-stem Fillers and Greens \"],[\"Birthday Celebration Floral Arrangement\"],[\"100-stem White and Green Fillers\"],[\"50-stem Shades of Pink Quad Roses\"],[\"Elegance Floral Arrangement\"],[\"100-stem Carnations\"],[\"50-stem Yellow Roses\"],[\"Mystical Garden Floral Arrangement\"],[\"Sunflower Sunshine Floral Arrangement\"],[\"50-stem Hot Pink Roses\"],[\"100-stem Assorted Green Fillers \"],[\"Get Well Wishes Floral Arrangement\"],[\"Fleur Floral Arrangement\"],[\"Fleur Vibrant Floral Arrangement\"],[\"Fresh Wedding Garland\"],[\"Island Breeze Bouquet\"],[\"80-stem Alstroemeria\"],[\"Thinking of You Floral Arrangement\"],[\"120-stem Ranunculus \"],[\"Rose Petals\"],[\"White Garden Floral Arrangement\"],[\"40-stem Sunflowers\"],[\"40-stem Mini Green Hydrangeas\"],[\"60-stem Gerberas\"],[\"Tranquil Garden Bouquet\"],[\"Bright and Beautiful Birthday Arrangement\"],[\"30-stem Calla Lilies and 75-stem Roses\"],[\"Wildflower Floral Arrangement\"],[\"Soft Grace Wedding Collection\"],[\"Wedding Variety Collection\"],[\"40-stem Calla Lilies and 20-stem Hydrangea\"],[\"Boutonnieres & Wrist Corsages, 16-count\"],[\"True Beauty Floral Arrangement\"],[\"Orange Sorbet Wedding Package\"],[\"Blush Wedding Collection\"],[\"Vacaville Fruit Company 56 oz  Dried Fruit & Nut Wooden Gift Tray\"],[\"The Fruit Company Classic 5-box Tower\"],[\"David's Cookies Brownie and Cookie Combo Pack\"],[\"Tsar Nicoulai Classic White Sturgeon Caviar 2 oz Gift Set\"],[\"Healthy Snack Box, 65-piece\"],[\"Office Favorites Snack Box, 66-piece\"],[\"Isabelle Pineapple Cakes 27.1 oz, 3-count\"],[\"Movie Marathon Gourmet Popcorn Gift Set \"],[\"D'Artagnan 13-piece Gourmet Roasting Ham & Luxury Charcuterie Gift Box, 12.5 lbs\"],[\"The Balanced Company, Healthy Snack Box, 50-piece\"],[\"Vacaville Dried Mixed Fruit, 34 oz\"],[\"Lunar New Year Basket\"],[\"Borgo de Medici Luxury Truffle Tray Set\"],[\"Mediterranean Handmade Baklava Bundle with Honey 2-pack 1.98 lbs each\"],[\"The Fruit Company's Savory Charcuterie Box\"],[\"Dorm Room Snack Box, 68-piece\"],[\"Tea Forte Lotus Spa Bundle, 25 Tea Packs and One Cup\"],[\"The Fruit Company's Columbia River Fruit Basket\"],[\"Godiva Valentine\\u2019s Day Radiant Red Gift Basket\"],[\"Jacques Torres Assorted Chocolate Small Hat Box\"],[\"The Fruit Company \\\"Thank You\\\" Fruit Basket\"],[\"The Fruit Company Vintage Crate with Pears & Apples\"],[\"Traditions Tea Teapot Tower Gift Set\"],[\"Jacques Torres Assorted Chocolate Large Hat Box\"],[\"D'Artagnan Extreme American Wagyu Burger Lovers Bundle 12 Total Packs, 6 Lbs. Total\"],[\"Cheryl's Cookies 24-count Assorted Valentine's Day Cookies \"],[\"Best of Dewey\\u2019s Bakery Gift Box\"],[\"Chocolate Covered Company Premium Dried Fruit & Mendiant Gift Tray\"],[\"The Fruit Company Royal Comice Pears, 15-count\"],[\"Heaton Pecans Roasted Salted Pecans, Chocolate Covered Pecans, Praline Pecan Tin 2.3 lb Total \"],[\"eat.art Salt and Spice Set 2-pack\"],[\"Godiva Valentine\\u2019s Day Gift Tower\"],[\"Stonewall Kitchen Ultimate Breakfast Gift Set\"],[\"Plaza Osetra Farmed Bulgarian Sturgeon Caviar, 2 oz Gift Set\"],[\"Sanders Dark Chocolate Peppermint Sea Salt Caramel 2-pack (36 oz)\"],[\"Mrs. Fields Special Occasions Cookie Tin\"],[\"Heaton Pecans Roasted & Salted Pecans Tin 2.5 lbs\"],[\"TRE Olive Oil Calabrian Gift Box\"],[\"Tsar Nicoulai Estate Classic White Sturgeon Caviar 2 oz, 3-pack\"],[\"Mrs. Fields Get Well Soon Bear & Cookie Crate\"],[\"Stonewall Kitchen New England Morning Batter Bowl Gift Set\"],[\"Our Heroes' Care Pack \"],[\"Heaton Pecans Large Square Chocolate Covered Pecan Tin 3.75 lbs\"],[\"Joe & Seph's Factory Tin Gourmet Popcorn, 2-pack\"],[\"Collin Street Bakery\\u2019s Medium Sprinkle-Top DeLuxe Fruitcake, 2-pack\"],[\"Best of Hawaii Gift Set\"],[\"Plaza Osetra Farmed Bulgarian Sturgeon Caviar, 8.8 oz \"],[\"Popcornopolis Ultimate Classic Assorted Tall Cones, Variety, 24-count\"],[\"Plaza Golden Osetra 2 oz Caviar Gift Set\"],[\"The Fruit Company \\\"Happy Birthday\\\" Fruit Basket\"],[\"TRE Olive Merenda Gift Box\"],[\"Austin Cake Ball Catering Assortment 48 Cake Balls\"],[\"Tsar Nicoulai Baerii Caviar 2 oz, 3-pack\"],[\"Heaton Pecans Praline Pecans Tin 3 lbs. \"],[\"The Popcorn Factory 4 Gallon Valentines Day Popcorn Tin\"],[\"Plaza Golden Osetra Caviar, 8.8 oz\"],[\"Pacific Plaza Golden Osetra Caviar 2 oz, 2-pack\"],[\"Damn, Man Executive Deluxe Box Snack Collection\"],[\"Valentine\\u2019s Day Teddy Bear Tote\"],[\"Chocolate Covered Company Valentine's Day Belgian 6 Chocolate Covered Strawberries and 6 Mini Cheesecake Pops\"],[\"5 High Sweet Heart Valentine's Day Tower\"],[\"Sugarfina Vice Cafe Candy Bento Box 8 Small Cube\"],[\"Jacques Torres 14 oz. Assorted Hot Chocolate Tin & Candy Cane Hot Chocolate Tin\"],[\"Sugarfina 4 Large Cube Variety Pack\"],[\"Mrs. Fields Happy Valentine's Day Cookie Combo Tin\"],[\"D\\u2019Artagnan Ultimate Steak Lovers Gift Box, 6 Total Packs, 4.25 Lbs. Total\"],[\"Plaza Osetra Kilo Caviar Pack\"],[\"Plaza Golden Osetra Caviar Kilo Pack, 35.2 oz\"],[\"Ferrara's Bakery 2 lb Italian Cookie Tray and Struffoli\"],[\"Around the World 15 oz Spicy Nuts, 2-pack Tin, Total 30 oz\"],[\"Old Fashioned Whiskey Time & Snacks Gift Set \"],[\"Kirkland Signature Mature Formula Chicken, Rice and Egg Dog Food 40 lb.\"],[\"Kirkland Signature Chicken and Rice Cat Food 25 lbs.\"],[\"Kirkland Signature Puppy Formula Chicken, Rice and Vegetable Dog Food 20 lb.\"],[\"Kirkland Signature Small Formula Chicken & Vegetable Dog Food 20 lb.\"],[\"Kirkland Signature Rwandan Coffee 3 lb, 2-pack\"],[\"Kirkland Signature Nature's Domain Puppy Formula Chicken & Pea Dog Food 20 lb.\"],[\"Kirkland Signature Adult Formula Lamb, Rice and Vegetable Dog Food 40 lb.\"],[\"Kirkland Signature Adult Formula Chicken, Rice and Vegetable Dog Food, 40 lbs\"],[\"Kirkland Signature Sumatran Whole Bean Coffee 3 lb, 2-pack\"],[\"Kirkland Signature Nature's Domain Salmon & Sweet Potato Formula Dog Food, 35 lbs\"],[\"Kirkland Signature Costa Rica Coffee 3 lb, 2-pack\"],[\"Kirkland Signature Healthy Weight Cat Food 20 lbs.\"],[\"Whole Wheel Parmigiano Reggiano, 72 lbs. \"],[\"Kirkland Signature Nitrile Exam Gloves, 400-count\"],[\"Kirkland Signature Nature's Domain Beef & Sweet Potato Dog Food 35 lb.\"],[\"Kirkland Signature Nature's Domain Cat Food 18 lbs.\"],[\"Kirkland Signature Dental Chews, 72-count\"],[\"Kirkland Signature Guatemalan Coffee 3 lb, 2-pack\"],[\"Nellie\\u2019s Laundry Starter Pack\"],[\"Nellie\\u2019s Baby Laundry Soda, 500 Loads\"],[\"Nellie's Laundry Nuggets, 350 Loads\"],[\"Nellie's Laundry Soda, 800 Loads\"],[\"ECOS HE Laundry Detergent Sheets, Free & Clear, 100 Loads, 100 Sheets, 2-count\"],[\"ECOS HE Liquid Laundry Detergent, Magnolia & Lily, 210 Loads, 210 fl oz, 2-count\"],[\"Boulder Clean Laundry Detergent Sheets, Free & Clear, 160 Loads, 80 Sheets\"],[\"ECOS HE Liquid Laundry Detergent, Free & Clear, 210 Loads, 210 fl oz, 2-count\"],[\"The Unscented Company HE Liquid Laundry Detergent Bottle & Refill Box, 478 Loads, 403.82 fl oz\"],[\"Boulder Clean Liquid Laundry Detergent, Citrus Breeze, 200 loads, 200 fl oz\"],[\"The Unscented Company Laundry Tabs, 300 Loads\"],[\"Nellie\\u2019s Bulk Oxygen Brightener, 8.75 lbs\"],[\"Nellie's Lamby Dryerballs, 4-count, 2-pack\"],[\"The Unscented Company Dryer Balls, 6-count\"],[\"Crescent Foods Halal Hand-Cut Beef, Chicken Combo Pack - 14 Total Packs, 13.5 Lbs. Total\"],[\"Farmer Focus Organic Boneless\\u002fSkinless Chicken Breasts, (20\\u002f8 Oz. Per Breast), 20 Total Count, 10 Lbs. Total\"],[\"D\\u2019Artagnan Green Circle Chicken - Boneless & Skinless Breasts, 12 Total Packs, 11 Lbs. Total\"],[\"Northwest Fish 4-6 Whole Dungeness Crab, 10 lbs\"],[\"Quality Ethnic Foods Halal Chicken Variety Pack (Drumsticks, Tenders, Boneless Breast), 12 Total Packs, 12 Lbs. Total\"],[\"Premium Seafood Variety Pack - 20 Total Packs, Total 12.5 Lbs.\"],[\"D'Artagnan Heritage Breed (6\\u002f3.25 Lbs. Per Whole Chicken), Total 6 Packs, 19.5 Lbs. Total\"],[\"Chicago Steak - Steak & Cake - Filet Mignon, Crab Cakes, and Steak Burgers, Total 13 Packs, 6.5 Lbs. Total\"],[\"Northwest Fish Colossal Alaskan Wild Dungeness Crab Sections, 10lbs\"],[\"Mila Chicken Xiao Long Bao Soup Dumplings - 50 Dumplings Per Bag, 3 Bags Total\"],[\"D'Artagnan Extreme American Wagyu Burger Lovers Bundle 12 Total Packs, 6 Lbs. Total\"],[\"Texas Tamale Co. Chicken Tamales 6-pack of 12 each, 72-count\"],[\"Northwest Fish Wild Alaskan Sockeye Salmon Cheddar Bacon Burger Patties, 24-count, 9 lbs\"],[\"Coastal Seafood Frozen Lobster Tails 12 Count (6 - 8  oz.)\"],[\"D'Artagnan 13-piece Gourmet Roasting Ham & Luxury Charcuterie Gift Box, 12.5 lbs\"],[\"Northwest Fish Alaskan Bairdi Snow Crab Sections, (10-14 \\u002f 13 Oz. Per Pack), Total 10 Lbs.\"],[\"Rastelli Bone-In Premium Pork Rib Steak, (16\\u002f8 Oz. Per Steak), 16 Total Count, 8 Lbs. Total \"],[\"Mila Pork Xiao Long Bao Soup Dumplings - 50 Dumplings Per Bag, 3 Bags Total\"],[\"Rastelli USDA Choice Boneless Black Angus Prime Rib Roast, 1 Total Pack, 7 Lbs. Total\"],[\"Silver Fern Farms 100% New Zealand Grass-Fed, Net Carbon Zero Steak Box - 10 Total Packs, 6.25 Lbs. Total\"],[\"Authentic Wagyu Surf & Turf Pack, (2\\u002f17-20 Oz. Cold Water Lobster Tails with  (2\\u002f14 Oz.Per Steak) Japanese A5 Wagyu Ribeye Steaks\"],[\"D\\u2019Artagnan Gourmet Steak & Burger Grill Pack, 20 Total Packs, 16 Lbs. Total\"],[\"Rastelli Market Fresh Jumbo Lump Crab Cakes (20\\u002f4 Oz. Per Crab Cake), 20 Total Count, 5 Lbs. Total\"],[\"Rastelli Petite Filet Mignon & Jumbo Lump Crab Cake Surf & Turf, 24 Total Packs, 6.75 Total Lbs.\"],[\"Chicago Steak Premium Angus Beef Surf & Turf, 15 Total Packs, 7 Lbs. Total\"],[\"Chicago Steak Premium Angus Beef Burger Flight, Total 29 Packs, 14 Lbs. Total\"],[\"Authentic Wagyu Kurobuta Applewood Smoked Thick Cut Bacon, 1 Pack, 3 Lbs. Total\"],[\"Northwest Red King Salmon Portions, 12 Total Count, 1 Case Totaling 6 Lbs.\"],[\"D\\u2019Artagnan Antibiotic Free Bone-in Beef Ribeye Roast, 1 Total Pack, 19 Lbs. Total\"],[\"Rastelli's Pork Ribeye Steaks - (20\\u002f6 Oz Per Portion), 20 Total Packs, 7.5 Lbs. Total\"],[\"Chicago Steak USDA Prime Surf & Turf, Total 14 Packs, 7 Lbs. Total\"],[\"Northwest Fish Wild Alaskan Sockeye Salmon Fillets, 10 lbs\"],[\"Smoked New Zealand King Salmon, 1.1lb fillets, 2-count, 2.2 lbs total\"],[\"Crescent Foods Halal Hand Cut Steak Locker, 16 Total Packs, 9 Lbs. Total\"],[\"Rastelli VBites Plant-Based Vegan Meat Substitute Mega Burger 6 oz each, 24-pack, 9 lbs\"],[\"Chicago Steak Filet Mignon & Scallop Combo, 14 Total Packs, 7 Lbs. Total\"],[\" Northwest Fish Wild Alaskan Sockeye Salmon Fillets Total 25 Count, 1 Case Totaling 10 Lbs.\"],[\"A5 Wagyu Surf & Turf Pack, Cold Water Lobster Tails & Japanese A5 Wagyu Filet Mignon, Total 4 Packs\"],[\"Authentic Wagyu Japanese A5 Wagyu Sampler Pack, 3 Total Steaks, 2.1 Lbs. Total\"],[\"Japanese A5 Wagyu Ribeye Steaks, (3\\u002f16 Oz. Steaks), 3 Total Packs, 3 Lbs. Total\"],[\"Chicago Steak Premium Angus Beef Butcher Assortment , 17 Total Packs, 8 Lbs. Total\"],[\"Japanese Wagyu Center Cut New York Strip Steaks, A5 Grade, (4\\u002f12 Oz. Per Steak), 4 Total Count, 3 Lbs. Total\"],[\"Seabear Wild Sockeye & King  Smoked Salmon Fillet Duo, Total 2lbs. (1 lb each)\"],[\"Authentic Wagyu Japanese A5 Bacon Wrapped Cubes, (3\\u002f16 Cubes Per Tray), Total 3 Packs, 2.7 Lbs. Total\"],[\"Rastelli Market Fresh Angus Beef Prime Petite Filet Mignons & Wild Caught Maine Lobster Tails, 8 Total Packs, 3 Lbs. Total\"],[\"Trident Seafoods Smoked Sockeye Salmon, 2 Gift Packs\"],[\"SeaBear Smoked Salmon Gift Boxes, 6 oz, 6-pack\"],[\"Mila Variety Pack - Xiao Long Bao Soup Dumplings - 50 Dumplings Per Bag, 3 Bags Total\"],[\"Great Southern Grass Fed Beef, ABF NY Strip CC Steak,(14\\u002f12 Oz. Per Steak), 14 Total Packs, 10.5 Lbs. Total\"],[\"Pederson Natural Farms No Sugar Italian Ground Sausage 1 lb, 10-pack\"],[\"Grizzly Salmon Tartare with Citrus Marinade, (14\\u002f4 Oz Packs), 14 Total Packs, Total 3.5 Lbs.\"],[\"Rastelli\\u2019s ABF Burger Variety Pack (Wagyu, Angus, Short-Rib, Dry-Aged), 42 Total Burgers , 15 Lbs. Total\"],[\"Rastelli Antibiotic-Free Wagyu Beef Craft Burgers (24\\u002f5.5 Oz. Per Burger), 24 Total Count, 8.25 Lbs. Total\"],[\"Rastelli USDA Choice Black Angus Beef Cowboy Steaks, (8\\u002f18 Oz Per Steak), 8 Total Count, 9 Lbs. Total\"],[\"Texas Tamale Co. Pork Tamales 6pk of 12 Each, 72-count\"],[\"Sampler: Dry-Cured Acorn-Fed 100% Iberico Pork Ham and Salami and Chorizo, 4.5 oz, 3-pack\"],[\"Japanese A5 Wagyu Chuck Eye Steaks, (6\\u002f8 Oz. Steaks), 6 Total Packs, 3 Lbs. Total\"],[\"Sesame Crusted Ahi Tuna Steaks, 18 Total Packs, 1 Case Totaling 12 Lbs.\"],[\"Authentic Wagyu Japanese A5 Wagyu Top Sirloin Medallions, (8\\u002f8 Oz. Per Steak), 8 Total Packs, 4 Lbs. Total\"],[\"Fully Cooked Confit Duck Legs - (8\\u002f1 Lbs. Per Pack), 16 Legs, 8 Total Packs, 8 Lbs. Total\"],[\"Holy Grail Steak Company - Kobe A5 Grade Japanese Wagyu Strip Steaks 14 Oz, 2-Count, 1.75 Lbs. Total\"],[\"All Natural Raw Duck Legs - (8\\u002f2 Legs Per Pack, 8.5 Oz Per Leg), 16 Total Legs, 8 Total Packs, 8.5 Lbs. Total\"],[\"Aysen Coho Sashimi Quality Salmon Portions, (6 Oz. Portion Per Pack), 26 to 27 Total Packs, 10 Lbs. Total\"],[\"Quality Ethnic Foods Half Goat Meat Locker - 10 Total Packs, 15 Lbs. Total\"],[\"Japanese Wagyu New York Strip Loin Roast, A5 Grade, 11 lbs\"],[\"Japanese Wagyu Boneless Ribeye Roast, A5 Grade, 12 lbs\"],[\"Rastelli\\u2019s Antibiotic-Free Turkey Craft Burgers (32\\u002f5 Oz. Per Burger), 32 Total Packs, 10 Lbs. Total\"],[\"Aysen Coho Salmon Filets, (4\\u002f2-3 Lbs. Per Filet), 4 Total Packs, 8 Lbs. Total\"],[\"Key West Pink 16\\u002f20 Gulf Shrimp Headless Shell-On (3\\u002f2Lb Per Bag), Total 3 Packs, 6 Lbs. Total\"],[\"Authentic Wagyu Japanese A5 Chuck Roll Bulgogi Style Slices, 6 Total Packs, 3 Lbs. Total\"],[\"Japanese Wagyu Tenderloin Roast, A5 Grade, 6 lbs\"],[\"Northfork Bison Combo Pack - (Ribeye, Striploin, Stew Meat), 6 Total Packs, 4 Lbs. Total\"],[\"Japanese Wagyu, Texas Clod Heart Roast A5 Grade, 7 lbs\"],[\"Great Southern Grass Fed Beef, All Natural, Antibiotic Free, Top Sirloin Steak (20\\u002f8 Oz. Per Steak), 20 Total Packs, 10 Lbs. Total\"],[\"Great Southern Grass Fed Beef, All Natural, Antibiotic Free, Ribeye Steaks, (14\\u002f12 Oz. Each Steak), 14 Total Packs, 10.5 Lbs. Total\"],[\"D'Artagnan American Wagyu Beef Filet Mignon, 8 Total Count, 3 Lbs. Total\"],[\"Whole Cooked Cold Water Lobsters, (8-9\\u002f1.25 Lbs. Each Lobster), 1 Case Totaling 12 Lbs.\"],[\"Authentic Wagyu Japanese A5 Peeled Flat Iron, 3.8 lbs\"],[\"Texas Tamale Co. Beef Tamales 6pk of 12 Each, 72-count\"],[\"Pederson Natural Farms Antibiotic Free Uncured No Sugar Bacon, 10 oz, 16-pack\"],[\"Great Southern All Natural, Antibiotic Free, Grass Fed Beef, Filet Mignon Steak  8 oz, 20-pack, 10 lbs\"],[\"Northfork Bison Trio of Ground Meats, Total 9 Packs, 9 Lbs. Total\"],[\"Coastal Seafood Yellowfin Tuna Cubed Poke, (6\\u002f1Lbs. Per Bag), 6 Total Bags, 6 Lbs.Total\"],[\"Authentic Wagyu Japanese A5 Marinated Brisket Gyudon, (2\\u002f2 Lbs. Per Pack), 2 Total Packs, 4 Lbs. Total\"],[\"Northwest Fish Wild Alaskan Cod Loins Total 25 Count, 1 Case Totaling 10 Lbs.\"],[\"Alaska Black Cod (Sable Fish) - Individual Packed Portions (19-25\\u002f6-8 Oz. Per Portion), 1 Case Totaling 10 Lbs.\"],[\"Swift All Natural Lamb Loin Chops, (4\\u002f4 Oz. Chops Per Pack) 10 Total Packs, 10 Lbs. Total\"],[\"Coastal Seafood Live Maine Lobsters, (6\\u002f1.25 Lbs. Per Lobster) 6 Total Packs, 7.5 Lbs. Total\"],[\"Rastelli USDA Choice Black Angus Sirloin Coulotte Steak (20\\u002f6 Oz Per Steak), 20 Total Count, 7.5 Lbs. Total\"],[\"Tsar Nicoulai Caviar Sturgeon Pate 6 oz, 6-pack\"],[\"Crescent Foods Halal Hand-Cut Lamb Locker Pack - 9 Total Packs,  9 Lbs. Total\"],[\"Authentic Wagyu Boneless Ribeye Roast A5 Grade, 2 x 3 lbs, 6 lbs Total\"],[\"Cristobal Salted Cod Fillets 2 lbs, 3-pack\"],[\"Rastelli Grass Fed Frenched Lamb Racks, 24 oz, 6-pack, 9 lbs\"],[\"Halal Certified Lamb Box - (2\\u002f2 20-22 Oz. Rack of Lambs, 2\\u002f2 1.5 Lbs. Lamb Fore Shank, 1\\u002f1 3.5 Lbs. Denver Ribs) 5 Total Packs, 9.3 Lbs. Total\"],[\"Rastelli USDA Choice Black Angus NY CC Strip Steak (12\\u002f10 Oz. Per Steak), 12 Total Count, 7.5 Lbs. Total\"],[\"Rastelli Choice Black Angus Tomahawk Steaks, (4\\u002f38 Oz. Each Steak), 4 Total Count, 9.5 Lbs. Total\"],[\"Quality Ethnic Foods Halal Goat Cubes, (5\\u002f2.2 Lbs. Per Bag), Total 5 Packs, Total 11 Lbs.\"],[\"A5 Wagyu Striploin Shabu Shabu slices, Total 4 Packs, Total 2 Lbs.\"],[\"All Natural Boneless Duck Breast - (8\\u002f7 Oz. Per Duck Breast), 16 Total Breasts, 8 Total Packs, 7Lbs. Total\"],[\"Crescent Foods Halal Hand Cut Poultry Locker - 9 Total Packs, 12 Lbs. Total\"],[\"Northwest Fish Sablefish Loins, Skin on, 7 oz, 23-count, 10 lbs\"],[\"Northwest Fish Halibut Fillets, Skin-On 7-9 oz, 18-count, 10 lbs\"],[\"Authentic Wagyu Japanese A5 Wagyu Striploin Roast, 2-count, minimum 6 lbs total\"],[\"Northwest Fish U-12 Sea Scallops, 6 lbs\"],[\"American Red Snapper - Whole, Head-On, Cleaned, (5-7 Individually Vacuum Packed Portions\\u002f 1.5-2 Lbs Per Fish) - Total 10Lbs.\"],[\"D'Artagnan American Wagyu Beef Strip Steaks, 5 Total Packs, 3.75 Lbs. Total\"],[\"Rastelli USDA Choice Black Angus Filet Mignon (16\\u002f5 Oz. Per Filet Mignon), 16 Total count, 5 Lbs. Total\"],[\"Quality Halal Cut Beef Oxtail, 5 Total Packs, 11 Lbs. Total\"],[\"Northfork Bison Sirloin Steak, (10\\u002f8 Oz. Per Steak), 10 Total Count, 5 Lbs. Total\"],[\"Quality Ethnic Foods Halal Beef Variety (9\\u002f1 Lbs. Per Pack), 9 Total Packs, 9 Lbs. Total\"],[\"Whole Head On, Cleaned Branzino Fish (12-18 Oz. Per Fish), Min 7 Count, 10 Lbs. Total\"],[\"D\\u2019Artagnan Ultimate Steak Lovers Gift Box, 6 Total Packs, 4.25 Lbs. Total\"],[\"Portoro Australian Primal Beef Striploin - 1 Total Pack, Min Weight 6 Lbs.\"],[\"Northfork Bison Medallion (8\\u002f5 Oz. Per Medallion), 8 Total Packs, 2.5 Lbs. Total\"],[\"Authentic Wagyu Japanese A5 Ground Beef, 4 Total Packs, 4 Lbs.Total\"],[\"Portoro Australian Primal Beef Ribeye - 1 Pack Total, Minimum 5.7 Lbs.\"],[\"Northfork Bison Tenderloin, Total 1 Pack, 2 Lbs. Total\"],[\"D'Artagnan Whole ABF Pekin Duck, (1\\u002f5.25 Lbs. Average Per Duck), 6 Total Packs, 31.5 Lbs. Total \"],[\"El Rey Del Pulpo, Large Cooked Octopus Tentacles, 14 oz, 6-pack, 5.25 lbs\"],[\"Mahi Mahi Boneless, (26-27\\u002fSkinless 6 Oz. Portions Per Each Pack), 26-27 Total Packs, 1 Case Totaling 10 Lbs.\"],[\"Tsar Nicoulai Estate Smoked Sturgeon 6 oz, 6-count, 2.25 lbs\"],[\"Japanese Wagyu Filet Mignons Steaks, A5 Grade, (8\\u002f6 Oz. Per Steak), 8 Total Packs, 3 Lbs. Total\"],[\"Ruta Maya Organic Jiguan\\u00ed Whole Bean Coffee 5 lb\"],[\"Ruta Maya Organic Medium Roast Whole Bean Coffee 5 lb\"],[\"Jose\\u2019s 100% Organic Mayan Whole Bean Coffee 2.5 lb, 2-pack\"],[\"Made in Nature Organic Berry Fusion 24 oz, 2-pack\"],[\"Made In Nature Organic Calimyrna Figs 40 oz, 3-pack\"],[\"Ruta Maya Organic Dark Roast Coffee, 5 lbs\"],[\"Mother Earth Organic Medium Roast Coffee 2 lb, 2-pack\"],[\"Acetum Organic Apple Cider Vinegar with the Mother, 128 fl. oz.\"],[\"Namaste USDA Organic Gluten Free Perfect Sweet Brown Rice Flour Blend 48 oz  6-count\"],[\"Namaste Gluten Free Perfect Flour Blend, 6-pack\"],[\"TRE Olive Oil Calabrian Gift Box\"],[\"TRE Olive 2 Liter Extra Virgin Olive Oil\"],[\"Napa Valley Naturals USDA Organic Extra Virgin Olive Oil 25.4 oz, 6-count\"],[\"Origin 846 Unfiltered Organic Extra Virgin Olive Oil 28.6 oz, 3-pack\"],[\"Tre Olive Harvest Variety Gift Box Extra Virgin Olive Oil 3-Pack\"],[\"Manuka Health UMF 10+ (MGO 263+) Raw Manuka Honey 17.6 oz\"],[\"Terra Delyssa First Cold Press Extra Virgin Olive Oil 3L, Tin, 2-count\"],[\"Chosen Foods Avocado Oil Spray, 13.5 oz, 2-count\"],[\"Comvita UMF 25+ Special Reserve Manuka Honey 8.8 oz\"],[\"eat.art Salt and Spice Set 2-pack\"],[\"Comvita Certified UMF 5+  (MGO 83+) Raw Manuka Honey (35.2 oz)\"],[\"Namaste Gluten Free Waffle & Pancake Mix 3 lb 2-pack (6 lbs Total)\"],[\"Korean Honeyed Black Ginseng 20 Sticks\"],[\"Comvita Certified UMF 18+ (MGO 696+) Raw Manuka Honey (8.8 oz)\"],[\"Kinders Organic Garlic and  Herb with Sea Salt and Lemon 2-pack\"],[\"Jamie's Hive to Table 3.5 lbs. Full Frame Honeycomb \"],[\"Omeals Self Heating Emergency\\u002fPortable Meals 32 Pack High Protein Assortment (32 Total Servings)\"],[\"Golden Nest Premium Bird Nest Soup, Original, 75 ml Bottles, 8-count, 2-pack\"],[\"Kirkland Signature Organic Hemp Hearts, 3-pack (6 lbs Total)\"],[\"Global Gourmet 12-piece Hot Sauce Collection, 2-pack\"],[\"Jamie's Hive To Table 100% Pure Raw 12 oz. Honeycomb, 3-Pack\"],[\"Nielsen-Massey Madagascar Bourbon Pure Vanilla Bean Paste, 8 oz. \"],[\"Kirkland Signature Ground Turmeric, 12 oz., 2-count\"],[\"Kirkland Signature Organic Ground Saigon Cinnamon, 10.7 oz., 2-count\"],[\"Trufflin 8.5 oz Truffle Sriracha Hot Sauce, 3-pack\"],[\"Fresh Winter White  Truffles 2 oz\"],[\"Nielsen-Massey Madagascar Bourbon Pure Vanilla Extract, 8 oz., 2-pack \"],[\"Pure Vanilla Extract, 16 fl oz\"],[\"DJ&A Shiitake Mushroom Crisps 10.58 oz. bag, 5-pack\"],[\"Trufflehunter White Truffle Oil 2-Pack (8.45 oz each)\"],[\"Yupik Organic Hulled Hemp Hearts 2.2 lb 3-pack\"],[\"Minced Black Truffle and Sliced Black Truffle Twin Pack \"],[\"Nielsen Massey Mexican Pure Vanilla Extract, 2-pack (8 oz. each)\"],[\"Kinder's Organic Buttery Steakhouse 10.4 oz, 2-pack\"],[\"TruffleHunter Selection 5-piece Bundle \"],[\"Acetum Organic Apple Cider Vinegar with the Mother, 128 fl. oz.\"],[\"Kirkland Signature Organic Modena Balsamic Vinegar 2-pack (33.8 oz each)\"],[\"La Civetta Italian Extra Virgin Olive Oil 3L, Tins, 2-pack\"],[\"The Mazzetti Artistry Edition Balsamic Vinegar of Modena 8.45 fl oz.\"],[\"Mazzetti L'Originale Chef's Reduction with Balsamic Vinegar of Modena 2-count\"],[\"Caboo Bamboo Bath Tissue, 2-Ply, 400 Sheets, 24 Rolls\"],[\"Windsoft Bath Tissue, 2-Ply, 284 Sheets, 24 Rolls\"],[\"Marcal 100% Recycled Bath Tissue, 2-Ply, 168 Sheets, 96 Rolls\"],[\"Caboo Bamboo Paper Towels, 2-Ply, 75 Sheets, 8 Rolls\"],[\"Marcal 100% Recycled Paper Towels, 2-Ply, 140 Sheets, 24 Rolls\"],[\"Artstyle Paper Plate & Napkin Bundle, Year of the Dragon Lunar New Year, 200-count\"],[\"Artstyle Paper Plate & Napkin Bundle, Confetti Celebration, 200-count\"],[\"Kleenex Ultra Slim Wallet Facial Tissue, 3-Ply, 10-count, 36-pack\"],[\"Eco Raj 9-inch Compostable Bagasse Plate, 500-count\"],[\"Eco Raj 6-inch Compostable Bagasse Plate, 1000-count\"],[\"Eco Raj 10-inch Compostable Bagasse Plate, 500-count\"],[\"Eco Raj 12 oz Compostable Bagasse Bowl, 1000-count\"],[\"Crescent Foods Halal Hand-Cut Beef, Chicken Combo Pack - 14 Total Packs, 13.5 Lbs. Total\"],[\"Farmer Focus Organic Boneless\\u002fSkinless Chicken Breasts, (20\\u002f8 Oz. Per Breast), 20 Total Count, 10 Lbs. Total\"],[\"D\\u2019Artagnan Green Circle Chicken - Boneless & Skinless Breasts, 12 Total Packs, 11 Lbs. Total\"],[\"Fully Cooked Confit Duck Legs - (8\\u002f1 Lbs. Per Pack), 16 Legs, 8 Total Packs, 8 Lbs. Total\"],[\"All Natural Raw Duck Legs - (8\\u002f2 Legs Per Pack, 8.5 Oz Per Leg), 16 Total Legs, 8 Total Packs, 8.5 Lbs. Total\"],[\"Rastelli\\u2019s Antibiotic-Free Turkey Craft Burgers (32\\u002f5 Oz. Per Burger), 32 Total Packs, 10 Lbs. Total\"],[\"All Natural Boneless Duck Breast - (8\\u002f7 Oz. Per Duck Breast), 16 Total Breasts, 8 Total Packs, 7Lbs. Total\"],[\"D'Artagnan Whole ABF Pekin Duck, (1\\u002f5.25 Lbs. Average Per Duck), 6 Total Packs, 31.5 Lbs. Total \"],[\"Northwest Fish 4-6 Whole Dungeness Crab, 10 lbs\"],[\"Premium Seafood Variety Pack - 20 Total Packs, Total 12.5 Lbs.\"],[\"Chicago Steak - Steak & Cake - Filet Mignon, Crab Cakes, and Steak Burgers, Total 13 Packs, 6.5 Lbs. Total\"],[\"Northwest Fish Colossal Alaskan Wild Dungeness Crab Sections, 10lbs\"],[\"Northwest Fish Wild Alaskan Sockeye Salmon Cheddar Bacon Burger Patties, 24-count, 9 lbs\"],[\"Coastal Seafood Frozen Lobster Tails 12 Count (6 - 8  oz.)\"],[\"Rastelli Market Fresh Jumbo Lump Crab Cakes (20\\u002f4 Oz. Per Crab Cake), 20 Total Count, 5 Lbs. Total\"],[\"Rastelli Petite Filet Mignon & Jumbo Lump Crab Cake Surf & Turf, 24 Total Packs, 6.75 Total Lbs.\"],[\"Chicago Steak Premium Angus Beef Surf & Turf, 15 Total Packs, 7 Lbs. Total\"],[\"Northwest Red King Salmon Portions, 12 Total Count, 1 Case Totaling 6 Lbs.\"],[\"Chicago Steak USDA Prime Surf & Turf, Total 14 Packs, 7 Lbs. Total\"],[\"Northwest Fish Wild Alaskan Sockeye Salmon Fillets, 10 lbs\"],[\"Smoked New Zealand King Salmon, 1.1lb fillets, 2-count, 2.2 lbs total\"],[\"Chicago Steak Filet Mignon & Scallop Combo, 14 Total Packs, 7 Lbs. Total\"],[\" Northwest Fish Wild Alaskan Sockeye Salmon Fillets Total 25 Count, 1 Case Totaling 10 Lbs.\"],[\"A5 Wagyu Surf & Turf Pack, Cold Water Lobster Tails & Japanese A5 Wagyu Filet Mignon, Total 4 Packs\"],[\"Seabear Wild Sockeye & King  Smoked Salmon Fillet Duo, Total 2lbs. (1 lb each)\"],[\"Rastelli Market Fresh Angus Beef Prime Petite Filet Mignons & Wild Caught Maine Lobster Tails, 8 Total Packs, 3 Lbs. Total\"],[\"Trident Seafoods Smoked Sockeye Salmon, 2 Gift Packs\"],[\"SeaBear Smoked Salmon Gift Boxes, 6 oz, 6-pack\"],[\"Grizzly Salmon Tartare with Citrus Marinade, (14\\u002f4 Oz Packs), 14 Total Packs, Total 3.5 Lbs.\"],[\"Sesame Crusted Ahi Tuna Steaks, 18 Total Packs, 1 Case Totaling 12 Lbs.\"],[\"Aysen Coho Sashimi Quality Salmon Portions, (6 Oz. Portion Per Pack), 26 to 27 Total Packs, 10 Lbs. Total\"],[\"Aysen Coho Salmon Filets, (4\\u002f2-3 Lbs. Per Filet), 4 Total Packs, 8 Lbs. Total\"],[\"Key West Pink 16\\u002f20 Gulf Shrimp Headless Shell-On (3\\u002f2Lb Per Bag), Total 3 Packs, 6 Lbs. Total\"],[\"Whole Cooked Cold Water Lobsters, (8-9\\u002f1.25 Lbs. Each Lobster), 1 Case Totaling 12 Lbs.\"],[\"Northwest Fish Wild Alaskan Cod Loins Total 25 Count, 1 Case Totaling 10 Lbs.\"],[\"Alaska Black Cod (Sable Fish) - Individual Packed Portions (19-25\\u002f6-8 Oz. Per Portion), 1 Case Totaling 10 Lbs.\"],[\"Coastal Seafood Live Maine Lobsters, (6\\u002f1.25 Lbs. Per Lobster) 6 Total Packs, 7.5 Lbs. Total\"],[\"Tsar Nicoulai Caviar Sturgeon Pate 6 oz, 6-pack\"],[\"Cristobal Salted Cod Fillets 2 lbs, 3-pack\"],[\"Northwest Fish Sablefish Loins, Skin on, 7 oz, 23-count, 10 lbs\"],[\"Northwest Fish Halibut Fillets, Skin-On 7-9 oz, 18-count, 10 lbs\"],[\"Northwest Fish U-12 Sea Scallops, 6 lbs\"],[\"American Red Snapper - Whole, Head-On, Cleaned, (5-7 Individually Vacuum Packed Portions\\u002f 1.5-2 Lbs Per Fish) - Total 10Lbs.\"],[\"Whole Head On, Cleaned Branzino Fish (12-18 Oz. Per Fish), Min 7 Count, 10 Lbs. Total\"],[\"El Rey Del Pulpo, Large Cooked Octopus Tentacles, 14 oz, 6-pack, 5.25 lbs\"],[\"Mahi Mahi Boneless, (26-27\\u002fSkinless 6 Oz. Portions Per Each Pack), 26-27 Total Packs, 1 Case Totaling 10 Lbs.\"],[\"Tsar Nicoulai Estate Smoked Sturgeon 6 oz, 6-count, 2.25 lbs\"],[\"G2G 3-pack Peanut Butter & Jelly Protein Bars, 24-count\"],[\"St Michel Madeleine, Classic French Sponge Cake 100 - count\"],[\"No Sugar Keto Bar (12 count) 2-pack Chocolate Peanut Butter\"],[\"Ready Protein Bar, Chocolate Peanut Butter and Sea Salt, 24-count, 2 pack\"],[\"Shrimp Chips with Garlic and Butter 16 oz 2-pack\"],[\"G2G 3-pack Almond Chocolate Chip Protein Bars, 24-count\"],[\"Savanna Orchards Honey Roasted Nut & Pistachios 30 oz, 2-pack\"],[\"G2G Protein Bar Variety 3-pack (24 Total Bars)\"],[\"Movie Marathon Gourmet Popcorn Gift Set \"],[\"Sonoma Creamery Pepper Jack Crisps, 10 oz\"],[\"Mary Macleod's Gluten Free Shortbread Cookies Mixed Assortment 8-Pack \"],[\"The Gluten Free Brothers Variety Bites, 6 count\"],[\"No Sugar Keto Bar Chocolate Chip Cookie Dough  (12-count) 2-Pack \"],[\"No Sugar Keto Bar Chocolate Mint (12-count) 2-Pack \"],[\"No Sugar Shellz Dark Chocolatey Caramel Pecan 25-count, 2-pack\"],[\"Made in Nature USDA Organic Dried Mangos 28 oz  3-pack\"],[\"Made in Nature Organic Berry Fusion 24 oz, 2-pack\"],[\"No Sugar Keto Bar (12-count) 2-pack Cookies & Cream\"],[\"Savanna Honey Roasted Mix Nuts, 30 oz, 2-pack\"],[\"Popcornopolis Ultimate Classic Assorted Tall Cones, Variety, 24-count\"],[\"No Sugar Keto Bar (12-count) 2-pack  Chocolate Fudge Brownie\"],[\"Island Princess Macadamia Popcorn Crunch 24 oz 2-pack\"],[\"Made in Nature USDA Organic Goji Berries 20 oz 2-pack\"],[\"Made In Nature Organic Calimyrna Figs 40 oz, 3-pack\"],[\"Made in Nature USDA Organic Dates 40 oz, 2-pack\"],[\"Mayorga Organic Chia Seeds, USDA Organic, NON-Gmo verified, 3lb, 2-pack\"],[\"Prevail Variety Grass Fed Beef Jerky 10-pack\"],[\"Prevail Original Grass Fed Beef Jerky 10-pack\"],[\"Cherry Bay Orchards No-Added-Sugar Dried Montmorency Cherries 8 oz Bag 2-pack\"],[\"Hoody's Roasted Unsalted Peanuts 20 lbs, 4-pack\"],[\"Our Heroes' Care Pack \"],[\"Around the World 15 oz Spicy Nuts, 2-pack Tin, Total 30 oz\"],[\"Le Chic Patissier, Original Stroopwafels , 2.77 lb, 3-pack\"],[\"Genius Gourmet Variety Crispy Protein Treat, 30-count\"],[\"Savanna Orchards Country Club Mix 30 oz 2-count\"]],\"hovertemplate\":\"Discount Status=Full Price\\u003cbr\\u003ePrice=%{x}\\u003cbr\\u003eRating=%{y}\\u003cbr\\u003eTitle=%{customdata[0]}\\u003cextra\\u003e\\u003c\\u002fextra\\u003e\",\"legendgroup\":\"Full Price\",\"marker\":{\"color\":\"red\",\"opacity\":0.4,\"symbol\":\"circle\"},\"mode\":\"markers\",\"name\":\"Full Price\",\"orientation\":\"v\",\"showlegend\":true,\"x\":[56.99,159.99,44.99,39.99,59.99,59.99,74.99,59.99,29.99,159.99,62.99,299.99,54.99,54.99,89.99,59.99,49.99,159.99,99.99,89.99,24.99,39.99,72.99,119.99,109.99,99.99,34.99,59.99,89.99,54.99,32.99,34.99,39.99,49.99,34.99,549.99,69.99,99.99,139.99,159.99,99.99,69.99,74.99,54.99,99.99,24.99,39.99,89.99,24.49,36.99,29.99,29.99,49.99,18.99,54.99,32.99,44.99,32.99,46.99,34.99,34.99,34.99,42.99,34.99,39.99,54.99,42.99,42.99,54.99,89.99,84.99,89.99,38.99,38.99,29.99,38.99,36.99,29.89,54.99,39.99,22.99,24.99,41.99,74.99,199.99,49.99,59.99,23.99,29.99,18.49,47.99,24.99,22.99,34.99,26.99,34.99,43.99,33.99,39.99,21.99,34.99,89.99,29.99,19.99,18.99,42.99,37.99,44.99,37.99,29.99,39.99,47.99,44.99,99.99,44.99,56.99,44.99,34.99,39.99,39.99,39.99,36.99,29.99,59.99,34.99,59.99,59.99,44.99,39.99,39.99,39.99,39.99,44.99,39.99,39.99,42.99,119.99,89.99,199.99,649.99,1.0,124.99,249.99,249.99,279.99,249.99,199.99,169.99,549.99,1.0,379.99,59.99,249.99,49.99,74.99,46.99,49.99,59.99,49.99,54.99,49.99,55.99,49.99,59.99,99.99,59.99,49.99,43.99,99.99,49.99,109.99,109.99,49.99,56.99,64.99,49.99,69.99,49.99,46.99,59.99,49.99,57.99,56.99,49.99,69.99,49.99,42.99,43.99,109.99,58.99,52.99,52.99,179.99,74.99,45.99,59.99,64.99,69.99,43.99,45.99,119.99,46.99,219.99,84.99,109.99,129.99,55.99,219.99,219.99,39.99,49.99,29.99,119.99,44.99,39.99,49.99,39.99,199.99,49.99,34.99,69.99,59.99,39.99,99.99,39.99,49.99,89.99,79.99,69.99,69.99,59.99,39.99,149.99,159.99,34.99,49.99,59.99,49.99,39.99,44.99,49.99,89.99,124.99,34.99,46.99,54.99,79.99,199.99,54.99,59.99,56.99,59.99,39.99,79.99,109.99,379.99,109.99,169.99,69.99,69.99,89.99,249.99,59.99,49.99,549.99,279.99,79.99,49.99,59.99,34.99,59.99,59.99,69.99,46.99,229.99,1.0,1.0,59.99,59.99,69.99,52.99,36.99,32.99,32.99,37.99,32.99,52.99,49.99,44.99,52.99,37.99,32.99,949.99,27.99,52.99,36.99,36.99,42.99,54.99,89.99,84.99,89.99,38.99,38.99,29.99,38.99,54.99,24.99,74.99,43.99,39.99,34.99,159.99,149.99,139.99,209.99,99.99,349.99,169.99,199.99,219.99,99.99,159.99,89.99,119.99,229.99,199.99,299.99,199.99,99.99,199.99,129.99,339.99,399.99,199.99,349.99,239.99,219.99,89.99,179.99,429.99,114.99,299.99,219.99,109.99,199.99,99.99,249.99,229.99,379.99,369.99,469.99,219.99,469.99,64.99,249.99,189.99,59.99,79.99,99.99,249.99,89.99,129.99,199.99,109.99,299.99,89.99,64.99,329.99,269.99,449.99,179.99,529.99,149.99,169.99,169.99,999.99,1.0,99.99,199.99,119.99,239.99,999.99,139.99,549.99,249.99,239.99,399.99,259.99,399.99,89.99,119.99,299.99,129.99,159.99,189.99,169.99,269.99,179.99,179.99,149.99,59.99,159.99,549.99,69.97,349.99,139.99,209.99,329.99,99.99,229.99,179.99,149.99,269.99,249.99,569.99,219.99,189.99,299.99,219.99,159.99,149.99,129.99,139.99,229.99,249.99,139.99,129.99,259.99,139.99,219.99,159.99,249.99,79.99,649.99,47.99,44.99,44.99,39.99,49.99,44.99,39.99,27.99,74.99,56.99,79.99,39.99,79.99,29.99,59.99,29.99,64.99,21.99,349.99,44.99,49.99,27.99,109.99,59.99,21.99,69.99,229.99,99.99,54.99,49.99,44.99,36.99,19.99,19.99,36.99,349.99,49.99,16.99,49.99,37.99,56.99,49.99,54.99,21.99,79.99,27.99,44.99,79.99,36.99,19.99,28.79,26.99,56.99,28.79,62.99,28.99,23.99,22.49,57.99,52.99,72.99,79.99,159.99,149.99,139.99,179.99,149.99,99.99,179.99,219.99,209.99,349.99,199.99,219.99,119.99,229.99,199.99,349.99,239.99,179.99,299.99,219.99,109.99,249.99,229.99,379.99,64.99,189.99,59.99,79.99,129.99,269.99,169.99,199.99,119.99,259.99,169.99,269.99,179.99,59.99,69.97,269.99,249.99,219.99,189.99,139.99,159.99,249.99,79.99,49.99,44.99,42.99,54.99,27.99,49.99,38.99,49.99,39.99,11.99,49.99,24.99,42.99,42.99,42.99,64.99,39.99,42.99,42.99,109.99,42.99,59.99,39.99,49.99,32.99,36.99,49.99,49.99,24.99,39.99,56.99,59.99,54.99,39.99,32.99],\"xaxis\":\"x\",\"y\":[4.3,5.0,4.1,4.7,4.5,4.4,4.7,4.4,4.4,5.0,4.0,3.0,4.7,4.6,4.6,4.5,4.2,1.5,3.6,3.0,4.7,4.3,4.3,2.2,4.2,4.0,4.5,4.2,3.0,4.8,5.0,4.5,4.0,4.8,4.7,3.6,4.0,4.1,3.8,4.3,5.0,4.9,4.3,4.7,4.0,4.0,4.8,4.2,3.7,4.7,4.8,4.9,4.7,4.7,4.7,4.0,2.5,3.4,4.6,4.6,4.7,4.6,3.0,4.7,4.2,4.0,3.4,3.8,4.6,4.7,4.3,4.8,4.6,4.7,4.4,4.7,3.3,4.7,4.2,3.7,4.6,4.5,4.9,2.3,4.5,4.4,4.4,3.7,4.8,4.6,4.1,4.7,4.7,3.8,4.7,3.8,4.5,4.7,4.7,4.7,4.9,4.8,4.5,4.5,4.4,4.0,4.7,4.7,4.7,4.6,4.5,4.7,4.7,4.7,4.7,4.7,4.6,3.9,4.7,4.6,4.6,4.3,4.1,4.2,4.6,4.5,4.3,4.7,4.5,4.6,3.7,4.6,4.8,4.5,4.4,4.4,4.5,4.2,4.5,4.6,5.0,4.5,4.5,4.4,4.4,4.2,4.5,4.5,4.7,4.6,4.6,3.9,4.5,4.0,4.6,4.3,4.2,4.2,3.7,4.2,3.9,3.9,3.9,4.4,4.4,4.5,4.1,4.3,4.2,3.9,4.7,4.7,3.5,4.1,4.4,4.3,3.9,4.1,4.4,4.4,4.0,4.4,4.2,4.0,4.1,4.3,3.9,4.2,4.8,4.5,4.2,4.3,3.8,4.6,4.2,4.7,4.4,4.5,4.2,4.4,3.7,4.3,4.5,4.7,3.7,4.3,4.2,4.6,4.4,4.7,4.5,4.4,4.5,4.5,4.4,4.7,4.1,4.5,4.1,4.7,4.5,4.4,4.2,4.6,4.6,4.8,4.5,4.3,3.7,4.4,4.5,4.5,5.0,4.5,4.6,4.5,3.8,4.4,4.5,5.0,4.5,4.8,4.5,4.4,4.4,4.3,4.8,4.5,4.6,4.8,4.8,4.6,4.2,4.4,4.5,4.6,4.7,4.5,4.4,5.0,4.4,4.4,4.0,4.4,4.7,4.4,4.2,4.6,4.2,4.3,4.1,4.0,4.0,3.9,4.4,4.6,5.0,4.2,3.2,5.0,4.5,4.6,4.5,4.7,4.7,4.6,4.6,4.6,4.7,4.6,4.7,4.5,4.6,4.8,4.6,4.5,4.7,4.4,4.6,4.7,4.3,4.8,4.6,4.7,4.4,4.7,4.2,4.5,2.3,4.5,4.7,4.9,4.2,4.5,4.4,4.2,4.3,4.4,3.0,4.5,4.0,4.0,4.5,3.5,3.5,4.6,4.5,4.2,4.7,4.5,4.3,4.4,1.0,4.3,3.9,4.2,4.6,4.7,3.1,3.4,4.6,4.4,4.5,4.5,4.1,4.5,4.2,4.6,4.4,4.4,4.2,3.4,4.5,4.4,4.4,2.6,4.2,4.5,4.4,4.5,4.6,4.2,4.0,4.4,4.5,3.9,4.0,5.0,3.8,4.6,3.7,4.5,4.0,4.7,1.0,3.0,4.6,4.6,4.4,4.4,4.5,4.1,4.5,4.7,4.4,4.2,4.4,3.9,2.8,4.2,4.0,4.4,4.2,4.7,4.0,4.1,4.4,4.8,4.5,2.9,4.1,4.1,4.9,4.1,4.5,4.6,4.9,4.3,4.6,4.2,4.4,4.6,4.7,4.3,4.1,4.5,4.4,4.7,3.3,4.3,3.6,4.1,4.0,4.3,4.4,5.0,3.8,4.0,3.8,4.3,4.5,4.5,4.8,4.2,4.7,4.7,4.7,4.6,4.4,4.6,4.8,4.5,4.7,4.6,4.8,4.8,4.7,4.5,4.2,4.7,4.8,4.3,4.5,4.3,5.0,4.7,5.0,4.5,4.7,4.4,4.5,4.3,4.4,4.9,3.7,3.9,4.7,4.7,4.9,3.3,4.1,4.8,4.7,4.4,4.4,4.7,4.1,4.5,4.6,3.4,4.7,4.8,4.6,4.7,4.6,4.4,3.1,2.7,4.1,3.7,5.0,4.7,4.7,4.7,3.7,3.5,5.0,4.2,4.5,4.4,4.5,4.7,4.4,4.6,4.5,4.2,4.4,4.5,4.0,3.5,4.6,3.9,4.2,4.6,3.4,4.5,4.5,4.1,4.6,4.4,4.4,4.4,4.2,4.5,4.4,4.0,4.6,1.0,4.4,4.5,2.8,4.4,4.8,2.9,4.1,4.5,4.3,4.1,4.4,4.7,4.3,4.5,4.8,4.2,5.0,4.1,4.2,4.5,4.7,5.0,4.7,4.8,4.1,4.6,4.2,4.4,3.7,3.4,4.7,4.5,4.4,4.0,4.6,4.7,4.3,2.8,4.6,4.6,4.5,4.7,4.2,4.5,4.0,4.6,4.8,3.2,4.6,4.4,4.6],\"yaxis\":\"y\",\"type\":\"scatter\"},{\"customdata\":[[\"Pulp & Press Organic Cold-Pressed Wellness Shot Pack, 48-pack\"],[\"Kirkland Signature Bottled Water 16.9 fl oz, 40-count, 48 Case Pallet\"],[\"Pulp and Press 3-Day Organic Cold Pressed Juice Cleanse\"],[\"NuTrail Keto Nut Granola Blueberry Cinnamon 2-Pack (22 oz each)\"],[\"Nellie\\u2019s Laundry Soda, 400 Loads\"],[\"Scotch-Brite Lint Roller, 95-count, 5-pack\"],[\"San Francisco French Roast Whole Bean Coffee 3 lb, 2-pack\"],[\"Tsar Nicoulai Baerii Caviar 2 oz. Gift Set\"],[\"Plaza Osetra Farmed Bulgarian Sturgeon Caviar 2 oz, 3-pack\"],[\"Tsar Nicoulai Estate White Sturgeon Caviar 4.4 oz\"],[\"Plaza Osetra Farmed Bulgarian Sturgeon Caviar 2 oz, 3-pack\"],[\"Dewey\\u2019s Bakery Celebration Gift Box\"],[\"Tsar Nicoulai Estate White Sturgeon Caviar 4.4 oz\"],[\"Tsar Nicoulai Baerii Caviar 2 oz. Gift Set\"],[\"Kirkland Signature Super B-Complex with Electrolytes, 500 Tablets\"],[\"Nellie\\u2019s Laundry Soda, 400 Loads\"],[\"Scotch-Brite Lint Roller, 95-count, 5-pack\"],[\"Ahi Tuna Individual Vacuum Packed Portion (26-27\\u002f6 Oz. Per Portion), 26-27 Total Packs, 10 Lbs. Total Case\"],[\"Alaska Home Pack Frozen Sea Cucumber - 3 Packs, 7 Lbs. Total\"],[\"Northfork Ground Bison - (10\\u002f1 Lb. Per Pack), 10 Total Packs, 10 Lbs. Total\"],[\"Northfork Elk Burger (30\\u002f5.33 Oz Per Burger), 10 Total Packs, 30-Count\"],[\"Kansas City Steak Company USDA Choice Combo Pack (4 Strips, 4 Filet Mignon, 4 Ribeyes), 12 Total Packs, 11.5 Lbs. Total\"],[\"Northfork Bison Burger (30\\u002f5.33 Oz Per Burger), 10 Total Packs, 30-Count\"],[\"Manuka Health UMF 20+ (MGO 850+) Raw Manuka Honey\\u00a08.8 oz\"],[\"Full Thread Greek Saffron 14 Gram Jar\"],[\"Ahi Tuna Individual Vacuum Packed Portion (26-27\\u002f6 Oz. Per Portion), 26-27 Total Packs, 10 Lbs. Total Case\"],[\"Alaska Home Pack Frozen Sea Cucumber - 3 Packs, 7 Lbs. Total\"],[\"G2G 3-pack Peanut Butter Chocolate Chip Protein Bars 24-count\"],[\"G2G 3-pack Peanut Butter Coconut Chocolate Protein Bars 24-count\"]],\"hovertemplate\":\"Discount Status=Discounted\\u003cbr\\u003ePrice=%{x}\\u003cbr\\u003eRating=%{y}\\u003cbr\\u003eTitle=%{customdata[0]}\\u003cextra\\u003e\\u003c\\u002fextra\\u003e\",\"legendgroup\":\"Discounted\",\"marker\":{\"color\":\"green\",\"opacity\":0.4,\"symbol\":\"circle\"},\"mode\":\"markers\",\"name\":\"Discounted\",\"orientation\":\"v\",\"showlegend\":true,\"x\":[99.99,439.99,89.99,28.99,42.99,17.89,34.99,99.99,199.99,149.99,199.99,49.99,149.99,99.99,15.99,42.99,17.89,149.99,239.99,109.99,109.99,279.99,109.99,59.99,59.99,149.99,239.99,39.99,39.99],\"xaxis\":\"x2\",\"y\":[4.5,4.3,4.4,4.8,4.8,4.7,4.8,4.4,4.6,4.4,4.6,4.5,4.4,4.4,4.7,4.8,4.7,4.6,4.0,4.7,4.6,4.8,4.6,4.6,4.7,4.6,4.0,4.7,4.8],\"yaxis\":\"y2\",\"type\":\"scatter\"}],                        {\"template\":{\"data\":{\"barpolar\":[{\"marker\":{\"line\":{\"color\":\"white\",\"width\":0.5},\"pattern\":{\"fillmode\":\"overlay\",\"size\":10,\"solidity\":0.2}},\"type\":\"barpolar\"}],\"bar\":[{\"error_x\":{\"color\":\"#2a3f5f\"},\"error_y\":{\"color\":\"#2a3f5f\"},\"marker\":{\"line\":{\"color\":\"white\",\"width\":0.5},\"pattern\":{\"fillmode\":\"overlay\",\"size\":10,\"solidity\":0.2}},\"type\":\"bar\"}],\"carpet\":[{\"aaxis\":{\"endlinecolor\":\"#2a3f5f\",\"gridcolor\":\"#C8D4E3\",\"linecolor\":\"#C8D4E3\",\"minorgridcolor\":\"#C8D4E3\",\"startlinecolor\":\"#2a3f5f\"},\"baxis\":{\"endlinecolor\":\"#2a3f5f\",\"gridcolor\":\"#C8D4E3\",\"linecolor\":\"#C8D4E3\",\"minorgridcolor\":\"#C8D4E3\",\"startlinecolor\":\"#2a3f5f\"},\"type\":\"carpet\"}],\"choropleth\":[{\"colorbar\":{\"outlinewidth\":0,\"ticks\":\"\"},\"type\":\"choropleth\"}],\"contourcarpet\":[{\"colorbar\":{\"outlinewidth\":0,\"ticks\":\"\"},\"type\":\"contourcarpet\"}],\"contour\":[{\"colorbar\":{\"outlinewidth\":0,\"ticks\":\"\"},\"colorscale\":[[0.0,\"#0d0887\"],[0.1111111111111111,\"#46039f\"],[0.2222222222222222,\"#7201a8\"],[0.3333333333333333,\"#9c179e\"],[0.4444444444444444,\"#bd3786\"],[0.5555555555555556,\"#d8576b\"],[0.6666666666666666,\"#ed7953\"],[0.7777777777777778,\"#fb9f3a\"],[0.8888888888888888,\"#fdca26\"],[1.0,\"#f0f921\"]],\"type\":\"contour\"}],\"heatmapgl\":[{\"colorbar\":{\"outlinewidth\":0,\"ticks\":\"\"},\"colorscale\":[[0.0,\"#0d0887\"],[0.1111111111111111,\"#46039f\"],[0.2222222222222222,\"#7201a8\"],[0.3333333333333333,\"#9c179e\"],[0.4444444444444444,\"#bd3786\"],[0.5555555555555556,\"#d8576b\"],[0.6666666666666666,\"#ed7953\"],[0.7777777777777778,\"#fb9f3a\"],[0.8888888888888888,\"#fdca26\"],[1.0,\"#f0f921\"]],\"type\":\"heatmapgl\"}],\"heatmap\":[{\"colorbar\":{\"outlinewidth\":0,\"ticks\":\"\"},\"colorscale\":[[0.0,\"#0d0887\"],[0.1111111111111111,\"#46039f\"],[0.2222222222222222,\"#7201a8\"],[0.3333333333333333,\"#9c179e\"],[0.4444444444444444,\"#bd3786\"],[0.5555555555555556,\"#d8576b\"],[0.6666666666666666,\"#ed7953\"],[0.7777777777777778,\"#fb9f3a\"],[0.8888888888888888,\"#fdca26\"],[1.0,\"#f0f921\"]],\"type\":\"heatmap\"}],\"histogram2dcontour\":[{\"colorbar\":{\"outlinewidth\":0,\"ticks\":\"\"},\"colorscale\":[[0.0,\"#0d0887\"],[0.1111111111111111,\"#46039f\"],[0.2222222222222222,\"#7201a8\"],[0.3333333333333333,\"#9c179e\"],[0.4444444444444444,\"#bd3786\"],[0.5555555555555556,\"#d8576b\"],[0.6666666666666666,\"#ed7953\"],[0.7777777777777778,\"#fb9f3a\"],[0.8888888888888888,\"#fdca26\"],[1.0,\"#f0f921\"]],\"type\":\"histogram2dcontour\"}],\"histogram2d\":[{\"colorbar\":{\"outlinewidth\":0,\"ticks\":\"\"},\"colorscale\":[[0.0,\"#0d0887\"],[0.1111111111111111,\"#46039f\"],[0.2222222222222222,\"#7201a8\"],[0.3333333333333333,\"#9c179e\"],[0.4444444444444444,\"#bd3786\"],[0.5555555555555556,\"#d8576b\"],[0.6666666666666666,\"#ed7953\"],[0.7777777777777778,\"#fb9f3a\"],[0.8888888888888888,\"#fdca26\"],[1.0,\"#f0f921\"]],\"type\":\"histogram2d\"}],\"histogram\":[{\"marker\":{\"pattern\":{\"fillmode\":\"overlay\",\"size\":10,\"solidity\":0.2}},\"type\":\"histogram\"}],\"mesh3d\":[{\"colorbar\":{\"outlinewidth\":0,\"ticks\":\"\"},\"type\":\"mesh3d\"}],\"parcoords\":[{\"line\":{\"colorbar\":{\"outlinewidth\":0,\"ticks\":\"\"}},\"type\":\"parcoords\"}],\"pie\":[{\"automargin\":true,\"type\":\"pie\"}],\"scatter3d\":[{\"line\":{\"colorbar\":{\"outlinewidth\":0,\"ticks\":\"\"}},\"marker\":{\"colorbar\":{\"outlinewidth\":0,\"ticks\":\"\"}},\"type\":\"scatter3d\"}],\"scattercarpet\":[{\"marker\":{\"colorbar\":{\"outlinewidth\":0,\"ticks\":\"\"}},\"type\":\"scattercarpet\"}],\"scattergeo\":[{\"marker\":{\"colorbar\":{\"outlinewidth\":0,\"ticks\":\"\"}},\"type\":\"scattergeo\"}],\"scattergl\":[{\"marker\":{\"colorbar\":{\"outlinewidth\":0,\"ticks\":\"\"}},\"type\":\"scattergl\"}],\"scattermapbox\":[{\"marker\":{\"colorbar\":{\"outlinewidth\":0,\"ticks\":\"\"}},\"type\":\"scattermapbox\"}],\"scatterpolargl\":[{\"marker\":{\"colorbar\":{\"outlinewidth\":0,\"ticks\":\"\"}},\"type\":\"scatterpolargl\"}],\"scatterpolar\":[{\"marker\":{\"colorbar\":{\"outlinewidth\":0,\"ticks\":\"\"}},\"type\":\"scatterpolar\"}],\"scatter\":[{\"fillpattern\":{\"fillmode\":\"overlay\",\"size\":10,\"solidity\":0.2},\"type\":\"scatter\"}],\"scatterternary\":[{\"marker\":{\"colorbar\":{\"outlinewidth\":0,\"ticks\":\"\"}},\"type\":\"scatterternary\"}],\"surface\":[{\"colorbar\":{\"outlinewidth\":0,\"ticks\":\"\"},\"colorscale\":[[0.0,\"#0d0887\"],[0.1111111111111111,\"#46039f\"],[0.2222222222222222,\"#7201a8\"],[0.3333333333333333,\"#9c179e\"],[0.4444444444444444,\"#bd3786\"],[0.5555555555555556,\"#d8576b\"],[0.6666666666666666,\"#ed7953\"],[0.7777777777777778,\"#fb9f3a\"],[0.8888888888888888,\"#fdca26\"],[1.0,\"#f0f921\"]],\"type\":\"surface\"}],\"table\":[{\"cells\":{\"fill\":{\"color\":\"#EBF0F8\"},\"line\":{\"color\":\"white\"}},\"header\":{\"fill\":{\"color\":\"#C8D4E3\"},\"line\":{\"color\":\"white\"}},\"type\":\"table\"}]},\"layout\":{\"annotationdefaults\":{\"arrowcolor\":\"#2a3f5f\",\"arrowhead\":0,\"arrowwidth\":1},\"autotypenumbers\":\"strict\",\"coloraxis\":{\"colorbar\":{\"outlinewidth\":0,\"ticks\":\"\"}},\"colorscale\":{\"diverging\":[[0,\"#8e0152\"],[0.1,\"#c51b7d\"],[0.2,\"#de77ae\"],[0.3,\"#f1b6da\"],[0.4,\"#fde0ef\"],[0.5,\"#f7f7f7\"],[0.6,\"#e6f5d0\"],[0.7,\"#b8e186\"],[0.8,\"#7fbc41\"],[0.9,\"#4d9221\"],[1,\"#276419\"]],\"sequential\":[[0.0,\"#0d0887\"],[0.1111111111111111,\"#46039f\"],[0.2222222222222222,\"#7201a8\"],[0.3333333333333333,\"#9c179e\"],[0.4444444444444444,\"#bd3786\"],[0.5555555555555556,\"#d8576b\"],[0.6666666666666666,\"#ed7953\"],[0.7777777777777778,\"#fb9f3a\"],[0.8888888888888888,\"#fdca26\"],[1.0,\"#f0f921\"]],\"sequentialminus\":[[0.0,\"#0d0887\"],[0.1111111111111111,\"#46039f\"],[0.2222222222222222,\"#7201a8\"],[0.3333333333333333,\"#9c179e\"],[0.4444444444444444,\"#bd3786\"],[0.5555555555555556,\"#d8576b\"],[0.6666666666666666,\"#ed7953\"],[0.7777777777777778,\"#fb9f3a\"],[0.8888888888888888,\"#fdca26\"],[1.0,\"#f0f921\"]]},\"colorway\":[\"#636efa\",\"#EF553B\",\"#00cc96\",\"#ab63fa\",\"#FFA15A\",\"#19d3f3\",\"#FF6692\",\"#B6E880\",\"#FF97FF\",\"#FECB52\"],\"font\":{\"color\":\"#2a3f5f\"},\"geo\":{\"bgcolor\":\"white\",\"lakecolor\":\"white\",\"landcolor\":\"white\",\"showlakes\":true,\"showland\":true,\"subunitcolor\":\"#C8D4E3\"},\"hoverlabel\":{\"align\":\"left\"},\"hovermode\":\"closest\",\"mapbox\":{\"style\":\"light\"},\"paper_bgcolor\":\"white\",\"plot_bgcolor\":\"white\",\"polar\":{\"angularaxis\":{\"gridcolor\":\"#EBF0F8\",\"linecolor\":\"#EBF0F8\",\"ticks\":\"\"},\"bgcolor\":\"white\",\"radialaxis\":{\"gridcolor\":\"#EBF0F8\",\"linecolor\":\"#EBF0F8\",\"ticks\":\"\"}},\"scene\":{\"xaxis\":{\"backgroundcolor\":\"white\",\"gridcolor\":\"#DFE8F3\",\"gridwidth\":2,\"linecolor\":\"#EBF0F8\",\"showbackground\":true,\"ticks\":\"\",\"zerolinecolor\":\"#EBF0F8\"},\"yaxis\":{\"backgroundcolor\":\"white\",\"gridcolor\":\"#DFE8F3\",\"gridwidth\":2,\"linecolor\":\"#EBF0F8\",\"showbackground\":true,\"ticks\":\"\",\"zerolinecolor\":\"#EBF0F8\"},\"zaxis\":{\"backgroundcolor\":\"white\",\"gridcolor\":\"#DFE8F3\",\"gridwidth\":2,\"linecolor\":\"#EBF0F8\",\"showbackground\":true,\"ticks\":\"\",\"zerolinecolor\":\"#EBF0F8\"}},\"shapedefaults\":{\"line\":{\"color\":\"#2a3f5f\"}},\"ternary\":{\"aaxis\":{\"gridcolor\":\"#DFE8F3\",\"linecolor\":\"#A2B1C6\",\"ticks\":\"\"},\"baxis\":{\"gridcolor\":\"#DFE8F3\",\"linecolor\":\"#A2B1C6\",\"ticks\":\"\"},\"bgcolor\":\"white\",\"caxis\":{\"gridcolor\":\"#DFE8F3\",\"linecolor\":\"#A2B1C6\",\"ticks\":\"\"}},\"title\":{\"x\":0.05},\"xaxis\":{\"automargin\":true,\"gridcolor\":\"#EBF0F8\",\"linecolor\":\"#EBF0F8\",\"ticks\":\"\",\"title\":{\"standoff\":15},\"zerolinecolor\":\"#EBF0F8\",\"zerolinewidth\":2},\"yaxis\":{\"automargin\":true,\"gridcolor\":\"#EBF0F8\",\"linecolor\":\"#EBF0F8\",\"ticks\":\"\",\"title\":{\"standoff\":15},\"zerolinecolor\":\"#EBF0F8\",\"zerolinewidth\":2}}},\"xaxis\":{\"anchor\":\"y\",\"domain\":[0.0,0.475],\"title\":{\"text\":\"Price After Discount in $\"},\"matches\":\"x\"},\"yaxis\":{\"anchor\":\"x\",\"domain\":[0.0,1.0],\"title\":{\"text\":\"Customer Ratings (0\\u20135 Scale)\"},\"range\":[0,5]},\"xaxis2\":{\"anchor\":\"y2\",\"domain\":[0.525,1.0],\"matches\":\"x\",\"title\":{\"text\":\"Price After Discount in $\"}},\"yaxis2\":{\"anchor\":\"x2\",\"domain\":[0.0,1.0],\"matches\":\"y\",\"showticklabels\":false,\"title\":{\"text\":\"\"}},\"annotations\":[{\"font\":{},\"showarrow\":false,\"text\":\"Discount Status=Full Price\",\"x\":0.2375,\"xanchor\":\"center\",\"xref\":\"paper\",\"y\":1.0,\"yanchor\":\"bottom\",\"yref\":\"paper\"},{\"font\":{},\"showarrow\":false,\"text\":\"Discount Status=Discounted\",\"x\":0.7625,\"xanchor\":\"center\",\"xref\":\"paper\",\"y\":1.0,\"yanchor\":\"bottom\",\"yref\":\"paper\"}],\"legend\":{\"title\":{\"text\":\"Discount Status\"},\"tracegroupgap\":0},\"title\":{\"text\":\"Price vs. Customer Rating by Discount\"},\"height\":600},                        {\"responsive\": true}                    ).then(function(){\n",
       "                            \n",
       "var gd = document.getElementById('622e8057-6fc1-4614-b88a-83e00f964815');\n",
       "var x = new MutationObserver(function (mutations, observer) {{\n",
       "        var display = window.getComputedStyle(gd).display;\n",
       "        if (!display || display === 'none') {{\n",
       "            console.log([gd, 'removed!']);\n",
       "            Plotly.purge(gd);\n",
       "            observer.disconnect();\n",
       "        }}\n",
       "}});\n",
       "\n",
       "// Listen for the removal of the full notebook cells\n",
       "var notebookContainer = gd.closest('#notebook-container');\n",
       "if (notebookContainer) {{\n",
       "    x.observe(notebookContainer, {childList: true});\n",
       "}}\n",
       "\n",
       "// Listen for the clearing of the current output cell\n",
       "var outputEl = gd.closest('.output');\n",
       "if (outputEl) {{\n",
       "    x.observe(outputEl, {childList: true});\n",
       "}}\n",
       "\n",
       "                        })                };                });            </script>        </div>"
      ]
     },
     "metadata": {},
     "output_type": "display_data"
    }
   ],
   "source": [
    "fig = px.scatter(\n",
    "    df,\n",
    "    x=\"Price\",  \n",
    "    y=\"Rating\",\n",
    "    color=\"Discount Status\",\n",
    "    facet_col=\"Discount Status\",\n",
    "    facet_col_spacing=0.05,\n",
    "    opacity=0.4,\n",
    "    template=\"plotly_white\",\n",
    "    color_discrete_map={\"Discounted\": \"green\", \"Full Price\": \"red\"},\n",
    "    hover_data=[\"Title\", \"Price\", \"Rating\"],\n",
    "    title=\"Price vs. Customer Rating by Discount\"\n",
    ")\n",
    "\n",
    "fig.update_layout(height=600, yaxis_range=[0, 5])\n",
    "fig.update_xaxes(matches='x', title_text=\"Price After Discount in $\")\n",
    "fig.for_each_yaxis(lambda y: y.update(title_text=\"\"))\n",
    "fig.layout.yaxis.title = \"Customer Ratings (0–5 Scale)\"\n",
    "\n",
    "fig.show()"
   ]
  },
  {
   "cell_type": "code",
   "execution_count": null,
   "id": "8658aead-9bb6-4ae7-b33a-89082d7c09e3",
   "metadata": {},
   "outputs": [],
   "source": []
  }
 ],
 "metadata": {
  "kernelspec": {
   "display_name": "Python 3 (ipykernel)",
   "language": "python",
   "name": "python3"
  },
  "language_info": {
   "codemirror_mode": {
    "name": "ipython",
    "version": 3
   },
   "file_extension": ".py",
   "mimetype": "text/x-python",
   "name": "python",
   "nbconvert_exporter": "python",
   "pygments_lexer": "ipython3",
   "version": "3.11.7"
  }
 },
 "nbformat": 4,
 "nbformat_minor": 5
}
